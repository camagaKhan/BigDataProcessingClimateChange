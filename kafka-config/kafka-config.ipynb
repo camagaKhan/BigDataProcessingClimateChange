{
 "cells": [
  {
   "attachments": {},
   "cell_type": "markdown",
   "metadata": {},
   "source": [
    "# Create the Kafka topics using python-kafka\n",
    "\n",
    "In the following code blocks, I create **Kafka Topics** using the library ```kafka-python```"
   ]
  },
  {
   "cell_type": "code",
   "execution_count": 1,
   "metadata": {},
   "outputs": [],
   "source": [
    "from kafka.admin import KafkaAdminClient, NewTopic\n",
    "\n",
    "admin_client = KafkaAdminClient(\n",
    "    bootstrap_servers = 'localhost:9092',\n",
    "    client_id = 'climatechange'\n",
    ")"
   ]
  },
  {
   "cell_type": "code",
   "execution_count": 2,
   "metadata": {},
   "outputs": [
    {
     "data": {
      "text/plain": [
       "CreateTopicsResponse_v3(throttle_time_ms=0, topic_errors=[(topic='ghg_data', error_code=0, error_message=None), (topic='temperature', error_code=0, error_message=None)])"
      ]
     },
     "execution_count": 2,
     "metadata": {},
     "output_type": "execute_result"
    }
   ],
   "source": [
    "topic_list = [\n",
    "    NewTopic(name='ghg_data', num_partitions=1, replication_factor=1),\n",
    "    NewTopic(name='temperature', num_partitions=1, replication_factor=1)\n",
    "]\n",
    "\n",
    "admin_client.create_topics(new_topics=topic_list, validate_only=False)"
   ]
  }
 ],
 "metadata": {
  "kernelspec": {
   "display_name": "base",
   "language": "python",
   "name": "python3"
  },
  "language_info": {
   "codemirror_mode": {
    "name": "ipython",
    "version": 3
   },
   "file_extension": ".py",
   "mimetype": "text/x-python",
   "name": "python",
   "nbconvert_exporter": "python",
   "pygments_lexer": "ipython3",
   "version": "3.9.16"
  },
  "orig_nbformat": 4
 },
 "nbformat": 4,
 "nbformat_minor": 2
}
