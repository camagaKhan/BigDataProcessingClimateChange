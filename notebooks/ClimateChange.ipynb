{
 "cells": [
  {
   "cell_type": "code",
   "execution_count": 1,
   "metadata": {},
   "outputs": [
    {
     "name": "stdout",
     "output_type": "stream",
     "text": [
      "PySpark found\n"
     ]
    }
   ],
   "source": [
    "from scripts.StreamProcessing import Stream_Data # found in the scripts folder inside StreamProcessing.py. This class uses PySpark"
   ]
  },
  {
   "attachments": {},
   "cell_type": "markdown",
   "metadata": {},
   "source": [
    "### A note on block [4]\n",
    "\n",
    "These might take a while as PySpark attempts to download some additional files"
   ]
  },
  {
   "cell_type": "code",
   "execution_count": 4,
   "metadata": {},
   "outputs": [
    {
     "name": "stderr",
     "output_type": "stream",
     "text": [
      "23/05/07 15:51:55 WARN ResolveWriteToStream: Temporary checkpoint location created which is deleted normally when the query didn't fail: /tmp/temporary-0b581336-574e-450e-bc9f-72ee69ea9ced. If it's required to delete it under any circumstances, please set spark.sql.streaming.forceDeleteTempCheckpointLocation to true. Important to know deleting temp checkpoint folder is best effort.\n",
      "23/05/07 15:51:55 WARN ResolveWriteToStream: spark.sql.adaptive.enabled is not supported in streaming DataFrames/Datasets and will be disabled.\n",
      "23/05/07 15:51:55 WARN AdminClientConfig: The configuration 'key.deserializer' was supplied but isn't a known config.\n",
      "23/05/07 15:51:55 WARN AdminClientConfig: The configuration 'value.deserializer' was supplied but isn't a known config.\n",
      "23/05/07 15:51:55 WARN AdminClientConfig: The configuration 'enable.auto.commit' was supplied but isn't a known config.\n",
      "23/05/07 15:51:55 WARN AdminClientConfig: The configuration 'max.poll.records' was supplied but isn't a known config.\n",
      "23/05/07 15:51:55 WARN AdminClientConfig: The configuration 'auto.offset.reset' was supplied but isn't a known config.\n",
      "                                                                                \r"
     ]
    },
    {
     "name": "stdout",
     "output_type": "stream",
     "text": [
      "-------------------------------------------\n",
      "Batch: 0\n",
      "-------------------------------------------\n",
      "+--------------------+--------------------+--------+---------+------+--------------------+-------------+\n",
      "|                 key|               value|   topic|partition|offset|           timestamp|timestampType|\n",
      "+--------------------+--------------------+--------+---------+------+--------------------+-------------+\n",
      "|[9D 29 89 7B C9 F...|[7B 22 5C 75 66 6...|ghg_data|        0|     0|2023-05-07 15:25:...|            0|\n",
      "|[E5 04 70 A8 62 9...|[7B 22 5C 75 66 6...|ghg_data|        0|     1|2023-05-07 15:25:...|            0|\n",
      "|[2E 24 7E 77 4B 1...|[7B 22 5C 75 66 6...|ghg_data|        0|     2|2023-05-07 15:25:...|            0|\n",
      "|[A7 96 DA 63 FD 8...|[7B 22 5C 75 66 6...|ghg_data|        0|     3|2023-05-07 15:25:...|            0|\n",
      "|[6B E1 67 EC F3 4...|[7B 22 5C 75 66 6...|ghg_data|        0|     4|2023-05-07 15:25:...|            0|\n",
      "|[01 36 DB E0 4B 8...|[7B 22 5C 75 66 6...|ghg_data|        0|     5|2023-05-07 15:25:...|            0|\n",
      "|[6F 7B 74 3D DF C...|[7B 22 5C 75 66 6...|ghg_data|        0|     6|2023-05-07 15:25:...|            0|\n",
      "|[86 79 0A 4A C9 7...|[7B 22 5C 75 66 6...|ghg_data|        0|     7|2023-05-07 15:25:...|            0|\n",
      "|[C6 49 56 CE 05 6...|[7B 22 5C 75 66 6...|ghg_data|        0|     8|2023-05-07 15:25:...|            0|\n",
      "|[88 68 BC 91 82 D...|[7B 22 5C 75 66 6...|ghg_data|        0|     9|2023-05-07 15:25:...|            0|\n",
      "|[54 1C 83 5D DB 3...|[7B 22 5C 75 66 6...|ghg_data|        0|    10|2023-05-07 15:25:...|            0|\n",
      "|[E2 0E C5 1C F6 A...|[7B 22 5C 75 66 6...|ghg_data|        0|    11|2023-05-07 15:25:...|            0|\n",
      "|[EE 66 BE 03 EF E...|[7B 22 5C 75 66 6...|ghg_data|        0|    12|2023-05-07 15:25:...|            0|\n",
      "|[01 B4 5B 99 9E 4...|[7B 22 5C 75 66 6...|ghg_data|        0|    13|2023-05-07 15:25:...|            0|\n",
      "|[C4 58 51 17 DE 6...|[7B 22 5C 75 66 6...|ghg_data|        0|    14|2023-05-07 15:25:...|            0|\n",
      "|[A9 59 88 E8 7D 5...|[7B 22 5C 75 66 6...|ghg_data|        0|    15|2023-05-07 15:25:...|            0|\n",
      "|[1B 6C 32 2E 5D 0...|[7B 22 5C 75 66 6...|ghg_data|        0|    16|2023-05-07 15:25:...|            0|\n",
      "|[0C 00 88 92 85 9...|[7B 22 5C 75 66 6...|ghg_data|        0|    17|2023-05-07 15:25:...|            0|\n",
      "|[6F E9 76 14 64 4...|[7B 22 5C 75 66 6...|ghg_data|        0|    18|2023-05-07 15:25:...|            0|\n",
      "|[93 D8 E1 94 17 2...|[7B 22 5C 75 66 6...|ghg_data|        0|    19|2023-05-07 15:25:...|            0|\n",
      "+--------------------+--------------------+--------+---------+------+--------------------+-------------+\n",
      "only showing top 20 rows\n",
      "\n"
     ]
    },
    {
     "name": "stderr",
     "output_type": "stream",
     "text": [
      "23/05/07 18:03:21 WARN TransportChannelHandler: Exception in connection from /192.168.6.27:40961\n",
      "java.io.IOException: Connection timed out\n",
      "\tat java.base/sun.nio.ch.FileDispatcherImpl.read0(Native Method)\n",
      "\tat java.base/sun.nio.ch.SocketDispatcher.read(SocketDispatcher.java:39)\n",
      "\tat java.base/sun.nio.ch.IOUtil.readIntoNativeBuffer(IOUtil.java:276)\n",
      "\tat java.base/sun.nio.ch.IOUtil.read(IOUtil.java:233)\n",
      "\tat java.base/sun.nio.ch.IOUtil.read(IOUtil.java:223)\n",
      "\tat java.base/sun.nio.ch.SocketChannelImpl.read(SocketChannelImpl.java:358)\n",
      "\tat io.netty.buffer.PooledByteBuf.setBytes(PooledByteBuf.java:259)\n",
      "\tat io.netty.buffer.AbstractByteBuf.writeBytes(AbstractByteBuf.java:1132)\n",
      "\tat io.netty.channel.socket.nio.NioSocketChannel.doReadBytes(NioSocketChannel.java:357)\n",
      "\tat io.netty.channel.nio.AbstractNioByteChannel$NioByteUnsafe.read(AbstractNioByteChannel.java:151)\n",
      "\tat io.netty.channel.nio.NioEventLoop.processSelectedKey(NioEventLoop.java:788)\n",
      "\tat io.netty.channel.nio.NioEventLoop.processSelectedKeysOptimized(NioEventLoop.java:724)\n",
      "\tat io.netty.channel.nio.NioEventLoop.processSelectedKeys(NioEventLoop.java:650)\n",
      "\tat io.netty.channel.nio.NioEventLoop.run(NioEventLoop.java:562)\n",
      "\tat io.netty.util.concurrent.SingleThreadEventExecutor$4.run(SingleThreadEventExecutor.java:997)\n",
      "\tat io.netty.util.internal.ThreadExecutorMap$2.run(ThreadExecutorMap.java:74)\n",
      "\tat io.netty.util.concurrent.FastThreadLocalRunnable.run(FastThreadLocalRunnable.java:30)\n",
      "\tat java.base/java.lang.Thread.run(Thread.java:834)\n"
     ]
    }
   ],
   "source": [
    "# Initialize the Stream_Data Class using the topic name/s established in the kafka-config/kafka-config.ipynb and add the host of your kafka instance in the host parameter\n",
    "temperature_config = Stream_Data(topics='temperature,ghg_data', host='localhost:9092')\n",
    "temperatures = temperature_config.getData()\n",
    "#temperatures"
   ]
  },
  {
   "cell_type": "code",
   "execution_count": null,
   "metadata": {},
   "outputs": [],
   "source": [
    "#temperatures.printSchema()"
   ]
  },
  {
   "cell_type": "code",
   "execution_count": null,
   "metadata": {},
   "outputs": [],
   "source": [
    "# base_df = temperatures.selectExpr('key', 'value', 'topic', 'timestamp')\n",
    "# base_df.show()"
   ]
  },
  {
   "cell_type": "code",
   "execution_count": null,
   "metadata": {},
   "outputs": [],
   "source": [
    "# ghg_config = Stream_Data(topics='ghg_data', host='localhost:9092')\n",
    "# ghg_data = ghg_config.getData()\n",
    "# ghg_data"
   ]
  }
 ],
 "metadata": {
  "kernelspec": {
   "display_name": "base",
   "language": "python",
   "name": "python3"
  },
  "language_info": {
   "codemirror_mode": {
    "name": "ipython",
    "version": 3
   },
   "file_extension": ".py",
   "mimetype": "text/x-python",
   "name": "python",
   "nbconvert_exporter": "python",
   "pygments_lexer": "ipython3",
   "version": "3.9.16"
  },
  "orig_nbformat": 4
 },
 "nbformat": 4,
 "nbformat_minor": 2
}
