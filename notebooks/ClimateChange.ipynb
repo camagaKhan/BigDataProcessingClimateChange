{
 "cells": [
  {
   "cell_type": "code",
   "execution_count": 1,
   "metadata": {},
   "outputs": [
    {
     "name": "stdout",
     "output_type": "stream",
     "text": [
      "PySpark found\n"
     ]
    }
   ],
   "source": [
    "from scripts.StreamProcessing import Stream_Data, ClimateChangeDataset # found in the scripts folder inside StreamProcessing.py. This class uses PySpark"
   ]
  },
  {
   "attachments": {},
   "cell_type": "markdown",
   "metadata": {},
   "source": [
    "https://berkeleyearth.org/data/"
   ]
  },
  {
   "attachments": {},
   "cell_type": "markdown",
   "metadata": {},
   "source": [
    "### A note on block \n",
    "\n",
    "These might take a while as PySpark attempts to download some additional files"
   ]
  },
  {
   "cell_type": "code",
   "execution_count": 2,
   "metadata": {},
   "outputs": [
    {
     "name": "stdout",
     "output_type": "stream",
     "text": [
      "/media/camagakhan/DATA/Repositories/BigDataProcessing/Assignment/BigDataProcessingClimateChange/notebooks/scripts/mysql-connector-j-8.0.33.jar\n",
      "/media/camagakhan/DATA/Repositories/BigDataProcessing/Assignment/BigDataProcessingClimateChange/notebooks/scripts/graphframes-0.8.2-spark3.2-s_2.12.jar\n"
     ]
    },
    {
     "name": "stderr",
     "output_type": "stream",
     "text": [
      "23/05/17 23:11:26 WARN Utils: Your hostname, camagakhan-Inspiron-7577 resolves to a loopback address: 127.0.1.1; using 192.168.6.98 instead (on interface wlp60s0)\n",
      "23/05/17 23:11:26 WARN Utils: Set SPARK_LOCAL_IP if you need to bind to another address\n"
     ]
    },
    {
     "name": "stdout",
     "output_type": "stream",
     "text": [
      ":: loading settings :: url = jar:file:/home/camagakhan/spark-3.4.0-bin-hadoop3/jars/ivy-2.5.1.jar!/org/apache/ivy/core/settings/ivysettings.xml\n"
     ]
    },
    {
     "name": "stderr",
     "output_type": "stream",
     "text": [
      "Ivy Default Cache set to: /home/camagakhan/.ivy2/cache\n",
      "The jars for the packages stored in: /home/camagakhan/.ivy2/jars\n",
      "org.apache.spark#spark-streaming-kafka-0-10_2.12 added as a dependency\n",
      "org.apache.spark#spark-sql-kafka-0-10_2.12 added as a dependency\n",
      ":: resolving dependencies :: org.apache.spark#spark-submit-parent-cbe305f0-576d-4dfa-a054-e32dd85917ad;1.0\n",
      "\tconfs: [default]\n",
      "\tfound org.apache.spark#spark-streaming-kafka-0-10_2.12;3.2.0 in central\n",
      "\tfound org.apache.spark#spark-token-provider-kafka-0-10_2.12;3.2.0 in central\n",
      "\tfound org.apache.kafka#kafka-clients;2.8.0 in central\n",
      "\tfound org.lz4#lz4-java;1.7.1 in central\n",
      "\tfound org.xerial.snappy#snappy-java;1.1.8.4 in central\n",
      "\tfound org.slf4j#slf4j-api;1.7.30 in central\n",
      "\tfound org.apache.hadoop#hadoop-client-runtime;3.3.1 in central\n",
      "\tfound org.spark-project.spark#unused;1.0.0 in central\n",
      "\tfound org.apache.hadoop#hadoop-client-api;3.3.1 in central\n",
      "\tfound org.apache.htrace#htrace-core4;4.1.0-incubating in central\n",
      "\tfound commons-logging#commons-logging;1.1.3 in central\n",
      "\tfound com.google.code.findbugs#jsr305;3.0.0 in central\n",
      "\tfound org.apache.spark#spark-sql-kafka-0-10_2.12;3.2.0 in central\n",
      "\tfound org.apache.commons#commons-pool2;2.6.2 in central\n",
      ":: resolution report :: resolve 582ms :: artifacts dl 18ms\n",
      "\t:: modules in use:\n",
      "\tcom.google.code.findbugs#jsr305;3.0.0 from central in [default]\n",
      "\tcommons-logging#commons-logging;1.1.3 from central in [default]\n",
      "\torg.apache.commons#commons-pool2;2.6.2 from central in [default]\n",
      "\torg.apache.hadoop#hadoop-client-api;3.3.1 from central in [default]\n",
      "\torg.apache.hadoop#hadoop-client-runtime;3.3.1 from central in [default]\n",
      "\torg.apache.htrace#htrace-core4;4.1.0-incubating from central in [default]\n",
      "\torg.apache.kafka#kafka-clients;2.8.0 from central in [default]\n",
      "\torg.apache.spark#spark-sql-kafka-0-10_2.12;3.2.0 from central in [default]\n",
      "\torg.apache.spark#spark-streaming-kafka-0-10_2.12;3.2.0 from central in [default]\n",
      "\torg.apache.spark#spark-token-provider-kafka-0-10_2.12;3.2.0 from central in [default]\n",
      "\torg.lz4#lz4-java;1.7.1 from central in [default]\n",
      "\torg.slf4j#slf4j-api;1.7.30 from central in [default]\n",
      "\torg.spark-project.spark#unused;1.0.0 from central in [default]\n",
      "\torg.xerial.snappy#snappy-java;1.1.8.4 from central in [default]\n",
      "\t---------------------------------------------------------------------\n",
      "\t|                  |            modules            ||   artifacts   |\n",
      "\t|       conf       | number| search|dwnlded|evicted|| number|dwnlded|\n",
      "\t---------------------------------------------------------------------\n",
      "\t|      default     |   14  |   0   |   0   |   0   ||   14  |   0   |\n",
      "\t---------------------------------------------------------------------\n",
      ":: retrieving :: org.apache.spark#spark-submit-parent-cbe305f0-576d-4dfa-a054-e32dd85917ad\n",
      "\tconfs: [default]\n",
      "\t0 artifacts copied, 14 already retrieved (0kB/11ms)\n",
      "23/05/17 23:11:27 WARN NativeCodeLoader: Unable to load native-hadoop library for your platform... using builtin-java classes where applicable\n",
      "Setting default log level to \"WARN\".\n",
      "To adjust logging level use sc.setLogLevel(newLevel). For SparkR, use setLogLevel(newLevel).\n"
     ]
    }
   ],
   "source": [
    "# Initialize the Stream_Data Class using the topic name/s established in the kafka-config/kafka-config.ipynb and add the host of your kafka instance in the host parameter\n",
    "emissions_config = Stream_Data(topics='ghg_data', host='localhost:9092')\n",
    "e_session, query, emissions_df = emissions_config.getData()\n",
    "#temperatures"
   ]
  },
  {
   "cell_type": "code",
   "execution_count": 3,
   "metadata": {},
   "outputs": [
    {
     "name": "stdout",
     "output_type": "stream",
     "text": [
      "/media/camagakhan/DATA/Repositories/BigDataProcessing/Assignment/BigDataProcessingClimateChange/notebooks/scripts/mysql-connector-j-8.0.33.jar\n",
      "/media/camagakhan/DATA/Repositories/BigDataProcessing/Assignment/BigDataProcessingClimateChange/notebooks/scripts/graphframes-0.8.2-spark3.2-s_2.12.jar\n"
     ]
    }
   ],
   "source": [
    "# Initialize the Stream_Data Class using the topic name/s established in the kafka-config/kafka-config.ipynb and add the host of your kafka instance in the host parameter\n",
    "temperature_config = Stream_Data(topics='temperature', host='localhost:9092')\n",
    "t_session, query_temperature, temperature_df = temperature_config.getData()"
   ]
  },
  {
   "attachments": {},
   "cell_type": "markdown",
   "metadata": {},
   "source": [
    "### NOTE\n",
    "Everything is configered while initializing the PySpark Session in the ```StreamProcessing.py``` class. DO NOT remove the ```from graphframes import GraphFrame```, as the jar files are loaded while getting the data from the previous code block"
   ]
  },
  {
   "cell_type": "code",
   "execution_count": 4,
   "metadata": {},
   "outputs": [],
   "source": [
    "from graphframes import GraphFrame\n",
    "import findspark as tt\n",
    "tt.init(emissions_config.getSpark_Path()) \n",
    "from pyspark.sql import functions as F\n",
    "from pyspark.sql.functions import dense_rank\n",
    "from pyspark.sql.window import Window"
   ]
  },
  {
   "cell_type": "code",
   "execution_count": 5,
   "metadata": {},
   "outputs": [
    {
     "name": "stdout",
     "output_type": "stream",
     "text": [
      "DataFrame[REF_AREA: string, Measure: string, UNIT_MEASURE: string, TIME_PERIOD: int, OBS_VALUE: double, REF_CODE: string]\n",
      "DataFrame[Country: string, Pollutant: string, Year: int, Value: double]\n"
     ]
    }
   ],
   "source": [
    "print(temperature_df)\n",
    "print(emissions_df)"
   ]
  },
  {
   "cell_type": "code",
   "execution_count": 6,
   "metadata": {},
   "outputs": [],
   "source": [
    "temp_df = temperature_df.withColumnRenamed('REF_CODE','COUNTRY_CODE')\n",
    "ghg_df = emissions_df.withColumnRenamed('Pollutant','POL')\n",
    "\n",
    "myDataset = temp_df.join(ghg_df, (temp_df.REF_AREA == ghg_df.Country) & (temp_df.TIME_PERIOD == ghg_df.Year), 'inner')\n",
    "\n",
    "\n",
    "myDataset = myDataset.select(temp_df.COUNTRY_CODE, ghg_df.Country,ghg_df.Year, temp_df.UNIT_MEASURE, temp_df.OBS_VALUE, ghg_df.POL, ghg_df.Value)\n",
    "\n",
    "# ran into out of memory exception\n",
    "\n",
    "# We'll be assigning the country_codes as ids to map relationships"
   ]
  },
  {
   "attachments": {},
   "cell_type": "markdown",
   "metadata": {},
   "source": [
    "Store the Dataset before we attempt to use models"
   ]
  },
  {
   "cell_type": "code",
   "execution_count": 7,
   "metadata": {},
   "outputs": [],
   "source": [
    "config_train = Stream_Data(topics=None, host='localhost:9092')\n",
    "config_train.storeData('climate_change', myDataset) # we are about to store the new dataset in a mySQL table"
   ]
  },
  {
   "attachments": {},
   "cell_type": "markdown",
   "metadata": {},
   "source": [
    "# Machine Learning Section."
   ]
  },
  {
   "cell_type": "code",
   "execution_count": 8,
   "metadata": {},
   "outputs": [],
   "source": [
    "from pyspark.ml.feature import StandardScaler, VectorAssembler\n",
    "from pyspark.ml.regression import LinearRegression\n",
    "from pyspark.ml.evaluation import RegressionEvaluator\n",
    "from pyspark.ml import Pipeline"
   ]
  },
  {
   "attachments": {},
   "cell_type": "markdown",
   "metadata": {},
   "source": [
    "In the following code block we are setting up the Linear Regression to set up a model to predict the temperatures based on the given Green house Gases levels"
   ]
  },
  {
   "cell_type": "code",
   "execution_count": 27,
   "metadata": {},
   "outputs": [],
   "source": [
    "assembler = VectorAssembler(inputCols=['Partition', 'Year', 'Value'], outputCol='features')\n",
    "#scaler = StandardScaler(inputCol='features', outputCol='scaledFeatures')\n",
    "linear_regression = LinearRegression(labelCol='OBS_VALUE', featuresCol='features')\n",
    "linear_regression.setMaxIter(50)\n",
    "'''\n",
    "    Stages\n",
    "\n",
    "    1) Get the features of the model,\n",
    "    2) apply training using linear regression. This uses the OBS_VALUE (which is the temperature value) as Y\n",
    "'''\n",
    "pipeline = Pipeline(stages=[assembler, linear_regression])"
   ]
  },
  {
   "cell_type": "code",
   "execution_count": 28,
   "metadata": {},
   "outputs": [
    {
     "name": "stdout",
     "output_type": "stream",
     "text": [
      "/media/camagakhan/DATA/Repositories/BigDataProcessing/Assignment/BigDataProcessingClimateChange/notebooks/scripts/graphframes-0.8.2-spark3.2-s_2.12.jar\n",
      "+------------+--------------------+----+------------------+---------+---+-------+\n",
      "|COUNTRY_CODE|             Country|Year|      UNIT_MEASURE|OBS_VALUE|POL|  Value|\n",
      "+------------+--------------------+----+------------------+---------+---+-------+\n",
      "|         DZA|             Algeria|1995|C: Degrees celsius|    -0.08|GHG|  143.9|\n",
      "|         AUS|           Australia|2013|C: Degrees celsius|     0.89|GHG| 554.25|\n",
      "|         BHS|             Bahamas|1992|C: Degrees celsius|    -0.17|GHG|   2.79|\n",
      "|         BHS|             Bahamas|1995|C: Degrees celsius|     0.09|GHG|   2.43|\n",
      "|         BFA|        Burkina Faso|1996|C: Degrees celsius|     0.03|GHG|  27.27|\n",
      "|         BDI|             Burundi|2011|C: Degrees celsius|     0.05|GHG|   1.71|\n",
      "|         CAF|Central African R...|2014|C: Degrees celsius|     0.51|GHG|  48.84|\n",
      "|         DJI|            Djibouti|2012|C: Degrees celsius|    -0.17|GHG|   1.41|\n",
      "|         DMA|            Dominica|1991|C: Degrees celsius|    -0.24|GHG|   0.24|\n",
      "|         DEU|             Germany|1992|C: Degrees celsius|     0.39|GHG|1004.45|\n",
      "|         GTM|           Guatemala|1999|C: Degrees celsius|     -0.4|GHG|  34.17|\n",
      "|         ISR|              Israel|1999|C: Degrees celsius|     0.68|GHG|  68.94|\n",
      "|         KEN|               Kenya|2008|C: Degrees celsius|      0.3|GHG|  72.27|\n",
      "|         LBY|               Libya|2007|C: Degrees celsius|     0.54|GHG| 128.21|\n",
      "|         MWI|              Malawi|2001|C: Degrees celsius|     0.09|GHG|  12.14|\n",
      "|         MYS|            Malaysia|2012|C: Degrees celsius|     0.21|GHG| 148.39|\n",
      "|         MAR|             Morocco|2005|C: Degrees celsius|     0.27|GHG|   57.6|\n",
      "|         NRU|               Nauru|2019|C: Degrees celsius|     0.44|GHG|   0.07|\n",
      "|         NLD|         Netherlands|1998|C: Degrees celsius|     0.18|GHG| 221.68|\n",
      "|         NZL|         New Zealand|2019|C: Degrees celsius|     0.84|GHG|  72.59|\n",
      "+------------+--------------------+----+------------------+---------+---+-------+\n",
      "only showing top 20 rows\n",
      "\n"
     ]
    }
   ],
   "source": [
    "climate_change_df = ClimateChangeDataset().loadDataset()\n",
    "climate_change_df.show()"
   ]
  },
  {
   "cell_type": "code",
   "execution_count": 29,
   "metadata": {},
   "outputs": [
    {
     "name": "stdout",
     "output_type": "stream",
     "text": [
      "+------------+-----------+----+------------------+---------+---+-----+---------+\n",
      "|COUNTRY_CODE|    Country|Year|      UNIT_MEASURE|OBS_VALUE|POL|Value|Partition|\n",
      "+------------+-----------+----+------------------+---------+---+-----+---------+\n",
      "|         AFG|Afghanistan|1990|C: Degrees celsius|     0.05|GHG| 9.58|        1|\n",
      "|         AFG|Afghanistan|1991|C: Degrees celsius|    -0.96|GHG| 9.81|        2|\n",
      "|         AFG|Afghanistan|1992|C: Degrees celsius|    -1.19|GHG| 9.03|        3|\n",
      "|         AFG|Afghanistan|1993|C: Degrees celsius|    -0.67|GHG| 9.11|        4|\n",
      "|         AFG|Afghanistan|1994|C: Degrees celsius|    -0.34|GHG| 9.15|        5|\n",
      "|         AFG|Afghanistan|1995|C: Degrees celsius|    -0.46|GHG| 9.58|        6|\n",
      "|         AFG|Afghanistan|1996|C: Degrees celsius|    -0.68|GHG|10.61|        7|\n",
      "|         AFG|Afghanistan|1997|C: Degrees celsius|    -0.57|GHG|11.58|        8|\n",
      "|         AFG|Afghanistan|1998|C: Degrees celsius|     0.47|GHG| 12.4|        9|\n",
      "|         AFG|Afghanistan|1999|C: Degrees celsius|     0.38|GHG|13.28|       10|\n",
      "|         AFG|Afghanistan|2000|C: Degrees celsius|      0.4|GHG| 11.5|       11|\n",
      "|         AFG|Afghanistan|2001|C: Degrees celsius|     1.23|GHG|12.37|       12|\n",
      "|         AFG|Afghanistan|2002|C: Degrees celsius|     0.87|GHG|15.01|       13|\n",
      "|         AFG|Afghanistan|2003|C: Degrees celsius|      0.3|GHG|15.65|       14|\n",
      "|         AFG|Afghanistan|2004|C: Degrees celsius|     1.05|GHG|15.44|       15|\n",
      "|         AFG|Afghanistan|2005|C: Degrees celsius|    -0.21|GHG|16.35|       16|\n",
      "|         AFG|Afghanistan|2006|C: Degrees celsius|     1.25|GHG|16.87|       17|\n",
      "|         AFG|Afghanistan|2007|C: Degrees celsius|     0.38|GHG|17.26|       18|\n",
      "|         AFG|Afghanistan|2008|C: Degrees celsius|     0.53|GHG|20.66|       19|\n",
      "|         AFG|Afghanistan|2009|C: Degrees celsius|     0.16|GHG|22.75|       20|\n",
      "+------------+-----------+----+------------------+---------+---+-----+---------+\n",
      "only showing top 20 rows\n",
      "\n"
     ]
    }
   ],
   "source": [
    "climate_change_df = climate_change_df.withColumn('Partition', dense_rank().over(Window.partitionBy('COUNTRY_CODE').orderBy('Year')))\n",
    "climate_change_df.show()"
   ]
  },
  {
   "cell_type": "code",
   "execution_count": 30,
   "metadata": {},
   "outputs": [],
   "source": [
    "train, test = climate_change_df.randomSplit([0.8, 0.2], seed=42)"
   ]
  },
  {
   "attachments": {},
   "cell_type": "markdown",
   "metadata": {},
   "source": [
    "## Correlation between Year and Temperature (Total emissions excluding LULUCF)"
   ]
  },
  {
   "cell_type": "code",
   "execution_count": 31,
   "metadata": {},
   "outputs": [
    {
     "data": {
      "text/plain": [
       "0.5408678020383351"
      ]
     },
     "execution_count": 31,
     "metadata": {},
     "output_type": "execute_result"
    }
   ],
   "source": [
    "climate_change_df.stat.corr('Year', 'OBS_VALUE')"
   ]
  },
  {
   "attachments": {},
   "cell_type": "markdown",
   "metadata": {},
   "source": [
    "## Correlation between Year and Emissions Value ('Total emissions excluding LULUCF')"
   ]
  },
  {
   "cell_type": "code",
   "execution_count": 32,
   "metadata": {},
   "outputs": [
    {
     "data": {
      "text/plain": [
       "0.02287905746167594"
      ]
     },
     "execution_count": 32,
     "metadata": {},
     "output_type": "execute_result"
    }
   ],
   "source": [
    "climate_change_df.stat.corr('Year', 'Value')"
   ]
  },
  {
   "attachments": {},
   "cell_type": "markdown",
   "metadata": {},
   "source": [
    "## Correlation between Temperature and Emissions Value (Total emissions excluding LULUCF)"
   ]
  },
  {
   "cell_type": "code",
   "execution_count": 33,
   "metadata": {},
   "outputs": [
    {
     "data": {
      "text/plain": [
       "0.0352072251213721"
      ]
     },
     "execution_count": 33,
     "metadata": {},
     "output_type": "execute_result"
    }
   ],
   "source": [
    "climate_change_df.stat.corr('Value', 'OBS_VALUE')"
   ]
  },
  {
   "attachments": {},
   "cell_type": "markdown",
   "metadata": {},
   "source": [
    "### Dataset Analysis"
   ]
  },
  {
   "cell_type": "code",
   "execution_count": 34,
   "metadata": {},
   "outputs": [
    {
     "name": "stdout",
     "output_type": "stream",
     "text": [
      "+------------+-----------+----+------------------+---------+---+-----+---------+\n",
      "|COUNTRY_CODE|    Country|Year|      UNIT_MEASURE|OBS_VALUE|POL|Value|Partition|\n",
      "+------------+-----------+----+------------------+---------+---+-----+---------+\n",
      "|         AFG|Afghanistan|1990|C: Degrees celsius|     0.05|GHG| 9.58|        1|\n",
      "|         AFG|Afghanistan|1991|C: Degrees celsius|    -0.96|GHG| 9.81|        2|\n",
      "|         AFG|Afghanistan|1993|C: Degrees celsius|    -0.67|GHG| 9.11|        4|\n",
      "|         AFG|Afghanistan|1994|C: Degrees celsius|    -0.34|GHG| 9.15|        5|\n",
      "|         AFG|Afghanistan|1995|C: Degrees celsius|    -0.46|GHG| 9.58|        6|\n",
      "|         AFG|Afghanistan|1997|C: Degrees celsius|    -0.57|GHG|11.58|        8|\n",
      "|         AFG|Afghanistan|1999|C: Degrees celsius|     0.38|GHG|13.28|       10|\n",
      "|         AFG|Afghanistan|2000|C: Degrees celsius|      0.4|GHG| 11.5|       11|\n",
      "|         AFG|Afghanistan|2001|C: Degrees celsius|     1.23|GHG|12.37|       12|\n",
      "|         AFG|Afghanistan|2002|C: Degrees celsius|     0.87|GHG|15.01|       13|\n",
      "|         AFG|Afghanistan|2004|C: Degrees celsius|     1.05|GHG|15.44|       15|\n",
      "|         AFG|Afghanistan|2005|C: Degrees celsius|    -0.21|GHG|16.35|       16|\n",
      "|         AFG|Afghanistan|2006|C: Degrees celsius|     1.25|GHG|16.87|       17|\n",
      "|         AFG|Afghanistan|2007|C: Degrees celsius|     0.38|GHG|17.26|       18|\n",
      "|         AFG|Afghanistan|2008|C: Degrees celsius|     0.53|GHG|20.66|       19|\n",
      "|         AFG|Afghanistan|2010|C: Degrees celsius|     1.24|GHG|27.24|       21|\n",
      "|         AFG|Afghanistan|2011|C: Degrees celsius|     0.82|GHG|29.17|       22|\n",
      "|         AFG|Afghanistan|2012|C: Degrees celsius|    -0.56|GHG|28.55|       23|\n",
      "|         AFG|Afghanistan|2014|C: Degrees celsius|     0.12|GHG|26.52|       25|\n",
      "|         AFG|Afghanistan|2015|C: Degrees celsius|     0.79|GHG|26.84|       26|\n",
      "+------------+-----------+----+------------------+---------+---+-----+---------+\n",
      "only showing top 20 rows\n",
      "\n"
     ]
    }
   ],
   "source": [
    "train.show()"
   ]
  },
  {
   "cell_type": "code",
   "execution_count": 35,
   "metadata": {},
   "outputs": [],
   "source": [
    "val, test = test.randomSplit([.5, .5], seed=42)"
   ]
  },
  {
   "cell_type": "code",
   "execution_count": 36,
   "metadata": {},
   "outputs": [
    {
     "name": "stdout",
     "output_type": "stream",
     "text": [
      "+------------+-----------+----+------------------+---------+---+------+---------+\n",
      "|COUNTRY_CODE|    Country|Year|      UNIT_MEASURE|OBS_VALUE|POL| Value|Partition|\n",
      "+------------+-----------+----+------------------+---------+---+------+---------+\n",
      "|         AFG|Afghanistan|2003|C: Degrees celsius|      0.3|GHG| 15.65|       14|\n",
      "|         AGO|     Angola|1995|C: Degrees celsius|     0.31|GHG| 76.32|        6|\n",
      "|         AGO|     Angola|2007|C: Degrees celsius|     0.12|GHG| 117.2|       18|\n",
      "|         AGO|     Angola|2011|C: Degrees celsius|    -0.12|GHG|126.65|       22|\n",
      "|         ALB|    Albania|2007|C: Degrees celsius|     0.62|GHG|  7.75|       18|\n",
      "|         AND|    Andorra|2012|C: Degrees celsius|      0.4|GHG|   0.6|       23|\n",
      "|         AND|    Andorra|2017|C: Degrees celsius|     0.99|GHG|  0.59|       28|\n",
      "|         ARG|  Argentina|2000|C: Degrees celsius|    -0.67|GHG|337.38|       11|\n",
      "|         ARG|  Argentina|2004|C: Degrees celsius|     0.34|GHG|414.15|       15|\n",
      "|         ARG|  Argentina|2008|C: Degrees celsius|     0.51|GHG|449.64|       19|\n",
      "|         ARM|    Armenia|2014|C: Degrees celsius|     1.21|GHG|  9.05|       25|\n",
      "|         AUS|  Australia|2004|C: Degrees celsius|     0.07|GHG|627.56|       15|\n",
      "|         AUS|  Australia|2008|C: Degrees celsius|      0.0|GHG|608.78|       19|\n",
      "|         AUS|  Australia|2011|C: Degrees celsius|    -0.64|GHG|639.95|       22|\n",
      "|         AUS|  Australia|2016|C: Degrees celsius|     0.38|GHG|578.39|       27|\n",
      "|         AUS|  Australia|2018|C: Degrees celsius|      0.6|GHG|621.28|       29|\n",
      "|         AZE| Azerbaijan|2002|C: Degrees celsius|     0.15|GHG| 35.44|       13|\n",
      "|         BDI|    Burundi|1995|C: Degrees celsius|     0.06|GHG|  7.31|        6|\n",
      "|         BDI|    Burundi|2008|C: Degrees celsius|    -0.06|GHG|  5.94|       19|\n",
      "|         BEL|    Belgium|1998|C: Degrees celsius|     0.09|GHG|138.07|        9|\n",
      "+------------+-----------+----+------------------+---------+---+------+---------+\n",
      "only showing top 20 rows\n",
      "\n"
     ]
    }
   ],
   "source": [
    "val.show()"
   ]
  },
  {
   "cell_type": "code",
   "execution_count": 37,
   "metadata": {},
   "outputs": [
    {
     "name": "stdout",
     "output_type": "stream",
     "text": [
      "+------------+--------------------+----+------------------+---------+---+------+---------+\n",
      "|COUNTRY_CODE|             Country|Year|      UNIT_MEASURE|OBS_VALUE|POL| Value|Partition|\n",
      "+------------+--------------------+----+------------------+---------+---+------+---------+\n",
      "|         AFG|         Afghanistan|1992|C: Degrees celsius|    -1.19|GHG|  9.03|        3|\n",
      "|         AFG|         Afghanistan|1996|C: Degrees celsius|    -0.68|GHG| 10.61|        7|\n",
      "|         AFG|         Afghanistan|1998|C: Degrees celsius|     0.47|GHG|  12.4|        9|\n",
      "|         AFG|         Afghanistan|2009|C: Degrees celsius|     0.16|GHG| 22.75|       20|\n",
      "|         AFG|         Afghanistan|2013|C: Degrees celsius|     0.66|GHG| 26.77|       24|\n",
      "|         AFG|         Afghanistan|2019|C: Degrees celsius|     0.78|GHG| 28.79|       30|\n",
      "|         AGO|              Angola|2005|C: Degrees celsius|     0.47|GHG|114.87|       16|\n",
      "|         AGO|              Angola|2006|C: Degrees celsius|    -0.27|GHG|112.77|       17|\n",
      "|         AGO|              Angola|2009|C: Degrees celsius|     0.27|GHG|122.45|       20|\n",
      "|         AGO|              Angola|2015|C: Degrees celsius|     0.85|GHG|135.83|       26|\n",
      "|         ALB|             Albania|1992|C: Degrees celsius|     -0.3|GHG|  6.95|        3|\n",
      "|         ALB|             Albania|1999|C: Degrees celsius|     0.46|GHG|  8.02|       10|\n",
      "|         AND|             Andorra|2000|C: Degrees celsius|     0.52|GHG|  0.59|       11|\n",
      "|         AND|             Andorra|2016|C: Degrees celsius|     0.82|GHG|  0.59|       27|\n",
      "|         AND|             Andorra|2018|C: Degrees celsius|     0.73|GHG|  0.62|       29|\n",
      "|         ARE|United Arab Emirates|1999|C: Degrees celsius|     0.81|GHG|108.83|       10|\n",
      "|         ARE|United Arab Emirates|2001|C: Degrees celsius|     0.36|GHG|123.08|       12|\n",
      "|         ARG|           Argentina|1992|C: Degrees celsius|    -0.73|GHG|301.59|        3|\n",
      "|         ARG|           Argentina|2011|C: Degrees celsius|     0.29|GHG|416.09|       22|\n",
      "|         ARM|             Armenia|1993|C: Degrees celsius|    -1.48|GHG|  8.72|        4|\n",
      "+------------+--------------------+----+------------------+---------+---+------+---------+\n",
      "only showing top 20 rows\n",
      "\n"
     ]
    }
   ],
   "source": [
    "test.show()"
   ]
  },
  {
   "cell_type": "code",
   "execution_count": 38,
   "metadata": {},
   "outputs": [],
   "source": [
    "dataset_count = (train.count(), val.count(), test.count())"
   ]
  },
  {
   "cell_type": "code",
   "execution_count": 39,
   "metadata": {},
   "outputs": [],
   "source": [
    "import matplotlib.pyplot as plt"
   ]
  },
  {
   "attachments": {},
   "cell_type": "markdown",
   "metadata": {},
   "source": [
    "The plot shows how the dataset is split before being passed to the model."
   ]
  },
  {
   "cell_type": "code",
   "execution_count": 40,
   "metadata": {},
   "outputs": [
    {
     "data": {
      "image/png": "[encoded data removed]",
      "text/plain": [
       "<Figure size 640x480 with 1 Axes>"
      ]
     },
     "metadata": {},
     "output_type": "display_data"
    }
   ],
   "source": [
    "x_axis = ['Training \\n{0}'.format(dataset_count[0]), 'Validation \\n{0}'.format(dataset_count[1]), 'Test \\n{0}'.format(dataset_count[2])]\n",
    "y_axis = list(dataset_count)\n",
    "plt.bar(x_axis, y_axis, color=['#39C7FF', '#F7DB92', '#E898E2'])\n",
    "plt.title('Training & Test Plot')\n",
    "plt.xlabel('Dataset Type')\n",
    "plt.ylabel('Number of Records')\n",
    "plt.grid()\n",
    "plt.show()"
   ]
  },
  {
   "cell_type": "code",
   "execution_count": 41,
   "metadata": {},
   "outputs": [],
   "source": [
    "pipeline_model = pipeline.fit(train) # training the Linear Regression\n",
    "val_predictions = pipeline_model.transform(val)\n",
    "#test_predictions = pipeline_model.transform(test)"
   ]
  },
  {
   "cell_type": "code",
   "execution_count": 83,
   "metadata": {},
   "outputs": [],
   "source": [
    "test = test.na.drop() \n",
    "test_predictions = pipeline_model.transform(test)"
   ]
  },
  {
   "attachments": {},
   "cell_type": "markdown",
   "metadata": {},
   "source": [
    "For Validation"
   ]
  },
  {
   "cell_type": "code",
   "execution_count": 42,
   "metadata": {},
   "outputs": [
    {
     "name": "stdout",
     "output_type": "stream",
     "text": [
      "RMSE: 0.43305559517245895\n"
     ]
    }
   ],
   "source": [
    "evaluator = RegressionEvaluator(\n",
    "    labelCol = 'OBS_VALUE',\n",
    "    predictionCol = 'prediction',\n",
    "    metricName='rmse'\n",
    ")\n",
    "\n",
    "rmse = evaluator.evaluate(val_predictions)\n",
    "print('RMSE: {0}'.format(rmse))"
   ]
  },
  {
   "cell_type": "code",
   "execution_count": 86,
   "metadata": {},
   "outputs": [
    {
     "name": "stdout",
     "output_type": "stream",
     "text": [
      "R-squared: 0.257867474347119\n"
     ]
    }
   ],
   "source": [
    "evaluator = RegressionEvaluator(\n",
    "    labelCol = 'OBS_VALUE',\n",
    "    predictionCol = 'prediction',\n",
    "    metricName='r2'\n",
    ")\n",
    "r2 = evaluator.evaluate(val_predictions)\n",
    "print('R-squared:', r2)"
   ]
  },
  {
   "attachments": {},
   "cell_type": "markdown",
   "metadata": {},
   "source": [
    "For Test"
   ]
  },
  {
   "cell_type": "code",
   "execution_count": 84,
   "metadata": {},
   "outputs": [
    {
     "name": "stdout",
     "output_type": "stream",
     "text": [
      "RMSE: 0.42410941789432993\n"
     ]
    }
   ],
   "source": [
    "evaluator = RegressionEvaluator(\n",
    "    labelCol = 'OBS_VALUE',\n",
    "    predictionCol = 'prediction',\n",
    "    metricName='rmse'\n",
    ")\n",
    "\n",
    "rmse = evaluator.evaluate(test_predictions)\n",
    "print('RMSE: {0}'.format(rmse))"
   ]
  },
  {
   "cell_type": "code",
   "execution_count": 85,
   "metadata": {},
   "outputs": [
    {
     "name": "stdout",
     "output_type": "stream",
     "text": [
      "R-squared: 0.3218031940115833\n"
     ]
    }
   ],
   "source": [
    "evaluator = RegressionEvaluator(\n",
    "    labelCol = 'OBS_VALUE',\n",
    "    predictionCol = 'prediction',\n",
    "    metricName='r2'\n",
    ")\n",
    "r2 = evaluator.evaluate(test_predictions)\n",
    "print('R-squared:', r2)"
   ]
  },
  {
   "cell_type": "code",
   "execution_count": 44,
   "metadata": {},
   "outputs": [
    {
     "name": "stdout",
     "output_type": "stream",
     "text": [
      "Coefficients: [0.031513399006997095,0.000797336659250646,2.521981993093973e-05]\n",
      "Intercept: -1.8233873714499649\n"
     ]
    }
   ],
   "source": [
    "lr_model = pipeline_model.stages[-1]\n",
    "coefficients = lr_model.coefficients\n",
    "intercept = lr_model.intercept\n",
    "print(f\"Coefficients: {coefficients}\")\n",
    "print(f\"Intercept: {intercept}\")"
   ]
  },
  {
   "cell_type": "code",
   "execution_count": 66,
   "metadata": {},
   "outputs": [
    {
     "name": "stdout",
     "output_type": "stream",
     "text": [
      "RMSE: 0.4562016517424311\n",
      "R-squared: 0.17641606917973263\n"
     ]
    }
   ],
   "source": [
    "from sklearn.svm import SVR\n",
    "from sklearn.metrics import mean_squared_error, r2_score\n",
    "import numpy as np\n",
    "\n",
    "val2, train2 = val, train\n",
    "train2, val2 = assembler.transform(train2), assembler.transform(val2)\n",
    "train_pd = train2.select('features', 'OBS_VALUE').toPandas()\n",
    "val_pd = val2.select('features', 'OBS_VALUE').toPandas()\n",
    "\n",
    "# tried with this: max_iter=20000, epsilon=0.01\n",
    "svr = SVR()\n",
    "svr.fit(train_pd['features'].tolist(), train_pd['OBS_VALUE'])\n",
    "\n",
    "predictions = svr.predict(val_pd['features'].tolist())\n",
    "\n",
    "y_true = val_pd['OBS_VALUE'].tolist()\n",
    "\n",
    "# Calculate the RMSE\n",
    "mse = mean_squared_error(y_true, predictions)\n",
    "rmse = np.sqrt(mse)\n",
    "\n",
    "print(\"RMSE:\", rmse)\n",
    "\n",
    "# Calculate R-squared\n",
    "r2 = r2_score(y_true, predictions)\n",
    "print(\"R-squared:\", r2)"
   ]
  },
  {
   "cell_type": "code",
   "execution_count": 77,
   "metadata": {},
   "outputs": [
    {
     "name": "stdout",
     "output_type": "stream",
     "text": [
      "RMSE: 0.4561342181996718\n",
      "R-squared: 0.21551397129708016\n"
     ]
    }
   ],
   "source": [
    "test2 = test\n",
    "test2 = test2.na.drop() \n",
    "test2 = assembler.transform(test2)\n",
    "\n",
    "test_pd = test2.select('features', 'OBS_VALUE').toPandas()\n",
    "predictions = svr.predict(test_pd['features'].tolist())\n",
    "\n",
    "y_true = test_pd['OBS_VALUE'].tolist()\n",
    "\n",
    "# Calculate the RMSE\n",
    "mse = mean_squared_error(y_true, predictions)\n",
    "rmse = np.sqrt(mse)\n",
    "\n",
    "print(\"RMSE:\", rmse)\n",
    "\n",
    "# Calculate R-squared\n",
    "r2 = r2_score(y_true, predictions)\n",
    "print(\"R-squared:\", r2)"
   ]
  }
 ],
 "metadata": {
  "kernelspec": {
   "display_name": "base",
   "language": "python",
   "name": "python3"
  },
  "language_info": {
   "codemirror_mode": {
    "name": "ipython",
    "version": 3
   },
   "file_extension": ".py",
   "mimetype": "text/x-python",
   "name": "python",
   "nbconvert_exporter": "python",
   "pygments_lexer": "ipython3",
   "version": "3.9.16"
  },
  "orig_nbformat": 4
 },
 "nbformat": 4,
 "nbformat_minor": 2
}
