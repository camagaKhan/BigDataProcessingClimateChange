{
 "cells": [
  {
   "cell_type": "code",
   "execution_count": 1,
   "metadata": {},
   "outputs": [
    {
     "name": "stdout",
     "output_type": "stream",
     "text": [
      "PySpark found\n"
     ]
    }
   ],
   "source": [
    "from scripts.StreamProcessing import Stream_Data, ClimateChangeDataset # found in the scripts folder inside StreamProcessing.py. This class uses PySpark"
   ]
  },
  {
   "attachments": {},
   "cell_type": "markdown",
   "metadata": {},
   "source": [
    "https://berkeleyearth.org/data/"
   ]
  },
  {
   "attachments": {},
   "cell_type": "markdown",
   "metadata": {},
   "source": [
    "### A note on block \n",
    "\n",
    "These might take a while as PySpark attempts to download some additional files"
   ]
  },
  {
   "cell_type": "code",
   "execution_count": 2,
   "metadata": {},
   "outputs": [
    {
     "name": "stdout",
     "output_type": "stream",
     "text": [
      "/media/camagakhan/DATA/Repositories/BigDataProcessing/Assignment/BigDataProcessingClimateChange/notebooks/scripts/mysql-connector-j-8.0.33.jar\n",
      "/media/camagakhan/DATA/Repositories/BigDataProcessing/Assignment/BigDataProcessingClimateChange/notebooks/scripts/graphframes-0.8.2-spark3.2-s_2.12.jar\n"
     ]
    },
    {
     "name": "stderr",
     "output_type": "stream",
     "text": [
      "23/05/16 23:20:03 WARN Utils: Your hostname, camagakhan-Inspiron-7577 resolves to a loopback address: 127.0.1.1; using 192.168.6.71 instead (on interface wlp60s0)\n",
      "23/05/16 23:20:03 WARN Utils: Set SPARK_LOCAL_IP if you need to bind to another address\n"
     ]
    },
    {
     "name": "stdout",
     "output_type": "stream",
     "text": [
      ":: loading settings :: url = jar:file:/home/camagakhan/spark-3.4.0-bin-hadoop3/jars/ivy-2.5.1.jar!/org/apache/ivy/core/settings/ivysettings.xml\n"
     ]
    },
    {
     "name": "stderr",
     "output_type": "stream",
     "text": [
      "Ivy Default Cache set to: /home/camagakhan/.ivy2/cache\n",
      "The jars for the packages stored in: /home/camagakhan/.ivy2/jars\n",
      "org.apache.spark#spark-streaming-kafka-0-10_2.12 added as a dependency\n",
      "org.apache.spark#spark-sql-kafka-0-10_2.12 added as a dependency\n",
      ":: resolving dependencies :: org.apache.spark#spark-submit-parent-6fdcdd4e-26c8-49cf-a58f-fbbf0ea7650d;1.0\n",
      "\tconfs: [default]\n",
      "\tfound org.apache.spark#spark-streaming-kafka-0-10_2.12;3.2.0 in central\n",
      "\tfound org.apache.spark#spark-token-provider-kafka-0-10_2.12;3.2.0 in central\n",
      "\tfound org.apache.kafka#kafka-clients;2.8.0 in central\n",
      "\tfound org.lz4#lz4-java;1.7.1 in central\n",
      "\tfound org.xerial.snappy#snappy-java;1.1.8.4 in central\n",
      "\tfound org.slf4j#slf4j-api;1.7.30 in central\n",
      "\tfound org.apache.hadoop#hadoop-client-runtime;3.3.1 in central\n",
      "\tfound org.spark-project.spark#unused;1.0.0 in central\n",
      "\tfound org.apache.hadoop#hadoop-client-api;3.3.1 in central\n",
      "\tfound org.apache.htrace#htrace-core4;4.1.0-incubating in central\n",
      "\tfound commons-logging#commons-logging;1.1.3 in central\n",
      "\tfound com.google.code.findbugs#jsr305;3.0.0 in central\n",
      "\tfound org.apache.spark#spark-sql-kafka-0-10_2.12;3.2.0 in central\n",
      "\tfound org.apache.commons#commons-pool2;2.6.2 in central\n",
      ":: resolution report :: resolve 650ms :: artifacts dl 16ms\n",
      "\t:: modules in use:\n",
      "\tcom.google.code.findbugs#jsr305;3.0.0 from central in [default]\n",
      "\tcommons-logging#commons-logging;1.1.3 from central in [default]\n",
      "\torg.apache.commons#commons-pool2;2.6.2 from central in [default]\n",
      "\torg.apache.hadoop#hadoop-client-api;3.3.1 from central in [default]\n",
      "\torg.apache.hadoop#hadoop-client-runtime;3.3.1 from central in [default]\n",
      "\torg.apache.htrace#htrace-core4;4.1.0-incubating from central in [default]\n",
      "\torg.apache.kafka#kafka-clients;2.8.0 from central in [default]\n",
      "\torg.apache.spark#spark-sql-kafka-0-10_2.12;3.2.0 from central in [default]\n",
      "\torg.apache.spark#spark-streaming-kafka-0-10_2.12;3.2.0 from central in [default]\n",
      "\torg.apache.spark#spark-token-provider-kafka-0-10_2.12;3.2.0 from central in [default]\n",
      "\torg.lz4#lz4-java;1.7.1 from central in [default]\n",
      "\torg.slf4j#slf4j-api;1.7.30 from central in [default]\n",
      "\torg.spark-project.spark#unused;1.0.0 from central in [default]\n",
      "\torg.xerial.snappy#snappy-java;1.1.8.4 from central in [default]\n",
      "\t---------------------------------------------------------------------\n",
      "\t|                  |            modules            ||   artifacts   |\n",
      "\t|       conf       | number| search|dwnlded|evicted|| number|dwnlded|\n",
      "\t---------------------------------------------------------------------\n",
      "\t|      default     |   14  |   0   |   0   |   0   ||   14  |   0   |\n",
      "\t---------------------------------------------------------------------\n",
      ":: retrieving :: org.apache.spark#spark-submit-parent-6fdcdd4e-26c8-49cf-a58f-fbbf0ea7650d\n",
      "\tconfs: [default]\n",
      "\t0 artifacts copied, 14 already retrieved (0kB/8ms)\n",
      "23/05/16 23:20:04 WARN NativeCodeLoader: Unable to load native-hadoop library for your platform... using builtin-java classes where applicable\n",
      "Setting default log level to \"WARN\".\n",
      "To adjust logging level use sc.setLogLevel(newLevel). For SparkR, use setLogLevel(newLevel).\n"
     ]
    }
   ],
   "source": [
    "# Initialize the Stream_Data Class using the topic name/s established in the kafka-config/kafka-config.ipynb and add the host of your kafka instance in the host parameter\n",
    "emissions_config = Stream_Data(topics='ghg_data', host='localhost:9092')\n",
    "e_session, query, emissions_df = emissions_config.getData()\n",
    "#temperatures"
   ]
  },
  {
   "cell_type": "code",
   "execution_count": 3,
   "metadata": {},
   "outputs": [
    {
     "name": "stdout",
     "output_type": "stream",
     "text": [
      "/media/camagakhan/DATA/Repositories/BigDataProcessing/Assignment/BigDataProcessingClimateChange/notebooks/scripts/mysql-connector-j-8.0.33.jar\n",
      "/media/camagakhan/DATA/Repositories/BigDataProcessing/Assignment/BigDataProcessingClimateChange/notebooks/scripts/graphframes-0.8.2-spark3.2-s_2.12.jar\n"
     ]
    }
   ],
   "source": [
    "# Initialize the Stream_Data Class using the topic name/s established in the kafka-config/kafka-config.ipynb and add the host of your kafka instance in the host parameter\n",
    "temperature_config = Stream_Data(topics='temperature', host='localhost:9092')\n",
    "t_session, query_temperature, temperature_df = temperature_config.getData()"
   ]
  },
  {
   "attachments": {},
   "cell_type": "markdown",
   "metadata": {},
   "source": [
    "### NOTE\n",
    "Everything is configered while initializing the PySpark Session in the ```StreamProcessing.py``` class. DO NOT remove the ```from graphframes import GraphFrame```, as the jar files are loaded while getting the data from the previous code block"
   ]
  },
  {
   "cell_type": "code",
   "execution_count": 4,
   "metadata": {},
   "outputs": [],
   "source": [
    "from graphframes import GraphFrame\n",
    "import findspark as tt\n",
    "tt.init(emissions_config.getSpark_Path()) \n",
    "from pyspark.sql import functions as F"
   ]
  },
  {
   "cell_type": "code",
   "execution_count": 5,
   "metadata": {},
   "outputs": [
    {
     "name": "stdout",
     "output_type": "stream",
     "text": [
      "DataFrame[REF_AREA: string, Measure: string, UNIT_MEASURE: string, TIME_PERIOD: int, OBS_VALUE: double, REF_CODE: string]\n",
      "DataFrame[PREFIX: string, Country: string, POL: string, Pollutant: string, VAR: string, Variable: string, YEA: int, Year: int, UnitCode: string, Unit: string, PowerCodeCode: string, PowerCode: string, ReferencePeriodCode: float, ReferencePeriod: float, Value: double, FlagCodes: string, Flags: string]\n"
     ]
    }
   ],
   "source": [
    "print(temperature_df)\n",
    "print(emissions_df)"
   ]
  },
  {
   "cell_type": "code",
   "execution_count": 6,
   "metadata": {},
   "outputs": [],
   "source": [
    "temp_df = temperature_df.withColumnRenamed('REF_CODE','COUNTRY_CODE')\n",
    "ghg_df = emissions_df.withColumnRenamed('PREFIX', 'COUNTRY_CODE')\n",
    "\n",
    "myDataset = temp_df.join(ghg_df, (temp_df.COUNTRY_CODE == ghg_df.COUNTRY_CODE) & (temp_df.TIME_PERIOD == ghg_df.Year), 'inner')\n",
    "\n",
    "\n",
    "myDataset = myDataset.select(temp_df.COUNTRY_CODE, ghg_df.Country,ghg_df.Year, temp_df.UNIT_MEASURE, temp_df.OBS_VALUE, ghg_df.POL, ghg_df.VAR, ghg_df.Value)\n",
    "\n",
    "# ran into out of memory exception\n",
    "\n",
    "# We'll be assigning the country_codes as ids to map relationships"
   ]
  },
  {
   "attachments": {},
   "cell_type": "markdown",
   "metadata": {},
   "source": [
    "Store the Dataset before we attempt to use models"
   ]
  },
  {
   "cell_type": "code",
   "execution_count": 7,
   "metadata": {},
   "outputs": [],
   "source": [
    "config_train = Stream_Data(topics=None, host='localhost:9092')\n",
    "config_train.storeData('climate_change', myDataset) # we are about to store the new dataset in a mySQL table"
   ]
  },
  {
   "attachments": {},
   "cell_type": "markdown",
   "metadata": {},
   "source": [
    "Machine Learning Section."
   ]
  },
  {
   "cell_type": "code",
   "execution_count": 8,
   "metadata": {},
   "outputs": [],
   "source": [
    "from pyspark.ml.feature import StandardScaler, VectorAssembler\n",
    "from pyspark.ml.regression import LinearRegression\n",
    "from pyspark.ml import Pipeline"
   ]
  },
  {
   "attachments": {},
   "cell_type": "markdown",
   "metadata": {},
   "source": [
    "In the following code block we are setting up the Linear Regression to set up a model to predict the temperatures based on the given Green house Gases levels"
   ]
  },
  {
   "cell_type": "code",
   "execution_count": 9,
   "metadata": {},
   "outputs": [],
   "source": [
    "assembler = VectorAssembler(inputCols=['Value'], outputCol='features')\n",
    "scaler = StandardScaler(inputCol='features', outputCol='scaledFeatures')\n",
    "linear_regression = LinearRegression(labelCol='OBS_VALUE', featuresCol='scaledFeatures')\n",
    "'''\n",
    "    Stages\n",
    "\n",
    "    1) Get the features of the model,\n",
    "    2) Normalise the features using Standard Scaler\n",
    "    3) apply training using linear regression. This uses the OBS_VALUE (which is the temperature value) as Y\n",
    "'''\n",
    "pipeline = Pipeline(stages=[assembler, scaler, linear_regression])"
   ]
  },
  {
   "cell_type": "code",
   "execution_count": 12,
   "metadata": {},
   "outputs": [
    {
     "name": "stdout",
     "output_type": "stream",
     "text": [
      "/media/camagakhan/DATA/Repositories/BigDataProcessing/Assignment/BigDataProcessingClimateChange/notebooks/scripts/graphframes-0.8.2-spark3.2-s_2.12.jar\n",
      "+------------+--------------+----+------------------+---------+---+----------+----------+\n",
      "|COUNTRY_CODE|       Country|Year|      UNIT_MEASURE|OBS_VALUE|POL|       VAR|     Value|\n",
      "+------------+--------------+----+------------------+---------+---+----------+----------+\n",
      "|         AUT|       Austria|2007|C: Degrees celsius|     1.19|GHG|     TOTAL| 86841.362|\n",
      "|         AUT|       Austria|2007|C: Degrees celsius|     1.19|GHG|INDEX_1990|   110.734|\n",
      "|         AUT|       Austria|2007|C: Degrees celsius|     1.19|GHG|   GHG_CAP|    10.469|\n",
      "|         GBR|United Kingdom|2000|C: Degrees celsius|     0.25|GHG|     TOTAL|714300.902|\n",
      "|         GBR|United Kingdom|2000|C: Degrees celsius|     0.25|GHG|INDEX_1990|    89.622|\n",
      "|         GBR|United Kingdom|2000|C: Degrees celsius|     0.25|GHG|   GHG_CAP|     12.13|\n",
      "|         EST|       Estonia|2015|C: Degrees celsius|     1.52|GHG|     TOTAL| 18036.693|\n",
      "|         EST|       Estonia|2015|C: Degrees celsius|     1.52|GHG|INDEX_1990|    44.895|\n",
      "|         EST|       Estonia|2015|C: Degrees celsius|     1.52|GHG|   GHG_CAP|     13.72|\n",
      "|         EST|       Estonia|2015|C: Degrees celsius|     1.52|GHG|  IND_PROC|    517.03|\n",
      "|         AUT|       Austria|2007|C: Degrees celsius|     1.19|GHG|       WAS|  2546.739|\n",
      "|         AUT|       Austria|2007|C: Degrees celsius|     1.19|GHG|  IND_PROC| 16750.297|\n",
      "|         EST|       Estonia|2015|C: Degrees celsius|     1.52|GHG|       WAS|   337.693|\n",
      "|         GBR|United Kingdom|2000|C: Degrees celsius|     0.25|GHG|      ENER|551550.507|\n",
      "|         EST|       Estonia|2015|C: Degrees celsius|     1.52|GHG|       AGR|  1408.524|\n",
      "|         GBR|United Kingdom|2000|C: Degrees celsius|     0.25|GHG|       AGR| 46470.134|\n",
      "|         GBR|United Kingdom|2000|C: Degrees celsius|     0.25|GHG|       WAS| 61462.583|\n",
      "|         AUT|       Austria|2007|C: Degrees celsius|     1.19|GHG|      ENER| 60594.163|\n",
      "|         GBR|United Kingdom|2000|C: Degrees celsius|     0.25|GHG|  IND_PROC| 54817.679|\n",
      "|         AUT|       Austria|2007|C: Degrees celsius|     1.19|GHG|       AGR|  6950.162|\n",
      "+------------+--------------+----+------------------+---------+---+----------+----------+\n",
      "only showing top 20 rows\n",
      "\n"
     ]
    }
   ],
   "source": [
    "climate_change_df = ClimateChangeDataset().loadDataset()\n",
    "climate_change_df.show()"
   ]
  },
  {
   "cell_type": "code",
   "execution_count": 13,
   "metadata": {},
   "outputs": [],
   "source": [
    "train, test = climate_change_df.randomSplit([0.8, 0.2], seed=42)"
   ]
  },
  {
   "cell_type": "code",
   "execution_count": 14,
   "metadata": {},
   "outputs": [
    {
     "name": "stdout",
     "output_type": "stream",
     "text": [
      "+------------+---------+----+------------------+---------+---+------------+---------+\n",
      "|COUNTRY_CODE|  Country|Year|      UNIT_MEASURE|OBS_VALUE|POL|         VAR|    Value|\n",
      "+------------+---------+----+------------------+---------+---+------------+---------+\n",
      "|         ARG|Argentina|1990|C: Degrees celsius|     0.03|GHG|         AGR|105060.83|\n",
      "|         ARG|Argentina|1990|C: Degrees celsius|     0.03|GHG|       AGR_P|   47.703|\n",
      "|         ARG|Argentina|1990|C: Degrees celsius|     0.03|GHG|      ENER_P|   44.372|\n",
      "|         ARG|Argentina|1990|C: Degrees celsius|     0.03|GHG|     GHG_CAP|     6.76|\n",
      "|         ARG|Argentina|1990|C: Degrees celsius|     0.03|GHG|GHG_CAP_LULU|    8.837|\n",
      "|         ARG|Argentina|1990|C: Degrees celsius|     0.03|GHG|GHG_GDP_LULU|    0.646|\n",
      "|         ARG|Argentina|1990|C: Degrees celsius|     0.03|GHG|  INDEX_2000|   78.571|\n",
      "|         ARG|Argentina|1990|C: Degrees celsius|     0.03|GHG|    IND_PROC|  9540.84|\n",
      "|         ARG|Argentina|1990|C: Degrees celsius|     0.03|GHG|  IND_PROC_P|    4.332|\n",
      "|         ARG|Argentina|1990|C: Degrees celsius|     0.03|GHG|      LULUCF| 67690.38|\n",
      "|         ARG|Argentina|1990|C: Degrees celsius|     0.03|GHG|  TOTAL_LULU|287931.15|\n",
      "|         ARG|Argentina|1990|C: Degrees celsius|     0.03|GHG|         WAS|  7913.78|\n",
      "|         ARG|Argentina|1990|C: Degrees celsius|     0.03|GHG|       WAS_P|    3.593|\n",
      "|         ARG|Argentina|1991|C: Degrees celsius|    -0.28|GHG|         AGR|106285.16|\n",
      "|         ARG|Argentina|1991|C: Degrees celsius|    -0.28|GHG|       AGR_P|   46.128|\n",
      "|         ARG|Argentina|1991|C: Degrees celsius|    -0.28|GHG|      ENER_P|   46.677|\n",
      "|         ARG|Argentina|1991|C: Degrees celsius|    -0.28|GHG|     GHG_CAP|    6.976|\n",
      "|         ARG|Argentina|1991|C: Degrees celsius|    -0.28|GHG|GHG_CAP_LULU|    9.064|\n",
      "|         ARG|Argentina|1991|C: Degrees celsius|    -0.28|GHG|GHG_GDP_LULU|    0.689|\n",
      "|         ARG|Argentina|1991|C: Degrees celsius|    -0.28|GHG|  INDEX_1990|  104.619|\n",
      "+------------+---------+----+------------------+---------+---+------------+---------+\n",
      "only showing top 20 rows\n",
      "\n"
     ]
    }
   ],
   "source": [
    "train.show()"
   ]
  },
  {
   "cell_type": "code",
   "execution_count": 16,
   "metadata": {},
   "outputs": [],
   "source": [
    "val, test = test.randomSplit([.5, .5], seed=42)"
   ]
  },
  {
   "cell_type": "code",
   "execution_count": 17,
   "metadata": {},
   "outputs": [
    {
     "name": "stdout",
     "output_type": "stream",
     "text": [
      "+------------+---------+----+------------------+---------+---+------------+---------+\n",
      "|COUNTRY_CODE|  Country|Year|      UNIT_MEASURE|OBS_VALUE|POL|         VAR|    Value|\n",
      "+------------+---------+----+------------------+---------+---+------------+---------+\n",
      "|         ARG|Argentina|1990|C: Degrees celsius|     0.03|GHG|       TOTAL|220240.77|\n",
      "|         ARG|Argentina|1992|C: Degrees celsius|    -0.73|GHG|       AGR_P|   45.756|\n",
      "|         ARG|Argentina|1992|C: Degrees celsius|    -0.73|GHG|       TOTAL|234122.38|\n",
      "|         ARG|Argentina|1993|C: Degrees celsius|    -0.23|GHG|         AGR|109493.54|\n",
      "|         ARG|Argentina|1994|C: Degrees celsius|     0.35|GHG|  INDEX_2000|   86.904|\n",
      "|         ARG|Argentina|1996|C: Degrees celsius|     0.05|GHG|    IND_PROC|  9836.97|\n",
      "|         ARG|Argentina|1996|C: Degrees celsius|     0.05|GHG|         WAS|  9834.46|\n",
      "|         ARG|Argentina|1999|C: Degrees celsius|    -0.15|GHG|GHG_GDP_LULU|    0.523|\n",
      "|         ARG|Argentina|1999|C: Degrees celsius|    -0.15|GHG|  IND_PROC_P|    3.794|\n",
      "|         ARG|Argentina|1999|C: Degrees celsius|    -0.15|GHG|         WAS| 10918.95|\n",
      "|         ARG|Argentina|2002|C: Degrees celsius|    -0.19|GHG|         AGR|119121.01|\n",
      "|         ARG|Argentina|2004|C: Degrees celsius|     0.34|GHG|       WAS_P|    4.326|\n",
      "|         ARG|Argentina|2005|C: Degrees celsius|    -0.03|GHG|      ENER_P|   49.947|\n",
      "|         ARG|Argentina|2005|C: Degrees celsius|    -0.03|GHG|     GHG_GDP|    0.484|\n",
      "|         ARG|Argentina|2005|C: Degrees celsius|    -0.03|GHG|  IND_PROC_P|    4.713|\n",
      "|         ARG|Argentina|2005|C: Degrees celsius|    -0.03|GHG|       TOTAL|307492.67|\n",
      "|         ARG|Argentina|2008|C: Degrees celsius|     0.51|GHG|     GHG_GDP|    0.427|\n",
      "|         ARG|Argentina|2009|C: Degrees celsius|     0.57|GHG|      LULUCF|100992.74|\n",
      "|         ARG|Argentina|2010|C: Degrees celsius|    -0.01|GHG|  INDEX_1990|   136.53|\n",
      "|         ARG|Argentina|2011|C: Degrees celsius|     0.29|GHG|  IND_PROC_P|    5.223|\n",
      "+------------+---------+----+------------------+---------+---+------------+---------+\n",
      "only showing top 20 rows\n",
      "\n"
     ]
    }
   ],
   "source": [
    "val.show()"
   ]
  },
  {
   "cell_type": "code",
   "execution_count": 18,
   "metadata": {},
   "outputs": [
    {
     "name": "stdout",
     "output_type": "stream",
     "text": [
      "+------------+---------+----+------------------+---------+---+----------+---------+\n",
      "|COUNTRY_CODE|  Country|Year|      UNIT_MEASURE|OBS_VALUE|POL|       VAR|    Value|\n",
      "+------------+---------+----+------------------+---------+---+----------+---------+\n",
      "|         ARG|Argentina|1990|C: Degrees celsius|     0.03|GHG|      ENER| 97725.32|\n",
      "|         ARG|Argentina|1990|C: Degrees celsius|     0.03|GHG|   GHG_GDP|    0.494|\n",
      "|         ARG|Argentina|1990|C: Degrees celsius|     0.03|GHG|INDEX_1990|    100.0|\n",
      "|         ARG|Argentina|1991|C: Degrees celsius|    -0.28|GHG|      ENER|107550.28|\n",
      "|         ARG|Argentina|1991|C: Degrees celsius|    -0.28|GHG|   GHG_GDP|     0.53|\n",
      "|         ARG|Argentina|1991|C: Degrees celsius|    -0.28|GHG|    LULUCF| 68967.49|\n",
      "|         ARG|Argentina|1992|C: Degrees celsius|    -0.73|GHG|IND_PROC_P|    3.547|\n",
      "|         ARG|Argentina|1992|C: Degrees celsius|    -0.73|GHG|    LULUCF|  70244.6|\n",
      "|         ARG|Argentina|1992|C: Degrees celsius|    -0.73|GHG|       WAS|  8429.35|\n",
      "|         ARG|Argentina|1993|C: Degrees celsius|    -0.23|GHG|   GHG_CAP|    7.063|\n",
      "|         ARG|Argentina|1993|C: Degrees celsius|    -0.23|GHG|IND_PROC_P|     3.72|\n",
      "|         ARG|Argentina|1994|C: Degrees celsius|     0.35|GHG|     AGR_P|   44.208|\n",
      "|         ARG|Argentina|1995|C: Degrees celsius|     0.01|GHG|       WAS|  9472.66|\n",
      "|         ARG|Argentina|1996|C: Degrees celsius|     0.05|GHG|TOTAL_LULU|334546.76|\n",
      "|         ARG|Argentina|1996|C: Degrees celsius|     0.05|GHG|     WAS_P|    3.835|\n",
      "|         ARG|Argentina|1997|C: Degrees celsius|     0.31|GHG|  IND_PROC|  10826.8|\n",
      "|         ARG|Argentina|1997|C: Degrees celsius|     0.31|GHG|    LULUCF| 97484.99|\n",
      "|         ARG|Argentina|1998|C: Degrees celsius|     0.16|GHG|     WAS_P|    3.991|\n",
      "|         ARG|Argentina|2000|C: Degrees celsius|    -0.67|GHG|     AGR_P|    40.53|\n",
      "|         ARG|Argentina|2000|C: Degrees celsius|    -0.67|GHG|     TOTAL|280308.99|\n",
      "+------------+---------+----+------------------+---------+---+----------+---------+\n",
      "only showing top 20 rows\n",
      "\n"
     ]
    }
   ],
   "source": [
    "test.show()"
   ]
  }
 ],
 "metadata": {
  "kernelspec": {
   "display_name": "base",
   "language": "python",
   "name": "python3"
  },
  "language_info": {
   "codemirror_mode": {
    "name": "ipython",
    "version": 3
   },
   "file_extension": ".py",
   "mimetype": "text/x-python",
   "name": "python",
   "nbconvert_exporter": "python",
   "pygments_lexer": "ipython3",
   "version": "3.9.16"
  },
  "orig_nbformat": 4
 },
 "nbformat": 4,
 "nbformat_minor": 2
}
