{
 "cells": [
  {
   "cell_type": "code",
   "execution_count": 1,
   "metadata": {},
   "outputs": [
    {
     "name": "stdout",
     "output_type": "stream",
     "text": [
      "PySpark found\n"
     ]
    }
   ],
   "source": [
    "from scripts.StreamProcessing import Stream_Data # found in the scripts folder inside StreamProcessing.py. This class uses PySpark"
   ]
  },
  {
   "attachments": {},
   "cell_type": "markdown",
   "metadata": {},
   "source": [
    "### A note on block [3] and [4]\n",
    "\n",
    "These might take a while as PySpark attempts to download some additional files"
   ]
  },
  {
   "cell_type": "code",
   "execution_count": 2,
   "metadata": {},
   "outputs": [
    {
     "name": "stderr",
     "output_type": "stream",
     "text": [
      "23/05/07 14:00:44 WARN Utils: Your hostname, camagakhan-Inspiron-7577 resolves to a loopback address: 127.0.1.1; using 192.168.6.27 instead (on interface wlp60s0)\n",
      "23/05/07 14:00:44 WARN Utils: Set SPARK_LOCAL_IP if you need to bind to another address\n"
     ]
    },
    {
     "name": "stdout",
     "output_type": "stream",
     "text": [
      ":: loading settings :: url = jar:file:/home/camagakhan/spark-3.4.0-bin-hadoop3/jars/ivy-2.5.1.jar!/org/apache/ivy/core/settings/ivysettings.xml\n"
     ]
    },
    {
     "name": "stderr",
     "output_type": "stream",
     "text": [
      "Ivy Default Cache set to: /home/camagakhan/.ivy2/cache\n",
      "The jars for the packages stored in: /home/camagakhan/.ivy2/jars\n",
      "org.apache.spark#spark-streaming-kafka-0-10_2.12 added as a dependency\n",
      "org.apache.spark#spark-sql-kafka-0-10_2.12 added as a dependency\n",
      ":: resolving dependencies :: org.apache.spark#spark-submit-parent-f06f8864-d608-4cb3-b100-639d1c637f1c;1.0\n",
      "\tconfs: [default]\n",
      "\tfound org.apache.spark#spark-streaming-kafka-0-10_2.12;3.2.0 in central\n",
      "\tfound org.apache.spark#spark-token-provider-kafka-0-10_2.12;3.2.0 in central\n",
      "\tfound org.apache.kafka#kafka-clients;2.8.0 in central\n",
      "\tfound org.lz4#lz4-java;1.7.1 in central\n",
      "\tfound org.xerial.snappy#snappy-java;1.1.8.4 in central\n",
      "\tfound org.slf4j#slf4j-api;1.7.30 in central\n",
      "\tfound org.apache.hadoop#hadoop-client-runtime;3.3.1 in central\n",
      "\tfound org.spark-project.spark#unused;1.0.0 in central\n",
      "\tfound org.apache.hadoop#hadoop-client-api;3.3.1 in central\n",
      "\tfound org.apache.htrace#htrace-core4;4.1.0-incubating in central\n",
      "\tfound commons-logging#commons-logging;1.1.3 in central\n",
      "\tfound com.google.code.findbugs#jsr305;3.0.0 in central\n",
      "\tfound org.apache.spark#spark-sql-kafka-0-10_2.12;3.2.0 in central\n",
      "\tfound org.apache.commons#commons-pool2;2.6.2 in central\n",
      ":: resolution report :: resolve 575ms :: artifacts dl 14ms\n",
      "\t:: modules in use:\n",
      "\tcom.google.code.findbugs#jsr305;3.0.0 from central in [default]\n",
      "\tcommons-logging#commons-logging;1.1.3 from central in [default]\n",
      "\torg.apache.commons#commons-pool2;2.6.2 from central in [default]\n",
      "\torg.apache.hadoop#hadoop-client-api;3.3.1 from central in [default]\n",
      "\torg.apache.hadoop#hadoop-client-runtime;3.3.1 from central in [default]\n",
      "\torg.apache.htrace#htrace-core4;4.1.0-incubating from central in [default]\n",
      "\torg.apache.kafka#kafka-clients;2.8.0 from central in [default]\n",
      "\torg.apache.spark#spark-sql-kafka-0-10_2.12;3.2.0 from central in [default]\n",
      "\torg.apache.spark#spark-streaming-kafka-0-10_2.12;3.2.0 from central in [default]\n",
      "\torg.apache.spark#spark-token-provider-kafka-0-10_2.12;3.2.0 from central in [default]\n",
      "\torg.lz4#lz4-java;1.7.1 from central in [default]\n",
      "\torg.slf4j#slf4j-api;1.7.30 from central in [default]\n",
      "\torg.spark-project.spark#unused;1.0.0 from central in [default]\n",
      "\torg.xerial.snappy#snappy-java;1.1.8.4 from central in [default]\n",
      "\t---------------------------------------------------------------------\n",
      "\t|                  |            modules            ||   artifacts   |\n",
      "\t|       conf       | number| search|dwnlded|evicted|| number|dwnlded|\n",
      "\t---------------------------------------------------------------------\n",
      "\t|      default     |   14  |   0   |   0   |   0   ||   14  |   0   |\n",
      "\t---------------------------------------------------------------------\n",
      ":: retrieving :: org.apache.spark#spark-submit-parent-f06f8864-d608-4cb3-b100-639d1c637f1c\n",
      "\tconfs: [default]\n",
      "\t0 artifacts copied, 14 already retrieved (0kB/10ms)\n",
      "23/05/07 14:00:45 WARN NativeCodeLoader: Unable to load native-hadoop library for your platform... using builtin-java classes where applicable\n",
      "Setting default log level to \"WARN\".\n",
      "To adjust logging level use sc.setLogLevel(newLevel). For SparkR, use setLogLevel(newLevel).\n",
      "23/05/07 14:00:51 WARN ResolveWriteToStream: Temporary checkpoint location created which is deleted normally when the query didn't fail: /tmp/temporary-fb576e13-3f0b-4234-afff-bfd1dae23237. If it's required to delete it under any circumstances, please set spark.sql.streaming.forceDeleteTempCheckpointLocation to true. Important to know deleting temp checkpoint folder is best effort.\n",
      "23/05/07 14:00:51 WARN ResolveWriteToStream: spark.sql.adaptive.enabled is not supported in streaming DataFrames/Datasets and will be disabled.\n",
      "23/05/07 14:00:52 WARN AdminClientConfig: The configuration 'key.deserializer' was supplied but isn't a known config.\n",
      "23/05/07 14:00:52 WARN AdminClientConfig: The configuration 'value.deserializer' was supplied but isn't a known config.\n",
      "23/05/07 14:00:52 WARN AdminClientConfig: The configuration 'enable.auto.commit' was supplied but isn't a known config.\n",
      "23/05/07 14:00:52 WARN AdminClientConfig: The configuration 'max.poll.records' was supplied but isn't a known config.\n",
      "23/05/07 14:00:52 WARN AdminClientConfig: The configuration 'auto.offset.reset' was supplied but isn't a known config.\n",
      "                                                                                \r"
     ]
    },
    {
     "name": "stdout",
     "output_type": "stream",
     "text": [
      "-------------------------------------------\n",
      "Batch: 0\n",
      "-------------------------------------------\n",
      "+----+--------------------+-----------+---------+------+--------------------+-------------+\n",
      "| key|               value|      topic|partition|offset|           timestamp|timestampType|\n",
      "+----+--------------------+-----------+---------+------+--------------------+-------------+\n",
      "|null|[7B 22 59 65 61 7...|temperature|        0|     0|2023-05-07 12:36:...|            0|\n",
      "|null|[7B 22 59 65 61 7...|temperature|        0|     1|2023-05-07 12:36:...|            0|\n",
      "|null|[7B 22 59 65 61 7...|temperature|        0|     2|2023-05-07 12:36:...|            0|\n",
      "|null|[7B 22 59 65 61 7...|temperature|        0|     3|2023-05-07 12:36:...|            0|\n",
      "|null|[7B 22 59 65 61 7...|temperature|        0|     4|2023-05-07 12:36:...|            0|\n",
      "|null|[7B 22 59 65 61 7...|temperature|        0|     5|2023-05-07 12:36:...|            0|\n",
      "|null|[7B 22 59 65 61 7...|temperature|        0|     6|2023-05-07 12:36:...|            0|\n",
      "|null|[7B 22 59 65 61 7...|temperature|        0|     7|2023-05-07 12:36:...|            0|\n",
      "|null|[7B 22 59 65 61 7...|temperature|        0|     8|2023-05-07 12:36:...|            0|\n",
      "|null|[7B 22 59 65 61 7...|temperature|        0|     9|2023-05-07 12:36:...|            0|\n",
      "|null|[7B 22 59 65 61 7...|temperature|        0|    10|2023-05-07 12:36:...|            0|\n",
      "|null|[7B 22 59 65 61 7...|temperature|        0|    11|2023-05-07 12:36:...|            0|\n",
      "|null|[7B 22 59 65 61 7...|temperature|        0|    12|2023-05-07 12:36:...|            0|\n",
      "|null|[7B 22 59 65 61 7...|temperature|        0|    13|2023-05-07 12:36:...|            0|\n",
      "|null|[7B 22 59 65 61 7...|temperature|        0|    14|2023-05-07 12:36:...|            0|\n",
      "|null|[7B 22 59 65 61 7...|temperature|        0|    15|2023-05-07 12:36:...|            0|\n",
      "|null|[7B 22 59 65 61 7...|temperature|        0|    16|2023-05-07 12:36:...|            0|\n",
      "|null|[7B 22 59 65 61 7...|temperature|        0|    17|2023-05-07 12:36:...|            0|\n",
      "|null|[7B 22 59 65 61 7...|temperature|        0|    18|2023-05-07 12:36:...|            0|\n",
      "|null|[7B 22 59 65 61 7...|temperature|        0|    19|2023-05-07 12:36:...|            0|\n",
      "+----+--------------------+-----------+---------+------+--------------------+-------------+\n",
      "only showing top 20 rows\n",
      "\n"
     ]
    },
    {
     "name": "stderr",
     "output_type": "stream",
     "text": [
      "23/05/07 14:32:52 WARN NetworkClient: [AdminClient clientId=adminclient-1] Connection to node 0 (camagakhan-Inspiron-7577/127.0.1.1:9092) could not be established. Broker may not be available.\n",
      "23/05/07 14:32:53 WARN NetworkClient: [AdminClient clientId=adminclient-1] Connection to node 0 (camagakhan-Inspiron-7577/127.0.1.1:9092) could not be established. Broker may not be available.\n",
      "23/05/07 14:32:53 WARN NetworkClient: [AdminClient clientId=adminclient-1] Connection to node 0 (camagakhan-Inspiron-7577/127.0.1.1:9092) could not be established. Broker may not be available.\n",
      "23/05/07 14:32:53 WARN NetworkClient: [AdminClient clientId=adminclient-1] Connection to node 0 (camagakhan-Inspiron-7577/127.0.1.1:9092) could not be established. Broker may not be available.\n",
      "23/05/07 14:32:54 WARN NetworkClient: [AdminClient clientId=adminclient-1] Connection to node 0 (camagakhan-Inspiron-7577/127.0.1.1:9092) could not be established. Broker may not be available.\n",
      "23/05/07 14:32:55 WARN NetworkClient: [AdminClient clientId=adminclient-1] Connection to node 0 (camagakhan-Inspiron-7577/127.0.1.1:9092) could not be established. Broker may not be available.\n",
      "23/05/07 14:32:56 WARN NetworkClient: [AdminClient clientId=adminclient-1] Connection to node 0 (camagakhan-Inspiron-7577/127.0.1.1:9092) could not be established. Broker may not be available.\n",
      "23/05/07 14:32:57 WARN NetworkClient: [AdminClient clientId=adminclient-1] Connection to node 0 (camagakhan-Inspiron-7577/127.0.1.1:9092) could not be established. Broker may not be available.\n",
      "23/05/07 14:32:58 WARN NetworkClient: [AdminClient clientId=adminclient-1] Connection to node 0 (camagakhan-Inspiron-7577/127.0.1.1:9092) could not be established. Broker may not be available.\n",
      "23/05/07 14:33:00 WARN NetworkClient: [AdminClient clientId=adminclient-1] Connection to node 0 (camagakhan-Inspiron-7577/127.0.1.1:9092) could not be established. Broker may not be available.\n",
      "23/05/07 14:33:00 WARN NetworkClient: [AdminClient clientId=adminclient-1] Connection to node 0 (camagakhan-Inspiron-7577/127.0.1.1:9092) could not be established. Broker may not be available.\n",
      "23/05/07 14:33:01 WARN NetworkClient: [AdminClient clientId=adminclient-1] Connection to node 0 (camagakhan-Inspiron-7577/127.0.1.1:9092) could not be established. Broker may not be available.\n",
      "23/05/07 14:33:03 WARN NetworkClient: [AdminClient clientId=adminclient-1] Connection to node 0 (camagakhan-Inspiron-7577/127.0.1.1:9092) could not be established. Broker may not be available.\n",
      "23/05/07 14:33:03 WARN NetworkClient: [AdminClient clientId=adminclient-1] Connection to node 0 (camagakhan-Inspiron-7577/127.0.1.1:9092) could not be established. Broker may not be available.\n",
      "23/05/07 14:33:04 WARN NetworkClient: [AdminClient clientId=adminclient-1] Connection to node 0 (camagakhan-Inspiron-7577/127.0.1.1:9092) could not be established. Broker may not be available.\n",
      "23/05/07 14:33:05 WARN NetworkClient: [AdminClient clientId=adminclient-1] Connection to node 0 (camagakhan-Inspiron-7577/127.0.1.1:9092) could not be established. Broker may not be available.\n",
      "23/05/07 14:33:06 WARN NetworkClient: [AdminClient clientId=adminclient-1] Connection to node 0 (camagakhan-Inspiron-7577/127.0.1.1:9092) could not be established. Broker may not be available.\n",
      "ERROR:root:Exception while sending command.\n",
      "Traceback (most recent call last):\n",
      "  File \"/home/camagakhan/spark-3.4.0-bin-hadoop3/python/lib/py4j-0.10.9.7-src.zip/py4j/clientserver.py\", line 511, in send_command\n",
      "    answer = smart_decode(self.stream.readline()[:-1])\n",
      "RuntimeError: reentrant call inside <_io.BufferedReader name=69>\n",
      "\n",
      "During handling of the above exception, another exception occurred:\n",
      "\n",
      "Traceback (most recent call last):\n",
      "  File \"/home/camagakhan/spark-3.4.0-bin-hadoop3/python/lib/py4j-0.10.9.7-src.zip/py4j/java_gateway.py\", line 1038, in send_command\n",
      "    response = connection.send_command(command)\n",
      "  File \"/home/camagakhan/spark-3.4.0-bin-hadoop3/python/lib/py4j-0.10.9.7-src.zip/py4j/clientserver.py\", line 539, in send_command\n",
      "    raise Py4JNetworkError(\n",
      "py4j.protocol.Py4JNetworkError: Error while sending or receiving\n",
      "ERROR:root:Exception while sending command.\n",
      "Traceback (most recent call last):\n",
      "  File \"/home/camagakhan/spark-3.4.0-bin-hadoop3/python/lib/py4j-0.10.9.7-src.zip/py4j/clientserver.py\", line 511, in send_command\n",
      "    answer = smart_decode(self.stream.readline()[:-1])\n",
      "  File \"/home/camagakhan/anaconda3/lib/python3.9/socket.py\", line 704, in readinto\n",
      "    return self._sock.recv_into(b)\n",
      "  File \"/home/camagakhan/spark-3.4.0-bin-hadoop3/python/pyspark/context.py\", line 377, in signal_handler\n",
      "    self.cancelAllJobs()\n",
      "  File \"/home/camagakhan/spark-3.4.0-bin-hadoop3/python/pyspark/context.py\", line 2255, in cancelAllJobs\n",
      "    self._jsc.sc().cancelAllJobs()\n",
      "  File \"/home/camagakhan/spark-3.4.0-bin-hadoop3/python/lib/py4j-0.10.9.7-src.zip/py4j/java_gateway.py\", line 1322, in __call__\n",
      "    return_value = get_return_value(\n",
      "  File \"/home/camagakhan/spark-3.4.0-bin-hadoop3/python/pyspark/errors/exceptions/captured.py\", line 169, in deco\n",
      "    return f(*a, **kw)\n",
      "  File \"/home/camagakhan/spark-3.4.0-bin-hadoop3/python/lib/py4j-0.10.9.7-src.zip/py4j/protocol.py\", line 334, in get_return_value\n",
      "    raise Py4JError(\n",
      "py4j.protocol.Py4JError: An error occurred while calling o18.sc\n",
      "\n",
      "During handling of the above exception, another exception occurred:\n",
      "\n",
      "Traceback (most recent call last):\n",
      "  File \"/home/camagakhan/spark-3.4.0-bin-hadoop3/python/lib/py4j-0.10.9.7-src.zip/py4j/java_gateway.py\", line 1038, in send_command\n",
      "    response = connection.send_command(command)\n",
      "  File \"/home/camagakhan/spark-3.4.0-bin-hadoop3/python/lib/py4j-0.10.9.7-src.zip/py4j/clientserver.py\", line 539, in send_command\n",
      "    raise Py4JNetworkError(\n",
      "py4j.protocol.Py4JNetworkError: Error while sending or receiving\n"
     ]
    },
    {
     "ename": "Py4JError",
     "evalue": "An error occurred while calling o38.awaitTermination",
     "output_type": "error",
     "traceback": [
      "\u001b[0;31m---------------------------------------------------------------------------\u001b[0m",
      "\u001b[0;31mPy4JError\u001b[0m                                 Traceback (most recent call last)",
      "Cell \u001b[0;32mIn[2], line 3\u001b[0m\n\u001b[1;32m      1\u001b[0m \u001b[39m# Initialize the Stream_Data Class using the topic name/s established in the kafka-config/kafka-config.ipynb and add the host of your kafka instance in the host parameter\u001b[39;00m\n\u001b[1;32m      2\u001b[0m temperature_config \u001b[39m=\u001b[39m Stream_Data(topics\u001b[39m=\u001b[39m\u001b[39m'\u001b[39m\u001b[39mtemperature\u001b[39m\u001b[39m'\u001b[39m, host\u001b[39m=\u001b[39m\u001b[39m'\u001b[39m\u001b[39mlocalhost:9092\u001b[39m\u001b[39m'\u001b[39m)\n\u001b[0;32m----> 3\u001b[0m temperatures \u001b[39m=\u001b[39m temperature_config\u001b[39m.\u001b[39;49mgetData()\n",
      "File \u001b[0;32m/media/camagakhan/DATA/Repositories/BigDataProcessing/Assignment/BigDataProcessingClimateChange/notebooks/scripts/StreamProcessing.py:65\u001b[0m, in \u001b[0;36mStream_Data.getData\u001b[0;34m(self)\u001b[0m\n\u001b[1;32m     59\u001b[0m \u001b[39m#topic = df.selectExpr(\"CAST(key AS STRING)\", \"CAST(value AS STRING)\")\u001b[39;00m\n\u001b[1;32m     62\u001b[0m query \u001b[39m=\u001b[39m df\u001b[39m.\u001b[39mwriteStream \\\n\u001b[1;32m     63\u001b[0m         \u001b[39m.\u001b[39mformat(\u001b[39m'\u001b[39m\u001b[39mconsole\u001b[39m\u001b[39m'\u001b[39m)\u001b[39m.\u001b[39mstart()\n\u001b[0;32m---> 65\u001b[0m query\u001b[39m.\u001b[39;49mawaitTermination()\n\u001b[1;32m     66\u001b[0m \u001b[39mreturn\u001b[39;00m query\n",
      "File \u001b[0;32m~/spark-3.4.0-bin-hadoop3/python/pyspark/sql/streaming/query.py:201\u001b[0m, in \u001b[0;36mStreamingQuery.awaitTermination\u001b[0;34m(self, timeout)\u001b[0m\n\u001b[1;32m    199\u001b[0m     \u001b[39mreturn\u001b[39;00m \u001b[39mself\u001b[39m\u001b[39m.\u001b[39m_jsq\u001b[39m.\u001b[39mawaitTermination(\u001b[39mint\u001b[39m(timeout \u001b[39m*\u001b[39m \u001b[39m1000\u001b[39m))\n\u001b[1;32m    200\u001b[0m \u001b[39melse\u001b[39;00m:\n\u001b[0;32m--> 201\u001b[0m     \u001b[39mreturn\u001b[39;00m \u001b[39mself\u001b[39;49m\u001b[39m.\u001b[39;49m_jsq\u001b[39m.\u001b[39;49mawaitTermination()\n",
      "File \u001b[0;32m~/spark-3.4.0-bin-hadoop3/python/lib/py4j-0.10.9.7-src.zip/py4j/java_gateway.py:1322\u001b[0m, in \u001b[0;36mJavaMember.__call__\u001b[0;34m(self, *args)\u001b[0m\n\u001b[1;32m   1316\u001b[0m command \u001b[39m=\u001b[39m proto\u001b[39m.\u001b[39mCALL_COMMAND_NAME \u001b[39m+\u001b[39m\\\n\u001b[1;32m   1317\u001b[0m     \u001b[39mself\u001b[39m\u001b[39m.\u001b[39mcommand_header \u001b[39m+\u001b[39m\\\n\u001b[1;32m   1318\u001b[0m     args_command \u001b[39m+\u001b[39m\\\n\u001b[1;32m   1319\u001b[0m     proto\u001b[39m.\u001b[39mEND_COMMAND_PART\n\u001b[1;32m   1321\u001b[0m answer \u001b[39m=\u001b[39m \u001b[39mself\u001b[39m\u001b[39m.\u001b[39mgateway_client\u001b[39m.\u001b[39msend_command(command)\n\u001b[0;32m-> 1322\u001b[0m return_value \u001b[39m=\u001b[39m get_return_value(\n\u001b[1;32m   1323\u001b[0m     answer, \u001b[39mself\u001b[39;49m\u001b[39m.\u001b[39;49mgateway_client, \u001b[39mself\u001b[39;49m\u001b[39m.\u001b[39;49mtarget_id, \u001b[39mself\u001b[39;49m\u001b[39m.\u001b[39;49mname)\n\u001b[1;32m   1325\u001b[0m \u001b[39mfor\u001b[39;00m temp_arg \u001b[39min\u001b[39;00m temp_args:\n\u001b[1;32m   1326\u001b[0m     \u001b[39mif\u001b[39;00m \u001b[39mhasattr\u001b[39m(temp_arg, \u001b[39m\"\u001b[39m\u001b[39m_detach\u001b[39m\u001b[39m\"\u001b[39m):\n",
      "File \u001b[0;32m~/spark-3.4.0-bin-hadoop3/python/pyspark/errors/exceptions/captured.py:169\u001b[0m, in \u001b[0;36mcapture_sql_exception.<locals>.deco\u001b[0;34m(*a, **kw)\u001b[0m\n\u001b[1;32m    167\u001b[0m \u001b[39mdef\u001b[39;00m \u001b[39mdeco\u001b[39m(\u001b[39m*\u001b[39ma: Any, \u001b[39m*\u001b[39m\u001b[39m*\u001b[39mkw: Any) \u001b[39m-\u001b[39m\u001b[39m>\u001b[39m Any:\n\u001b[1;32m    168\u001b[0m     \u001b[39mtry\u001b[39;00m:\n\u001b[0;32m--> 169\u001b[0m         \u001b[39mreturn\u001b[39;00m f(\u001b[39m*\u001b[39;49ma, \u001b[39m*\u001b[39;49m\u001b[39m*\u001b[39;49mkw)\n\u001b[1;32m    170\u001b[0m     \u001b[39mexcept\u001b[39;00m Py4JJavaError \u001b[39mas\u001b[39;00m e:\n\u001b[1;32m    171\u001b[0m         converted \u001b[39m=\u001b[39m convert_exception(e\u001b[39m.\u001b[39mjava_exception)\n",
      "File \u001b[0;32m~/spark-3.4.0-bin-hadoop3/python/lib/py4j-0.10.9.7-src.zip/py4j/protocol.py:334\u001b[0m, in \u001b[0;36mget_return_value\u001b[0;34m(answer, gateway_client, target_id, name)\u001b[0m\n\u001b[1;32m    330\u001b[0m             \u001b[39mraise\u001b[39;00m Py4JError(\n\u001b[1;32m    331\u001b[0m                 \u001b[39m\"\u001b[39m\u001b[39mAn error occurred while calling \u001b[39m\u001b[39m{0}\u001b[39;00m\u001b[39m{1}\u001b[39;00m\u001b[39m{2}\u001b[39;00m\u001b[39m. Trace:\u001b[39m\u001b[39m\\n\u001b[39;00m\u001b[39m{3}\u001b[39;00m\u001b[39m\\n\u001b[39;00m\u001b[39m\"\u001b[39m\u001b[39m.\u001b[39m\n\u001b[1;32m    332\u001b[0m                 \u001b[39mformat\u001b[39m(target_id, \u001b[39m\"\u001b[39m\u001b[39m.\u001b[39m\u001b[39m\"\u001b[39m, name, value))\n\u001b[1;32m    333\u001b[0m     \u001b[39melse\u001b[39;00m:\n\u001b[0;32m--> 334\u001b[0m         \u001b[39mraise\u001b[39;00m Py4JError(\n\u001b[1;32m    335\u001b[0m             \u001b[39m\"\u001b[39m\u001b[39mAn error occurred while calling \u001b[39m\u001b[39m{0}\u001b[39;00m\u001b[39m{1}\u001b[39;00m\u001b[39m{2}\u001b[39;00m\u001b[39m\"\u001b[39m\u001b[39m.\u001b[39m\n\u001b[1;32m    336\u001b[0m             \u001b[39mformat\u001b[39m(target_id, \u001b[39m\"\u001b[39m\u001b[39m.\u001b[39m\u001b[39m\"\u001b[39m, name))\n\u001b[1;32m    337\u001b[0m \u001b[39melse\u001b[39;00m:\n\u001b[1;32m    338\u001b[0m     \u001b[39mtype\u001b[39m \u001b[39m=\u001b[39m answer[\u001b[39m1\u001b[39m]\n",
      "\u001b[0;31mPy4JError\u001b[0m: An error occurred while calling o38.awaitTermination"
     ]
    }
   ],
   "source": [
    "# Initialize the Stream_Data Class using the topic name/s established in the kafka-config/kafka-config.ipynb and add the host of your kafka instance in the host parameter\n",
    "temperature_config = Stream_Data(topics='temperature', host='localhost:9092')\n",
    "temperatures = temperature_config.getData()\n",
    "#temperatures"
   ]
  },
  {
   "cell_type": "code",
   "execution_count": null,
   "metadata": {},
   "outputs": [],
   "source": [
    "#temperatures.printSchema()"
   ]
  },
  {
   "cell_type": "code",
   "execution_count": null,
   "metadata": {},
   "outputs": [],
   "source": [
    "# base_df = temperatures.selectExpr('key', 'value', 'topic', 'timestamp')\n",
    "# base_df.show()"
   ]
  },
  {
   "cell_type": "code",
   "execution_count": null,
   "metadata": {},
   "outputs": [],
   "source": [
    "# ghg_config = Stream_Data(topics='ghg_data', host='localhost:9092')\n",
    "# ghg_data = ghg_config.getData()\n",
    "# ghg_data"
   ]
  }
 ],
 "metadata": {
  "kernelspec": {
   "display_name": "base",
   "language": "python",
   "name": "python3"
  },
  "language_info": {
   "codemirror_mode": {
    "name": "ipython",
    "version": 3
   },
   "file_extension": ".py",
   "mimetype": "text/x-python",
   "name": "python",
   "nbconvert_exporter": "python",
   "pygments_lexer": "ipython3",
   "version": "3.9.16"
  },
  "orig_nbformat": 4
 },
 "nbformat": 4,
 "nbformat_minor": 2
}
