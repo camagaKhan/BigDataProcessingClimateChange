{
 "cells": [
  {
   "cell_type": "code",
   "execution_count": 1,
   "metadata": {},
   "outputs": [
    {
     "name": "stdout",
     "output_type": "stream",
     "text": [
      "PySpark found\n",
      "Does Data Folder exist? False\n"
     ]
    }
   ],
   "source": [
    "from scripts.StreamProcessing import Stream_Data # found in the scripts folder inside StreamProcessing.py. This class uses PySpark"
   ]
  },
  {
   "attachments": {},
   "cell_type": "markdown",
   "metadata": {},
   "source": [
    "https://berkeleyearth.org/data/"
   ]
  },
  {
   "attachments": {},
   "cell_type": "markdown",
   "metadata": {},
   "source": [
    "### A note on block \n",
    "\n",
    "These might take a while as PySpark attempts to download some additional files"
   ]
  },
  {
   "cell_type": "code",
   "execution_count": 2,
   "metadata": {},
   "outputs": [
    {
     "name": "stdout",
     "output_type": "stream",
     "text": [
      "/media/camagakhan/DATA/Repositories/BigDataProcessing/Assignment/BigDataProcessingClimateChange/notebooks/scripts/sqlite-jdbc-3.34.0.jar\n"
     ]
    },
    {
     "name": "stderr",
     "output_type": "stream",
     "text": [
      "23/05/11 22:32:02 WARN Utils: Your hostname, camagakhan-Inspiron-7577 resolves to a loopback address: 127.0.1.1; using 10.5.50.207 instead (on interface wlp60s0)\n",
      "23/05/11 22:32:02 WARN Utils: Set SPARK_LOCAL_IP if you need to bind to another address\n"
     ]
    },
    {
     "name": "stdout",
     "output_type": "stream",
     "text": [
      ":: loading settings :: url = jar:file:/home/camagakhan/spark-3.4.0-bin-hadoop3/jars/ivy-2.5.1.jar!/org/apache/ivy/core/settings/ivysettings.xml\n"
     ]
    },
    {
     "name": "stderr",
     "output_type": "stream",
     "text": [
      "Ivy Default Cache set to: /home/camagakhan/.ivy2/cache\n",
      "The jars for the packages stored in: /home/camagakhan/.ivy2/jars\n",
      "org.apache.spark#spark-streaming-kafka-0-10_2.12 added as a dependency\n",
      "org.apache.spark#spark-sql-kafka-0-10_2.12 added as a dependency\n",
      ":: resolving dependencies :: org.apache.spark#spark-submit-parent-4561c836-183c-4326-bc08-4338b46d76fb;1.0\n",
      "\tconfs: [default]\n",
      "\tfound org.apache.spark#spark-streaming-kafka-0-10_2.12;3.2.0 in central\n",
      "\tfound org.apache.spark#spark-token-provider-kafka-0-10_2.12;3.2.0 in central\n",
      "\tfound org.apache.kafka#kafka-clients;2.8.0 in central\n",
      "\tfound org.lz4#lz4-java;1.7.1 in central\n",
      "\tfound org.xerial.snappy#snappy-java;1.1.8.4 in central\n",
      "\tfound org.slf4j#slf4j-api;1.7.30 in central\n",
      "\tfound org.apache.hadoop#hadoop-client-runtime;3.3.1 in central\n",
      "\tfound org.spark-project.spark#unused;1.0.0 in central\n",
      "\tfound org.apache.hadoop#hadoop-client-api;3.3.1 in central\n",
      "\tfound org.apache.htrace#htrace-core4;4.1.0-incubating in central\n",
      "\tfound commons-logging#commons-logging;1.1.3 in central\n",
      "\tfound com.google.code.findbugs#jsr305;3.0.0 in central\n",
      "\tfound org.apache.spark#spark-sql-kafka-0-10_2.12;3.2.0 in central\n",
      "\tfound org.apache.commons#commons-pool2;2.6.2 in central\n",
      ":: resolution report :: resolve 673ms :: artifacts dl 22ms\n",
      "\t:: modules in use:\n",
      "\tcom.google.code.findbugs#jsr305;3.0.0 from central in [default]\n",
      "\tcommons-logging#commons-logging;1.1.3 from central in [default]\n",
      "\torg.apache.commons#commons-pool2;2.6.2 from central in [default]\n",
      "\torg.apache.hadoop#hadoop-client-api;3.3.1 from central in [default]\n",
      "\torg.apache.hadoop#hadoop-client-runtime;3.3.1 from central in [default]\n",
      "\torg.apache.htrace#htrace-core4;4.1.0-incubating from central in [default]\n",
      "\torg.apache.kafka#kafka-clients;2.8.0 from central in [default]\n",
      "\torg.apache.spark#spark-sql-kafka-0-10_2.12;3.2.0 from central in [default]\n",
      "\torg.apache.spark#spark-streaming-kafka-0-10_2.12;3.2.0 from central in [default]\n",
      "\torg.apache.spark#spark-token-provider-kafka-0-10_2.12;3.2.0 from central in [default]\n",
      "\torg.lz4#lz4-java;1.7.1 from central in [default]\n",
      "\torg.slf4j#slf4j-api;1.7.30 from central in [default]\n",
      "\torg.spark-project.spark#unused;1.0.0 from central in [default]\n",
      "\torg.xerial.snappy#snappy-java;1.1.8.4 from central in [default]\n",
      "\t---------------------------------------------------------------------\n",
      "\t|                  |            modules            ||   artifacts   |\n",
      "\t|       conf       | number| search|dwnlded|evicted|| number|dwnlded|\n",
      "\t---------------------------------------------------------------------\n",
      "\t|      default     |   14  |   0   |   0   |   0   ||   14  |   0   |\n",
      "\t---------------------------------------------------------------------\n",
      ":: retrieving :: org.apache.spark#spark-submit-parent-4561c836-183c-4326-bc08-4338b46d76fb\n",
      "\tconfs: [default]\n",
      "\t0 artifacts copied, 14 already retrieved (0kB/14ms)\n",
      "23/05/11 22:32:03 WARN NativeCodeLoader: Unable to load native-hadoop library for your platform... using builtin-java classes where applicable\n",
      "Setting default log level to \"WARN\".\n",
      "To adjust logging level use sc.setLogLevel(newLevel). For SparkR, use setLogLevel(newLevel).\n"
     ]
    }
   ],
   "source": [
    "# Initialize the Stream_Data Class using the topic name/s established in the kafka-config/kafka-config.ipynb and add the host of your kafka instance in the host parameter\n",
    "emissions_config = Stream_Data(topics='ghg_data', host='localhost:9092')\n",
    "query, emissions_df = emissions_config.getData()\n",
    "#temperatures"
   ]
  },
  {
   "attachments": {},
   "cell_type": "markdown",
   "metadata": {},
   "source": [
    "### NOTE\n",
    "Everything is configered while initializing the PySpark Session in the ```StreamProcessing.py``` class. DO NOT remove the ```from graphframes import *```, as the jar files are loaded while getting the data from the previous code block"
   ]
  },
  {
   "cell_type": "code",
   "execution_count": null,
   "metadata": {},
   "outputs": [
    {
     "name": "stderr",
     "output_type": "stream",
     "text": [
      "PySpark found               (0 + 1) / 1][Stage 1:>                  (0 + 1) / 1]\n",
      "Does Data Folder exist? False\n",
      "                                                                                \r"
     ]
    },
    {
     "name": "stdout",
     "output_type": "stream",
     "text": [
      "-------------------------------------------\n",
      "Batch: 0\n",
      "-------------------------------------------\n"
     ]
    },
    {
     "name": "stderr",
     "output_type": "stream",
     "text": [
      "[Stage 1:>                                                          (0 + 1) / 1]\r"
     ]
    },
    {
     "name": "stdout",
     "output_type": "stream",
     "text": [
      "+------+---------+---+----------------+-----+--------------------+----+----+----------+--------------------+-------------+---------+-------------------+---------------+----------+---------+-----+\n",
      "|﻿\"COU\"|  Country|POL|       Pollutant|  VAR|            Variable| YEA|Year|  UnitCode|                Unit|PowerCodeCode|PowerCode|ReferencePeriodCode|ReferencePeriod|     Value|FlagCodes|Flags|\n",
      "+------+---------+---+----------------+-----+--------------------+----+----+----------+--------------------+-------------+---------+-------------------+---------------+----------+---------+-----+\n",
      "|   AUS|Australia|GHG|Greenhouse gases|TOTAL|Total  emissions ...|1990|1990|T_CO2_EQVT|Tonnes of CO2 equ...|            3|Thousands|               null|           null|425624.307|         |     |\n",
      "|   AUS|Australia|GHG|Greenhouse gases|TOTAL|Total  emissions ...|1991|1991|T_CO2_EQVT|Tonnes of CO2 equ...|            3|Thousands|               null|           null|425686.445|         |     |\n",
      "|   AUS|Australia|GHG|Greenhouse gases|TOTAL|Total  emissions ...|1992|1992|T_CO2_EQVT|Tonnes of CO2 equ...|            3|Thousands|               null|           null|429473.085|         |     |\n",
      "|   AUS|Australia|GHG|Greenhouse gases|TOTAL|Total  emissions ...|1993|1993|T_CO2_EQVT|Tonnes of CO2 equ...|            3|Thousands|               null|           null|430381.731|         |     |\n",
      "|   AUS|Australia|GHG|Greenhouse gases|TOTAL|Total  emissions ...|1994|1994|T_CO2_EQVT|Tonnes of CO2 equ...|            3|Thousands|               null|           null|430848.498|         |     |\n",
      "|   AUS|Australia|GHG|Greenhouse gases|TOTAL|Total  emissions ...|1995|1995|T_CO2_EQVT|Tonnes of CO2 equ...|            3|Thousands|               null|           null|439269.878|         |     |\n",
      "|   AUS|Australia|GHG|Greenhouse gases|TOTAL|Total  emissions ...|1996|1996|T_CO2_EQVT|Tonnes of CO2 equ...|            3|Thousands|               null|           null|445847.225|         |     |\n",
      "|   AUS|Australia|GHG|Greenhouse gases|TOTAL|Total  emissions ...|1997|1997|T_CO2_EQVT|Tonnes of CO2 equ...|            3|Thousands|               null|           null| 457864.51|         |     |\n",
      "|   AUS|Australia|GHG|Greenhouse gases|TOTAL|Total  emissions ...|1998|1998|T_CO2_EQVT|Tonnes of CO2 equ...|            3|Thousands|               null|           null|472145.832|         |     |\n",
      "|   AUS|Australia|GHG|Greenhouse gases|TOTAL|Total  emissions ...|1999|1999|T_CO2_EQVT|Tonnes of CO2 equ...|            3|Thousands|               null|           null|478136.875|         |     |\n",
      "|   AUS|Australia|GHG|Greenhouse gases|TOTAL|Total  emissions ...|2000|2000|T_CO2_EQVT|Tonnes of CO2 equ...|            3|Thousands|               null|           null|489528.649|         |     |\n",
      "|   AUS|Australia|GHG|Greenhouse gases|TOTAL|Total  emissions ...|2001|2001|T_CO2_EQVT|Tonnes of CO2 equ...|            3|Thousands|               null|           null|497352.025|         |     |\n",
      "|   AUS|Australia|GHG|Greenhouse gases|TOTAL|Total  emissions ...|2002|2002|T_CO2_EQVT|Tonnes of CO2 equ...|            3|Thousands|               null|           null|501000.843|         |     |\n",
      "|   AUS|Australia|GHG|Greenhouse gases|TOTAL|Total  emissions ...|2003|2003|T_CO2_EQVT|Tonnes of CO2 equ...|            3|Thousands|               null|           null|501128.976|         |     |\n",
      "|   AUS|Australia|GHG|Greenhouse gases|TOTAL|Total  emissions ...|2004|2004|T_CO2_EQVT|Tonnes of CO2 equ...|            3|Thousands|               null|           null|518408.438|         |     |\n",
      "|   AUS|Australia|GHG|Greenhouse gases|TOTAL|Total  emissions ...|2005|2005|T_CO2_EQVT|Tonnes of CO2 equ...|            3|Thousands|               null|           null|524811.845|         |     |\n",
      "|   AUS|Australia|GHG|Greenhouse gases|TOTAL|Total  emissions ...|2006|2006|T_CO2_EQVT|Tonnes of CO2 equ...|            3|Thousands|               null|           null|529240.641|         |     |\n",
      "|   AUS|Australia|GHG|Greenhouse gases|TOTAL|Total  emissions ...|2007|2007|T_CO2_EQVT|Tonnes of CO2 equ...|            3|Thousands|               null|           null|535807.552|         |     |\n",
      "|   AUS|Australia|GHG|Greenhouse gases|TOTAL|Total  emissions ...|2008|2008|T_CO2_EQVT|Tonnes of CO2 equ...|            3|Thousands|               null|           null|538590.714|         |     |\n",
      "|   AUS|Australia|GHG|Greenhouse gases|TOTAL|Total  emissions ...|2009|2009|T_CO2_EQVT|Tonnes of CO2 equ...|            3|Thousands|               null|           null|541475.792|         |     |\n",
      "+------+---------+---+----------------+-----+--------------------+----+----+----------+--------------------+-------------+---------+-------------------+---------------+----------+---------+-----+\n",
      "only showing top 20 rows\n",
      "\n"
     ]
    }
   ],
   "source": [
    "from graphframes import * "
   ]
  }
 ],
 "metadata": {
  "kernelspec": {
   "display_name": "base",
   "language": "python",
   "name": "python3"
  },
  "language_info": {
   "codemirror_mode": {
    "name": "ipython",
    "version": 3
   },
   "file_extension": ".py",
   "mimetype": "text/x-python",
   "name": "python",
   "nbconvert_exporter": "python",
   "pygments_lexer": "ipython3",
   "version": "3.9.16"
  },
  "orig_nbformat": 4
 },
 "nbformat": 4,
 "nbformat_minor": 2
}
