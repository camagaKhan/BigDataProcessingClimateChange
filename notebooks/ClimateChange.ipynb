{
 "cells": [
  {
   "cell_type": "code",
   "execution_count": 7,
   "metadata": {},
   "outputs": [],
   "source": [
    "from scripts.StreamProcessing import Stream_Data, ClimateChangeDataset # found in the scripts folder inside StreamProcessing.py. This class uses PySpark"
   ]
  },
  {
   "attachments": {},
   "cell_type": "markdown",
   "metadata": {},
   "source": [
    "https://berkeleyearth.org/data/"
   ]
  },
  {
   "attachments": {},
   "cell_type": "markdown",
   "metadata": {},
   "source": [
    "### A note on block \n",
    "\n",
    "These might take a while as PySpark attempts to download some additional files"
   ]
  },
  {
   "cell_type": "code",
   "execution_count": 8,
   "metadata": {},
   "outputs": [
    {
     "name": "stdout",
     "output_type": "stream",
     "text": [
      "/media/camagakhan/DATA/Repositories/BigDataProcessing/Assignment/BigDataProcessingClimateChange/notebooks/scripts/mysql-connector-j-8.0.33.jar\n",
      "/media/camagakhan/DATA/Repositories/BigDataProcessing/Assignment/BigDataProcessingClimateChange/notebooks/scripts/graphframes-0.8.2-spark3.2-s_2.12.jar\n"
     ]
    },
    {
     "name": "stderr",
     "output_type": "stream",
     "text": [
      "[Stage 6:>                                                          (0 + 1) / 1]\r"
     ]
    },
    {
     "name": "stdout",
     "output_type": "stream",
     "text": [
      "-------------------------------------------\n",
      "Batch: 0\n",
      "-------------------------------------------\n",
      "+-----------+---------+----+-----+\n",
      "|    Country|Pollutant|Year|Value|\n",
      "+-----------+---------+----+-----+\n",
      "|Afghanistan|      GHG|1990| 9.58|\n",
      "|Afghanistan|      GHG|1991| 9.81|\n",
      "|Afghanistan|      GHG|1992| 9.03|\n",
      "|Afghanistan|      GHG|1993| 9.11|\n",
      "|Afghanistan|      GHG|1994| 9.15|\n",
      "|Afghanistan|      GHG|1995| 9.58|\n",
      "|Afghanistan|      GHG|1996|10.61|\n",
      "|Afghanistan|      GHG|1997|11.58|\n",
      "|Afghanistan|      GHG|1998| 12.4|\n",
      "|Afghanistan|      GHG|1999|13.28|\n",
      "|Afghanistan|      GHG|2000| 11.5|\n",
      "|Afghanistan|      GHG|2001|12.37|\n",
      "|Afghanistan|      GHG|2002|15.01|\n",
      "|Afghanistan|      GHG|2003|15.65|\n",
      "|Afghanistan|      GHG|2004|15.44|\n",
      "|Afghanistan|      GHG|2005|16.35|\n",
      "|Afghanistan|      GHG|2006|16.87|\n",
      "|Afghanistan|      GHG|2007|17.26|\n",
      "|Afghanistan|      GHG|2008|20.66|\n",
      "|Afghanistan|      GHG|2009|22.75|\n",
      "+-----------+---------+----+-----+\n",
      "only showing top 20 rows\n",
      "\n"
     ]
    },
    {
     "name": "stderr",
     "output_type": "stream",
     "text": [
      "                                                                                \r"
     ]
    }
   ],
   "source": [
    "# Initialize the Stream_Data Class using the topic name/s established in the kafka-config/kafka-config.ipynb and add the host of your kafka instance in the host parameter\n",
    "emissions_config = Stream_Data(topics='ghg_data', host='localhost:9092')\n",
    "e_session, query, emissions_df = emissions_config.getData()\n",
    "#temperatures"
   ]
  },
  {
   "cell_type": "code",
   "execution_count": null,
   "metadata": {},
   "outputs": [
    {
     "name": "stdout",
     "output_type": "stream",
     "text": [
      "/media/camagakhan/DATA/Repositories/BigDataProcessing/Assignment/BigDataProcessingClimateChange/notebooks/scripts/mysql-connector-j-8.0.33.jar\n",
      "/media/camagakhan/DATA/Repositories/BigDataProcessing/Assignment/BigDataProcessingClimateChange/notebooks/scripts/graphframes-0.8.2-spark3.2-s_2.12.jar\n"
     ]
    },
    {
     "name": "stderr",
     "output_type": "stream",
     "text": [
      "                                                                                \r"
     ]
    },
    {
     "name": "stdout",
     "output_type": "stream",
     "text": [
      "-------------------------------------------\n",
      "Batch: 0\n",
      "-------------------------------------------\n",
      "+-----------+----+----+------------+\n",
      "|     Entity|Code|Year|       Value|\n",
      "+-----------+----+----+------------+\n",
      "|Afghanistan| AFG|1949|0.0019223358|\n",
      "|Afghanistan| AFG|1950| 0.011265611|\n",
      "|Afghanistan| AFG|1951| 0.012097932|\n",
      "|Afghanistan| AFG|1952| 0.011946474|\n",
      "|Afghanistan| AFG|1953| 0.013684762|\n",
      "|Afghanistan| AFG|1954| 0.013511202|\n",
      "|Afghanistan| AFG|1955| 0.019303724|\n",
      "|Afghanistan| AFG|1956| 0.022651596|\n",
      "|Afghanistan| AFG|1957|   0.0357019|\n",
      "|Afghanistan| AFG|1958| 0.039568856|\n",
      "|Afghanistan| AFG|1959|  0.04541344|\n",
      "|Afghanistan| AFG|1960|  0.04800073|\n",
      "|Afghanistan| AFG|1961|  0.05583506|\n",
      "|Afghanistan| AFG|1962|  0.07677442|\n",
      "|Afghanistan| AFG|1963|  0.07717596|\n",
      "|Afghanistan| AFG|1964|  0.08963178|\n",
      "|Afghanistan| AFG|1965|  0.10526929|\n",
      "|Afghanistan| AFG|1966|  0.11153449|\n",
      "|Afghanistan| AFG|1967|  0.12805797|\n",
      "|Afghanistan| AFG|1968| 0.119381055|\n",
      "+-----------+----+----+------------+\n",
      "only showing top 20 rows\n",
      "\n"
     ]
    },
    {
     "name": "stderr",
     "output_type": "stream",
     "text": [
      "[Stage 9:>                                                          (0 + 1) / 1]\r"
     ]
    }
   ],
   "source": [
    "# Initialize the Stream_Data Class using the topic name/s established in the kafka-config/kafka-config.ipynb and add the host of your kafka instance in the host parameter\n",
    "C02_config = Stream_Data(topics='C02', host='localhost:9092')\n",
    "c02_session, query_c02, C02_df = C02_config.getData()"
   ]
  },
  {
   "cell_type": "code",
   "execution_count": 10,
   "metadata": {},
   "outputs": [
    {
     "name": "stdout",
     "output_type": "stream",
     "text": [
      "/media/camagakhan/DATA/Repositories/BigDataProcessing/Assignment/BigDataProcessingClimateChange/notebooks/scripts/mysql-connector-j-8.0.33.jar\n",
      "/media/camagakhan/DATA/Repositories/BigDataProcessing/Assignment/BigDataProcessingClimateChange/notebooks/scripts/graphframes-0.8.2-spark3.2-s_2.12.jar\n"
     ]
    },
    {
     "name": "stderr",
     "output_type": "stream",
     "text": [
      "                                                                                \r"
     ]
    },
    {
     "name": "stdout",
     "output_type": "stream",
     "text": [
      "-------------------------------------------\n",
      "Batch: 0\n",
      "-------------------------------------------\n",
      "+--------+--------------------+------------------+-----------+---------+--------+\n",
      "|REF_AREA|             Measure|      UNIT_MEASURE|TIME_PERIOD|OBS_VALUE|REF_CODE|\n",
      "+--------+--------------------+------------------+-----------+---------+--------+\n",
      "|   Yemen|TEMP_C: Annual te...|C: Degrees celsius|       1979|    -0.55|     YEM|\n",
      "|   Yemen|TEMP_C: Annual te...|C: Degrees celsius|       1980|    -0.17|     YEM|\n",
      "|   Yemen|TEMP_C: Annual te...|C: Degrees celsius|       1981|    -0.48|     YEM|\n",
      "|   Yemen|TEMP_C: Annual te...|C: Degrees celsius|       1982|    -0.53|     YEM|\n",
      "|   Yemen|TEMP_C: Annual te...|C: Degrees celsius|       1983|    -0.89|     YEM|\n",
      "|   Yemen|TEMP_C: Annual te...|C: Degrees celsius|       1984|    -0.82|     YEM|\n",
      "|   Yemen|TEMP_C: Annual te...|C: Degrees celsius|       1985|    -0.43|     YEM|\n",
      "|   Yemen|TEMP_C: Annual te...|C: Degrees celsius|       1986|    -0.53|     YEM|\n",
      "|   Yemen|TEMP_C: Annual te...|C: Degrees celsius|       1987|    -0.12|     YEM|\n",
      "|   Yemen|TEMP_C: Annual te...|C: Degrees celsius|       1988|    -0.14|     YEM|\n",
      "|   Yemen|TEMP_C: Annual te...|C: Degrees celsius|       1989|    -0.64|     YEM|\n",
      "|   Yemen|TEMP_C: Annual te...|C: Degrees celsius|       1990|     0.31|     YEM|\n",
      "|   Yemen|TEMP_C: Annual te...|C: Degrees celsius|       1991|     0.05|     YEM|\n",
      "|   Yemen|TEMP_C: Annual te...|C: Degrees celsius|       1992|    -0.59|     YEM|\n",
      "|   Yemen|TEMP_C: Annual te...|C: Degrees celsius|       1993|    -0.28|     YEM|\n",
      "|   Yemen|TEMP_C: Annual te...|C: Degrees celsius|       1994|    -0.02|     YEM|\n",
      "|   Yemen|TEMP_C: Annual te...|C: Degrees celsius|       1995|    -0.09|     YEM|\n",
      "|   Yemen|TEMP_C: Annual te...|C: Degrees celsius|       1996|    -0.17|     YEM|\n",
      "|   Yemen|TEMP_C: Annual te...|C: Degrees celsius|       1997|     0.36|     YEM|\n",
      "|   Yemen|TEMP_C: Annual te...|C: Degrees celsius|       1998|     0.64|     YEM|\n",
      "+--------+--------------------+------------------+-----------+---------+--------+\n",
      "only showing top 20 rows\n",
      "\n"
     ]
    },
    {
     "name": "stderr",
     "output_type": "stream",
     "text": [
      "[Stage 11:>                                                         (0 + 1) / 1]\r"
     ]
    }
   ],
   "source": [
    "# Initialize the Stream_Data Class using the topic name/s established in the kafka-config/kafka-config.ipynb and add the host of your kafka instance in the host parameter\n",
    "temperature_config = Stream_Data(topics='temperature', host='localhost:9092')\n",
    "t_session, query_temperature, temperature_df = temperature_config.getData()"
   ]
  },
  {
   "attachments": {},
   "cell_type": "markdown",
   "metadata": {},
   "source": [
    "### NOTE\n",
    "Everything is configered while initializing the PySpark Session in the ```StreamProcessing.py``` class. DO NOT remove the ```from graphframes import GraphFrame```, as the jar files are loaded while getting the data from the previous code block"
   ]
  },
  {
   "cell_type": "code",
   "execution_count": 14,
   "metadata": {},
   "outputs": [],
   "source": [
    "from graphframes import GraphFrame\n",
    "import findspark as tt\n",
    "tt.init(emissions_config.getSpark_Path()) \n",
    "from pyspark.sql import functions as F\n",
    "from pyspark.sql.functions import dense_rank, lit\n",
    "from pyspark.sql.window import Window"
   ]
  },
  {
   "cell_type": "code",
   "execution_count": 12,
   "metadata": {},
   "outputs": [
    {
     "name": "stdout",
     "output_type": "stream",
     "text": [
      "DataFrame[REF_AREA: string, Measure: string, UNIT_MEASURE: string, TIME_PERIOD: int, OBS_VALUE: double, REF_CODE: string]\n",
      "DataFrame[Country: string, Pollutant: string, Year: int, Value: double]\n",
      "DataFrame[Entity: string, Code: string, Year: int, Value: double]\n"
     ]
    },
    {
     "name": "stderr",
     "output_type": "stream",
     "text": [
      "                                                                                \r"
     ]
    }
   ],
   "source": [
    "print(temperature_df)\n",
    "print(emissions_df)\n",
    "print(C02_df)"
   ]
  },
  {
   "cell_type": "code",
   "execution_count": 18,
   "metadata": {},
   "outputs": [],
   "source": [
    "temp_df = temperature_df.withColumnRenamed('REF_CODE','COUNTRY_CODE')\n",
    "ghg_df = emissions_df.withColumnRenamed('Pollutant','POL')\n",
    "C02_temp_df = C02_df.withColumnRenamed('Entity','Country')\n",
    "C02_temp_df = C02_temp_df.withColumn('POL', lit('C02'))\n",
    "\n",
    "myDataset = temp_df.join(ghg_df, (temp_df.REF_AREA == ghg_df.Country) & (temp_df.TIME_PERIOD == ghg_df.Year), 'inner')\n",
    "\n",
    "\n",
    "myDataset = myDataset.select(temp_df.COUNTRY_CODE, ghg_df.Country,ghg_df.Year, temp_df.UNIT_MEASURE, temp_df.OBS_VALUE, ghg_df.POL, ghg_df.Value)\n",
    "\n",
    "C02ML = temp_df.join(C02_temp_df, (temp_df.COUNTRY_CODE == C02_temp_df.Code) & (temp_df.TIME_PERIOD == C02_temp_df.Year), 'inner')\n",
    "\n",
    "C02ML = C02ML.select(temp_df.COUNTRY_CODE, C02_temp_df.Country, C02_temp_df.Year, temp_df.UNIT_MEASURE, temp_df.OBS_VALUE, C02_temp_df.POL, C02_temp_df.Value)\n",
    "\n",
    "# ran into out of memory exception\n",
    "\n",
    "# We'll be assigning the country_codes as ids to map relationships"
   ]
  },
  {
   "attachments": {},
   "cell_type": "markdown",
   "metadata": {},
   "source": [
    "Store the Dataset before we attempt to use models"
   ]
  },
  {
   "cell_type": "code",
   "execution_count": 19,
   "metadata": {},
   "outputs": [],
   "source": [
    "config_train = Stream_Data(topics=None, host='localhost:9092')\n",
    "config_train.storeData('climate_change', myDataset) # we are about to store the new dataset in a mySQL table"
   ]
  },
  {
   "cell_type": "code",
   "execution_count": 20,
   "metadata": {},
   "outputs": [
    {
     "name": "stderr",
     "output_type": "stream",
     "text": [
      "[Stage 12:>                 (0 + 1) / 1][Stage 13:>                 (0 + 1) / 1]\r"
     ]
    },
    {
     "name": "stderr",
     "output_type": "stream",
     "text": [
      "                                                                                \r"
     ]
    }
   ],
   "source": [
    "C02_Config_train = Stream_Data(topics=None, host='localhost:9092')\n",
    "C02_Config_train.storeData('C02ML', C02ML)"
   ]
  },
  {
   "attachments": {},
   "cell_type": "markdown",
   "metadata": {},
   "source": [
    "# Machine Learning Section."
   ]
  },
  {
   "cell_type": "code",
   "execution_count": 21,
   "metadata": {},
   "outputs": [],
   "source": [
    "from pyspark.ml.feature import StandardScaler, VectorAssembler\n",
    "from pyspark.ml.regression import LinearRegression\n",
    "from pyspark.ml.evaluation import RegressionEvaluator\n",
    "from pyspark.ml import Pipeline"
   ]
  },
  {
   "attachments": {},
   "cell_type": "markdown",
   "metadata": {},
   "source": [
    "# For Greenhouse Gases"
   ]
  },
  {
   "attachments": {},
   "cell_type": "markdown",
   "metadata": {},
   "source": [
    "In the following code block we are setting up the Linear Regression to set up a model to predict the temperatures based on the given Green house Gases levels"
   ]
  },
  {
   "cell_type": "code",
   "execution_count": 22,
   "metadata": {},
   "outputs": [],
   "source": [
    "assembler = VectorAssembler(inputCols=['Partition', 'Year', 'Value'], outputCol='features')\n",
    "#scaler = StandardScaler(inputCol='features', outputCol='scaledFeatures')\n",
    "linear_regression = LinearRegression(labelCol='OBS_VALUE', featuresCol='features')\n",
    "linear_regression.setMaxIter(50)\n",
    "'''\n",
    "    Stages\n",
    "\n",
    "    1) Get the features of the model,\n",
    "    2) apply training using linear regression. This uses the OBS_VALUE (which is the temperature value) as Y\n",
    "'''\n",
    "pipeline = Pipeline(stages=[assembler, linear_regression])"
   ]
  },
  {
   "cell_type": "code",
   "execution_count": 23,
   "metadata": {},
   "outputs": [
    {
     "name": "stdout",
     "output_type": "stream",
     "text": [
      "/media/camagakhan/DATA/Repositories/BigDataProcessing/Assignment/BigDataProcessingClimateChange/notebooks/scripts/graphframes-0.8.2-spark3.2-s_2.12.jar\n",
      "+------------+------------------+----+------------------+---------+---+-------+\n",
      "|COUNTRY_CODE|           Country|Year|      UNIT_MEASURE|OBS_VALUE|POL|  Value|\n",
      "+------------+------------------+----+------------------+---------+---+-------+\n",
      "|         BRB|          Barbados|1998|C: Degrees celsius|     0.56|GHG|   3.59|\n",
      "|         BWA|          Botswana|2014|C: Degrees celsius|    -0.44|GHG|  54.09|\n",
      "|         CMR|          Cameroon|1996|C: Degrees celsius|    -0.08|GHG| 133.83|\n",
      "|         CAN|            Canada|2009|C: Degrees celsius|     0.15|GHG| 954.58|\n",
      "|         CAN|            Canada|2019|C: Degrees celsius|     0.68|GHG| 774.29|\n",
      "|         COL|          Colombia|2006|C: Degrees celsius|     0.23|GHG| 227.02|\n",
      "|         COM|           Comoros|2003|C: Degrees celsius|     0.24|GHG|   0.41|\n",
      "|         HRV|           Croatia|2014|C: Degrees celsius|     1.34|GHG|   20.5|\n",
      "|         DJI|          Djibouti|2001|C: Degrees celsius|     -0.1|GHG|   1.23|\n",
      "|         DOM|Dominican Republic|2017|C: Degrees celsius|     0.48|GHG|  35.47|\n",
      "|         GAB|             Gabon|2007|C: Degrees celsius|     0.37|GHG|  15.21|\n",
      "|         GAB|             Gabon|2010|C: Degrees celsius|     0.69|GHG|  16.48|\n",
      "|         DEU|           Germany|2006|C: Degrees celsius|     0.78|GHG|  913.4|\n",
      "|         GNB|     Guinea-Bissau|1994|C: Degrees celsius|    -0.37|GHG|   3.29|\n",
      "|         HND|          Honduras|2009|C: Degrees celsius|     0.25|GHG|  23.72|\n",
      "|         ITA|             Italy|1991|C: Degrees celsius|    -0.83|GHG| 446.34|\n",
      "|         JPN|             Japan|2001|C: Degrees celsius|    -0.19|GHG|1156.68|\n",
      "|         KAZ|        Kazakhstan|2017|C: Degrees celsius|     0.82|GHG| 276.98|\n",
      "|         LVA|            Latvia|2007|C: Degrees celsius|     0.88|GHG|  -1.36|\n",
      "|        LV00|            Latvia|2007|C: Degrees celsius|     0.88|GHG|  -1.36|\n",
      "+------------+------------------+----+------------------+---------+---+-------+\n",
      "only showing top 20 rows\n",
      "\n"
     ]
    }
   ],
   "source": [
    "climate_change_df = ClimateChangeDataset().loadDataset()\n",
    "climate_change_df.show()"
   ]
  },
  {
   "cell_type": "code",
   "execution_count": 24,
   "metadata": {},
   "outputs": [
    {
     "name": "stdout",
     "output_type": "stream",
     "text": [
      "+------------+-----------+----+------------------+---------+---+-----+---------+\n",
      "|COUNTRY_CODE|    Country|Year|      UNIT_MEASURE|OBS_VALUE|POL|Value|Partition|\n",
      "+------------+-----------+----+------------------+---------+---+-----+---------+\n",
      "|         AFG|Afghanistan|1990|C: Degrees celsius|     0.05|GHG| 9.58|        1|\n",
      "|         AFG|Afghanistan|1991|C: Degrees celsius|    -0.96|GHG| 9.81|        2|\n",
      "|         AFG|Afghanistan|1992|C: Degrees celsius|    -1.19|GHG| 9.03|        3|\n",
      "|         AFG|Afghanistan|1993|C: Degrees celsius|    -0.67|GHG| 9.11|        4|\n",
      "|         AFG|Afghanistan|1994|C: Degrees celsius|    -0.34|GHG| 9.15|        5|\n",
      "|         AFG|Afghanistan|1995|C: Degrees celsius|    -0.46|GHG| 9.58|        6|\n",
      "|         AFG|Afghanistan|1996|C: Degrees celsius|    -0.68|GHG|10.61|        7|\n",
      "|         AFG|Afghanistan|1997|C: Degrees celsius|    -0.57|GHG|11.58|        8|\n",
      "|         AFG|Afghanistan|1998|C: Degrees celsius|     0.47|GHG| 12.4|        9|\n",
      "|         AFG|Afghanistan|1999|C: Degrees celsius|     0.38|GHG|13.28|       10|\n",
      "|         AFG|Afghanistan|2000|C: Degrees celsius|      0.4|GHG| 11.5|       11|\n",
      "|         AFG|Afghanistan|2001|C: Degrees celsius|     1.23|GHG|12.37|       12|\n",
      "|         AFG|Afghanistan|2002|C: Degrees celsius|     0.87|GHG|15.01|       13|\n",
      "|         AFG|Afghanistan|2003|C: Degrees celsius|      0.3|GHG|15.65|       14|\n",
      "|         AFG|Afghanistan|2004|C: Degrees celsius|     1.05|GHG|15.44|       15|\n",
      "|         AFG|Afghanistan|2005|C: Degrees celsius|    -0.21|GHG|16.35|       16|\n",
      "|         AFG|Afghanistan|2006|C: Degrees celsius|     1.25|GHG|16.87|       17|\n",
      "|         AFG|Afghanistan|2007|C: Degrees celsius|     0.38|GHG|17.26|       18|\n",
      "|         AFG|Afghanistan|2008|C: Degrees celsius|     0.53|GHG|20.66|       19|\n",
      "|         AFG|Afghanistan|2009|C: Degrees celsius|     0.16|GHG|22.75|       20|\n",
      "+------------+-----------+----+------------------+---------+---+-----+---------+\n",
      "only showing top 20 rows\n",
      "\n"
     ]
    }
   ],
   "source": [
    "climate_change_df = climate_change_df.withColumn('Partition', dense_rank().over(Window.partitionBy('COUNTRY_CODE').orderBy('Year')))\n",
    "climate_change_df.show()"
   ]
  },
  {
   "cell_type": "code",
   "execution_count": 25,
   "metadata": {},
   "outputs": [],
   "source": [
    "train, test = climate_change_df.randomSplit([0.8, 0.2], seed=42)"
   ]
  },
  {
   "attachments": {},
   "cell_type": "markdown",
   "metadata": {},
   "source": [
    "## Correlation between Year and Temperature (Total emissions excluding LULUCF)"
   ]
  },
  {
   "cell_type": "code",
   "execution_count": 26,
   "metadata": {},
   "outputs": [
    {
     "data": {
      "text/plain": [
       "0.5408678020383442"
      ]
     },
     "execution_count": 26,
     "metadata": {},
     "output_type": "execute_result"
    }
   ],
   "source": [
    "climate_change_df.stat.corr('Year', 'OBS_VALUE')"
   ]
  },
  {
   "attachments": {},
   "cell_type": "markdown",
   "metadata": {},
   "source": [
    "## Correlation between Year and Emissions Value ('Total emissions excluding LULUCF')"
   ]
  },
  {
   "cell_type": "code",
   "execution_count": 27,
   "metadata": {},
   "outputs": [
    {
     "data": {
      "text/plain": [
       "0.02287905746167048"
      ]
     },
     "execution_count": 27,
     "metadata": {},
     "output_type": "execute_result"
    }
   ],
   "source": [
    "climate_change_df.stat.corr('Year', 'Value')"
   ]
  },
  {
   "attachments": {},
   "cell_type": "markdown",
   "metadata": {},
   "source": [
    "## Correlation between Temperature and Emissions Value (Total emissions excluding LULUCF)"
   ]
  },
  {
   "cell_type": "code",
   "execution_count": 28,
   "metadata": {},
   "outputs": [
    {
     "data": {
      "text/plain": [
       "0.03520722512137209"
      ]
     },
     "execution_count": 28,
     "metadata": {},
     "output_type": "execute_result"
    }
   ],
   "source": [
    "climate_change_df.stat.corr('Value', 'OBS_VALUE')"
   ]
  },
  {
   "attachments": {},
   "cell_type": "markdown",
   "metadata": {},
   "source": [
    "### Dataset Analysis"
   ]
  },
  {
   "cell_type": "code",
   "execution_count": 29,
   "metadata": {},
   "outputs": [
    {
     "name": "stdout",
     "output_type": "stream",
     "text": [
      "+------------+-----------+----+------------------+---------+---+-----+---------+\n",
      "|COUNTRY_CODE|    Country|Year|      UNIT_MEASURE|OBS_VALUE|POL|Value|Partition|\n",
      "+------------+-----------+----+------------------+---------+---+-----+---------+\n",
      "|         AFG|Afghanistan|1990|C: Degrees celsius|     0.05|GHG| 9.58|        1|\n",
      "|         AFG|Afghanistan|1991|C: Degrees celsius|    -0.96|GHG| 9.81|        2|\n",
      "|         AFG|Afghanistan|1993|C: Degrees celsius|    -0.67|GHG| 9.11|        4|\n",
      "|         AFG|Afghanistan|1994|C: Degrees celsius|    -0.34|GHG| 9.15|        5|\n",
      "|         AFG|Afghanistan|1995|C: Degrees celsius|    -0.46|GHG| 9.58|        6|\n",
      "|         AFG|Afghanistan|1997|C: Degrees celsius|    -0.57|GHG|11.58|        8|\n",
      "|         AFG|Afghanistan|1999|C: Degrees celsius|     0.38|GHG|13.28|       10|\n",
      "|         AFG|Afghanistan|2000|C: Degrees celsius|      0.4|GHG| 11.5|       11|\n",
      "|         AFG|Afghanistan|2001|C: Degrees celsius|     1.23|GHG|12.37|       12|\n",
      "|         AFG|Afghanistan|2002|C: Degrees celsius|     0.87|GHG|15.01|       13|\n",
      "|         AFG|Afghanistan|2004|C: Degrees celsius|     1.05|GHG|15.44|       15|\n",
      "|         AFG|Afghanistan|2005|C: Degrees celsius|    -0.21|GHG|16.35|       16|\n",
      "|         AFG|Afghanistan|2006|C: Degrees celsius|     1.25|GHG|16.87|       17|\n",
      "|         AFG|Afghanistan|2007|C: Degrees celsius|     0.38|GHG|17.26|       18|\n",
      "|         AFG|Afghanistan|2008|C: Degrees celsius|     0.53|GHG|20.66|       19|\n",
      "|         AFG|Afghanistan|2010|C: Degrees celsius|     1.24|GHG|27.24|       21|\n",
      "|         AFG|Afghanistan|2011|C: Degrees celsius|     0.82|GHG|29.17|       22|\n",
      "|         AFG|Afghanistan|2012|C: Degrees celsius|    -0.56|GHG|28.55|       23|\n",
      "|         AFG|Afghanistan|2014|C: Degrees celsius|     0.12|GHG|26.52|       25|\n",
      "|         AFG|Afghanistan|2015|C: Degrees celsius|     0.79|GHG|26.84|       26|\n",
      "+------------+-----------+----+------------------+---------+---+-----+---------+\n",
      "only showing top 20 rows\n",
      "\n"
     ]
    }
   ],
   "source": [
    "train.show()"
   ]
  },
  {
   "cell_type": "code",
   "execution_count": 30,
   "metadata": {},
   "outputs": [],
   "source": [
    "val, test = test.randomSplit([.5, .5], seed=42)"
   ]
  },
  {
   "cell_type": "code",
   "execution_count": 31,
   "metadata": {},
   "outputs": [
    {
     "name": "stdout",
     "output_type": "stream",
     "text": [
      "+------------+-----------+----+------------------+---------+---+------+---------+\n",
      "|COUNTRY_CODE|    Country|Year|      UNIT_MEASURE|OBS_VALUE|POL| Value|Partition|\n",
      "+------------+-----------+----+------------------+---------+---+------+---------+\n",
      "|         AFG|Afghanistan|2003|C: Degrees celsius|      0.3|GHG| 15.65|       14|\n",
      "|         AGO|     Angola|1995|C: Degrees celsius|     0.31|GHG| 76.32|        6|\n",
      "|         AGO|     Angola|2007|C: Degrees celsius|     0.12|GHG| 117.2|       18|\n",
      "|         AGO|     Angola|2011|C: Degrees celsius|    -0.12|GHG|126.65|       22|\n",
      "|         ALB|    Albania|2007|C: Degrees celsius|     0.62|GHG|  7.75|       18|\n",
      "|         AND|    Andorra|2012|C: Degrees celsius|      0.4|GHG|   0.6|       23|\n",
      "|         AND|    Andorra|2017|C: Degrees celsius|     0.99|GHG|  0.59|       28|\n",
      "|         ARG|  Argentina|2000|C: Degrees celsius|    -0.67|GHG|337.38|       11|\n",
      "|         ARG|  Argentina|2004|C: Degrees celsius|     0.34|GHG|414.15|       15|\n",
      "|         ARG|  Argentina|2008|C: Degrees celsius|     0.51|GHG|449.64|       19|\n",
      "|         ARM|    Armenia|2014|C: Degrees celsius|     1.21|GHG|  9.05|       25|\n",
      "|         AUS|  Australia|2004|C: Degrees celsius|     0.07|GHG|627.56|       15|\n",
      "|         AUS|  Australia|2008|C: Degrees celsius|      0.0|GHG|608.78|       19|\n",
      "|         AUS|  Australia|2011|C: Degrees celsius|    -0.64|GHG|639.95|       22|\n",
      "|         AUS|  Australia|2016|C: Degrees celsius|     0.38|GHG|578.39|       27|\n",
      "|         AUS|  Australia|2018|C: Degrees celsius|      0.6|GHG|621.28|       29|\n",
      "|         AZE| Azerbaijan|2002|C: Degrees celsius|     0.15|GHG| 35.44|       13|\n",
      "|         BDI|    Burundi|1995|C: Degrees celsius|     0.06|GHG|  7.31|        6|\n",
      "|         BDI|    Burundi|2008|C: Degrees celsius|    -0.06|GHG|  5.94|       19|\n",
      "|         BEL|    Belgium|1998|C: Degrees celsius|     0.09|GHG|138.07|        9|\n",
      "+------------+-----------+----+------------------+---------+---+------+---------+\n",
      "only showing top 20 rows\n",
      "\n"
     ]
    }
   ],
   "source": [
    "val.show()"
   ]
  },
  {
   "cell_type": "code",
   "execution_count": 32,
   "metadata": {},
   "outputs": [
    {
     "name": "stdout",
     "output_type": "stream",
     "text": [
      "+------------+--------------------+----+------------------+---------+---+------+---------+\n",
      "|COUNTRY_CODE|             Country|Year|      UNIT_MEASURE|OBS_VALUE|POL| Value|Partition|\n",
      "+------------+--------------------+----+------------------+---------+---+------+---------+\n",
      "|         AFG|         Afghanistan|1992|C: Degrees celsius|    -1.19|GHG|  9.03|        3|\n",
      "|         AFG|         Afghanistan|1996|C: Degrees celsius|    -0.68|GHG| 10.61|        7|\n",
      "|         AFG|         Afghanistan|1998|C: Degrees celsius|     0.47|GHG|  12.4|        9|\n",
      "|         AFG|         Afghanistan|2009|C: Degrees celsius|     0.16|GHG| 22.75|       20|\n",
      "|         AFG|         Afghanistan|2013|C: Degrees celsius|     0.66|GHG| 26.77|       24|\n",
      "|         AFG|         Afghanistan|2019|C: Degrees celsius|     0.78|GHG| 28.79|       30|\n",
      "|         AGO|              Angola|2005|C: Degrees celsius|     0.47|GHG|114.87|       16|\n",
      "|         AGO|              Angola|2006|C: Degrees celsius|    -0.27|GHG|112.77|       17|\n",
      "|         AGO|              Angola|2009|C: Degrees celsius|     0.27|GHG|122.45|       20|\n",
      "|         AGO|              Angola|2015|C: Degrees celsius|     0.85|GHG|135.83|       26|\n",
      "|         ALB|             Albania|1992|C: Degrees celsius|     -0.3|GHG|  6.95|        3|\n",
      "|         ALB|             Albania|1999|C: Degrees celsius|     0.46|GHG|  8.02|       10|\n",
      "|         AND|             Andorra|2000|C: Degrees celsius|     0.52|GHG|  0.59|       11|\n",
      "|         AND|             Andorra|2016|C: Degrees celsius|     0.82|GHG|  0.59|       27|\n",
      "|         AND|             Andorra|2018|C: Degrees celsius|     0.73|GHG|  0.62|       29|\n",
      "|         ARE|United Arab Emirates|1999|C: Degrees celsius|     0.81|GHG|108.83|       10|\n",
      "|         ARE|United Arab Emirates|2001|C: Degrees celsius|     0.36|GHG|123.08|       12|\n",
      "|         ARG|           Argentina|1992|C: Degrees celsius|    -0.73|GHG|301.59|        3|\n",
      "|         ARG|           Argentina|2011|C: Degrees celsius|     0.29|GHG|416.09|       22|\n",
      "|         ARM|             Armenia|1993|C: Degrees celsius|    -1.48|GHG|  8.72|        4|\n",
      "+------------+--------------------+----+------------------+---------+---+------+---------+\n",
      "only showing top 20 rows\n",
      "\n"
     ]
    }
   ],
   "source": [
    "test.show()"
   ]
  },
  {
   "cell_type": "code",
   "execution_count": 33,
   "metadata": {},
   "outputs": [],
   "source": [
    "dataset_count = (train.count(), val.count(), test.count())"
   ]
  },
  {
   "cell_type": "code",
   "execution_count": 34,
   "metadata": {},
   "outputs": [],
   "source": [
    "import matplotlib.pyplot as plt"
   ]
  },
  {
   "attachments": {},
   "cell_type": "markdown",
   "metadata": {},
   "source": [
    "The plot shows how the dataset is split before being passed to the model."
   ]
  },
  {
   "cell_type": "code",
   "execution_count": 35,
   "metadata": {},
   "outputs": [
    {
     "data": {
      "image/png": "[encoded data removed]",
      "text/plain": [
       "<Figure size 640x480 with 1 Axes>"
      ]
     },
     "metadata": {},
     "output_type": "display_data"
    }
   ],
   "source": [
    "x_axis = ['Training \\n{0}'.format(dataset_count[0]), 'Validation \\n{0}'.format(dataset_count[1]), 'Test \\n{0}'.format(dataset_count[2])]\n",
    "y_axis = list(dataset_count)\n",
    "plt.bar(x_axis, y_axis, color=['#39C7FF', '#F7DB92', '#E898E2'])\n",
    "plt.title('Training & Test Plot')\n",
    "plt.xlabel('Dataset Type')\n",
    "plt.ylabel('Number of Records')\n",
    "plt.grid()\n",
    "plt.show()"
   ]
  },
  {
   "cell_type": "code",
   "execution_count": 36,
   "metadata": {},
   "outputs": [],
   "source": [
    "pipeline_model = pipeline.fit(train) # training the Linear Regression\n",
    "val_predictions = pipeline_model.transform(val)\n",
    "#test_predictions = pipeline_model.transform(test)"
   ]
  },
  {
   "cell_type": "code",
   "execution_count": 37,
   "metadata": {},
   "outputs": [],
   "source": [
    "test = test.na.drop() \n",
    "test_predictions = pipeline_model.transform(test)"
   ]
  },
  {
   "attachments": {},
   "cell_type": "markdown",
   "metadata": {},
   "source": [
    "For Validation"
   ]
  },
  {
   "cell_type": "code",
   "execution_count": 38,
   "metadata": {},
   "outputs": [
    {
     "name": "stdout",
     "output_type": "stream",
     "text": [
      "RMSE: 0.43305559517245895\n"
     ]
    }
   ],
   "source": [
    "evaluator = RegressionEvaluator(\n",
    "    labelCol = 'OBS_VALUE',\n",
    "    predictionCol = 'prediction',\n",
    "    metricName='rmse'\n",
    ")\n",
    "\n",
    "rmse = evaluator.evaluate(val_predictions)\n",
    "print('RMSE: {0}'.format(rmse))"
   ]
  },
  {
   "cell_type": "code",
   "execution_count": 39,
   "metadata": {},
   "outputs": [
    {
     "name": "stdout",
     "output_type": "stream",
     "text": [
      "R-squared: 0.257867474347119\n"
     ]
    }
   ],
   "source": [
    "evaluator = RegressionEvaluator(\n",
    "    labelCol = 'OBS_VALUE',\n",
    "    predictionCol = 'prediction',\n",
    "    metricName='r2'\n",
    ")\n",
    "r2 = evaluator.evaluate(val_predictions)\n",
    "print('R-squared:', r2)"
   ]
  },
  {
   "attachments": {},
   "cell_type": "markdown",
   "metadata": {},
   "source": [
    "For Test"
   ]
  },
  {
   "cell_type": "code",
   "execution_count": 40,
   "metadata": {},
   "outputs": [
    {
     "name": "stdout",
     "output_type": "stream",
     "text": [
      "RMSE: 0.42410941789432993\n"
     ]
    }
   ],
   "source": [
    "evaluator = RegressionEvaluator(\n",
    "    labelCol = 'OBS_VALUE',\n",
    "    predictionCol = 'prediction',\n",
    "    metricName='rmse'\n",
    ")\n",
    "\n",
    "rmse = evaluator.evaluate(test_predictions)\n",
    "print('RMSE: {0}'.format(rmse))"
   ]
  },
  {
   "cell_type": "code",
   "execution_count": 41,
   "metadata": {},
   "outputs": [
    {
     "name": "stdout",
     "output_type": "stream",
     "text": [
      "R-squared: 0.3218031940115833\n"
     ]
    }
   ],
   "source": [
    "evaluator = RegressionEvaluator(\n",
    "    labelCol = 'OBS_VALUE',\n",
    "    predictionCol = 'prediction',\n",
    "    metricName='r2'\n",
    ")\n",
    "r2 = evaluator.evaluate(test_predictions)\n",
    "print('R-squared:', r2)"
   ]
  },
  {
   "cell_type": "code",
   "execution_count": 42,
   "metadata": {},
   "outputs": [
    {
     "name": "stdout",
     "output_type": "stream",
     "text": [
      "Coefficients: [0.031513399006997095,0.000797336659250646,2.521981993093973e-05]\n",
      "Intercept: -1.8233873714499649\n"
     ]
    }
   ],
   "source": [
    "lr_model = pipeline_model.stages[-1]\n",
    "coefficients = lr_model.coefficients\n",
    "intercept = lr_model.intercept\n",
    "print(f\"Coefficients: {coefficients}\")\n",
    "print(f\"Intercept: {intercept}\")"
   ]
  },
  {
   "cell_type": "code",
   "execution_count": 43,
   "metadata": {},
   "outputs": [
    {
     "name": "stdout",
     "output_type": "stream",
     "text": [
      "RMSE: 0.4562016517424311\n",
      "R-squared: 0.17641606917973263\n"
     ]
    }
   ],
   "source": [
    "from sklearn.svm import SVR\n",
    "from sklearn.metrics import mean_squared_error, r2_score\n",
    "import numpy as np\n",
    "\n",
    "val2, train2 = val, train\n",
    "train2, val2 = assembler.transform(train2), assembler.transform(val2)\n",
    "train_pd = train2.select('features', 'OBS_VALUE').toPandas()\n",
    "val_pd = val2.select('features', 'OBS_VALUE').toPandas()\n",
    "\n",
    "# tried with this: max_iter=20000, epsilon=0.01\n",
    "svr = SVR()\n",
    "svr.fit(train_pd['features'].tolist(), train_pd['OBS_VALUE'])\n",
    "\n",
    "predictions = svr.predict(val_pd['features'].tolist())\n",
    "\n",
    "y_true = val_pd['OBS_VALUE'].tolist()\n",
    "\n",
    "# Calculate the RMSE\n",
    "mse = mean_squared_error(y_true, predictions)\n",
    "rmse = np.sqrt(mse)\n",
    "\n",
    "print(\"RMSE:\", rmse)\n",
    "\n",
    "# Calculate R-squared\n",
    "r2 = r2_score(y_true, predictions)\n",
    "print(\"R-squared:\", r2)"
   ]
  },
  {
   "cell_type": "code",
   "execution_count": 44,
   "metadata": {},
   "outputs": [
    {
     "name": "stdout",
     "output_type": "stream",
     "text": [
      "RMSE: 0.4561342181996718\n",
      "R-squared: 0.21551397129708016\n"
     ]
    }
   ],
   "source": [
    "test2 = test\n",
    "test2 = test2.na.drop() \n",
    "test2 = assembler.transform(test2)\n",
    "\n",
    "test_pd = test2.select('features', 'OBS_VALUE').toPandas()\n",
    "predictions = svr.predict(test_pd['features'].tolist())\n",
    "\n",
    "y_true = test_pd['OBS_VALUE'].tolist()\n",
    "\n",
    "# Calculate the RMSE\n",
    "mse = mean_squared_error(y_true, predictions)\n",
    "rmse = np.sqrt(mse)\n",
    "\n",
    "print(\"RMSE:\", rmse)\n",
    "\n",
    "# Calculate R-squared\n",
    "r2 = r2_score(y_true, predictions)\n",
    "print(\"R-squared:\", r2)"
   ]
  },
  {
   "attachments": {},
   "cell_type": "markdown",
   "metadata": {},
   "source": [
    "# For C02"
   ]
  },
  {
   "cell_type": "code",
   "execution_count": 61,
   "metadata": {},
   "outputs": [],
   "source": [
    "assembler = VectorAssembler(inputCols=['Partition', 'Year', 'VALUE'], outputCol='features')\n",
    "#scaler = StandardScaler(inputCol='features', outputCol='scaledFeatures')\n",
    "linear_regression = LinearRegression(labelCol='OBS_VALUE', featuresCol='features')\n",
    "linear_regression.setMaxIter(50)\n",
    "'''\n",
    "    Stages\n",
    "\n",
    "    1) Get the features of the model,\n",
    "    2) apply training using linear regression. This uses the OBS_VALUE (which is the temperature value) as Y\n",
    "'''\n",
    "pipeline = Pipeline(stages=[assembler, linear_regression])"
   ]
  },
  {
   "cell_type": "code",
   "execution_count": 45,
   "metadata": {},
   "outputs": [
    {
     "name": "stdout",
     "output_type": "stream",
     "text": [
      "/media/camagakhan/DATA/Repositories/BigDataProcessing/Assignment/BigDataProcessingClimateChange/notebooks/scripts/graphframes-0.8.2-spark3.2-s_2.12.jar\n",
      "+------------+-------------+----+------------------+---------+---+----------+\n",
      "|COUNTRY_CODE|      Country|Year|      UNIT_MEASURE|OBS_VALUE|POL|     VALUE|\n",
      "+------------+-------------+----+------------------+---------+---+----------+\n",
      "|         AFG|  Afghanistan|1988|C: Degrees celsius|     0.73|C02|0.27513915|\n",
      "|         AZE|   Azerbaijan|1999|C: Degrees celsius|     0.67|C02| 3.5265093|\n",
      "|         CMR|     Cameroon|2009|C: Degrees celsius|     0.55|C02|0.34131974|\n",
      "|         CAN|       Canada|2020|C: Degrees celsius|      0.5|C02|  14.11671|\n",
      "|         COG|        Congo|2016|C: Degrees celsius|     0.98|C02| 1.1201208|\n",
      "|         CRI|   Costa Rica|2000|C: Degrees celsius|    -0.49|C02| 1.3555207|\n",
      "|         CIV|Cote d'Ivoire|1988|C: Degrees celsius|     0.02|C02| 0.7972863|\n",
      "|         CYP|       Cyprus|1984|C: Degrees celsius|    -0.63|C02| 4.4943943|\n",
      "|         DNK|      Denmark|1991|C: Degrees celsius|    -0.15|C02|  12.44591|\n",
      "|         SLV|  El Salvador|1983|C: Degrees celsius|     0.34|C02| 0.4020238|\n",
      "|         EST|      Estonia|2010|C: Degrees celsius|    -0.93|C02| 14.271136|\n",
      "|         SWZ|     Eswatini|1985|C: Degrees celsius|     0.11|C02| 0.6259601|\n",
      "|         SWZ|     Eswatini|2004|C: Degrees celsius|     0.09|C02|0.93853873|\n",
      "|         GRC|       Greece|1985|C: Degrees celsius|    -0.01|C02|  6.074294|\n",
      "|         GRL|    Greenland|2012|C: Degrees celsius|     1.33|C02| 10.289984|\n",
      "|         GNB|Guinea-Bissau|2003|C: Degrees celsius|     0.15|C02|0.14759932|\n",
      "|         GNB|Guinea-Bissau|2009|C: Degrees celsius|    -0.12|C02|0.15354566|\n",
      "|         HND|     Honduras|2007|C: Degrees celsius|     0.19|C02| 1.0368425|\n",
      "|         IDN|    Indonesia|1990|C: Degrees celsius|    -0.16|C02| 0.7948848|\n",
      "|         KEN|        Kenya|1994|C: Degrees celsius|     0.02|C02|0.24573177|\n",
      "+------------+-------------+----+------------------+---------+---+----------+\n",
      "only showing top 20 rows\n",
      "\n"
     ]
    }
   ],
   "source": [
    "C02_change_df = ClimateChangeDataset(table='C02ML').loadDataset()\n",
    "C02_change_df.show()"
   ]
  },
  {
   "cell_type": "code",
   "execution_count": 46,
   "metadata": {},
   "outputs": [
    {
     "name": "stdout",
     "output_type": "stream",
     "text": [
      "+------------+-------+----+------------------+---------+---+---------+---------+\n",
      "|COUNTRY_CODE|Country|Year|      UNIT_MEASURE|OBS_VALUE|POL|    VALUE|Partition|\n",
      "+------------+-------+----+------------------+---------+---+---------+---------+\n",
      "|         ABW|  Aruba|1979|C: Degrees celsius|     0.04|C02|  9.17164|        1|\n",
      "|         ABW|  Aruba|1980|C: Degrees celsius|     0.16|C02| 9.398992|        2|\n",
      "|         ABW|  Aruba|1981|C: Degrees celsius|     0.18|C02| 8.902912|        3|\n",
      "|         ABW|  Aruba|1982|C: Degrees celsius|     -0.3|C02| 9.875782|        4|\n",
      "|         ABW|  Aruba|1983|C: Degrees celsius|     0.07|C02|5.0308514|        5|\n",
      "|         ABW|  Aruba|1984|C: Degrees celsius|    -0.45|C02|12.465213|        6|\n",
      "|         ABW|  Aruba|1985|C: Degrees celsius|    -0.48|C02|14.521452|        7|\n",
      "|         ABW|  Aruba|1986|C: Degrees celsius|    -0.39|C02|2.7804863|        8|\n",
      "|         ABW|  Aruba|1987|C: Degrees celsius|     0.35|C02|6.9343343|        9|\n",
      "|         ABW|  Aruba|1988|C: Degrees celsius|    -0.07|C02| 9.507862|       10|\n",
      "|         ABW|  Aruba|1989|C: Degrees celsius|    -0.38|C02|10.036492|       11|\n",
      "|         ABW|  Aruba|1990|C: Degrees celsius|    -0.19|C02|7.4133935|       12|\n",
      "|         ABW|  Aruba|1991|C: Degrees celsius|    -0.25|C02|7.8268685|       13|\n",
      "|         ABW|  Aruba|1992|C: Degrees celsius|    -0.08|C02| 7.671386|       14|\n",
      "|         ABW|  Aruba|1993|C: Degrees celsius|     0.04|C02| 8.960787|       15|\n",
      "|         ABW|  Aruba|1994|C: Degrees celsius|    -0.27|C02| 8.825372|       16|\n",
      "|         ABW|  Aruba|1995|C: Degrees celsius|     0.31|C02| 9.175451|       17|\n",
      "|         ABW|  Aruba|1996|C: Degrees celsius|    -0.07|C02| 9.133246|       18|\n",
      "|         ABW|  Aruba|1997|C: Degrees celsius|    -0.13|C02| 9.263826|       19|\n",
      "|         ABW|  Aruba|1998|C: Degrees celsius|     0.37|C02| 9.554673|       20|\n",
      "+------------+-------+----+------------------+---------+---+---------+---------+\n",
      "only showing top 20 rows\n",
      "\n"
     ]
    }
   ],
   "source": [
    "C02_change_df = C02_change_df.withColumn('Partition', dense_rank().over(Window.partitionBy('COUNTRY_CODE').orderBy('Year')))\n",
    "C02_change_df.show()"
   ]
  },
  {
   "cell_type": "code",
   "execution_count": 47,
   "metadata": {},
   "outputs": [],
   "source": [
    "train, test = C02_change_df.randomSplit([0.8, 0.2], seed=42)"
   ]
  },
  {
   "attachments": {},
   "cell_type": "markdown",
   "metadata": {},
   "source": [
    "## Correlation between Year and Temperature (C02)"
   ]
  },
  {
   "cell_type": "code",
   "execution_count": 48,
   "metadata": {},
   "outputs": [
    {
     "data": {
      "text/plain": [
       "0.6342376498288776"
      ]
     },
     "execution_count": 48,
     "metadata": {},
     "output_type": "execute_result"
    }
   ],
   "source": [
    "C02_change_df.stat.corr('Year', 'OBS_VALUE')"
   ]
  },
  {
   "attachments": {},
   "cell_type": "markdown",
   "metadata": {},
   "source": [
    "## Correlation between Year and Emissions Value (C02)"
   ]
  },
  {
   "cell_type": "code",
   "execution_count": 60,
   "metadata": {},
   "outputs": [
    {
     "data": {
      "text/plain": [
       "0.002194727451085219"
      ]
     },
     "execution_count": 60,
     "metadata": {},
     "output_type": "execute_result"
    }
   ],
   "source": [
    "C02_change_df.stat.corr('Year', 'VALUE')"
   ]
  },
  {
   "attachments": {},
   "cell_type": "markdown",
   "metadata": {},
   "source": [
    "## Correlation between Temperature and Emissions Value (C02)"
   ]
  },
  {
   "cell_type": "code",
   "execution_count": 59,
   "metadata": {},
   "outputs": [
    {
     "data": {
      "text/plain": [
       "0.004596443748761662"
      ]
     },
     "execution_count": 59,
     "metadata": {},
     "output_type": "execute_result"
    }
   ],
   "source": [
    "C02_change_df.stat.corr('VALUE', 'OBS_VALUE')"
   ]
  },
  {
   "attachments": {},
   "cell_type": "markdown",
   "metadata": {},
   "source": [
    "Dataset disproves what this paper said; that temperature rise has a direct relationship with C02. Reason being is that most countries are gradually removing GHGs from their portfolio https://link.springer.com/article/10.1007/s10584-021-03001-7"
   ]
  },
  {
   "cell_type": "code",
   "execution_count": 51,
   "metadata": {},
   "outputs": [
    {
     "name": "stdout",
     "output_type": "stream",
     "text": [
      "+------------+-------+----+------------------+---------+---+---------+---------+\n",
      "|COUNTRY_CODE|Country|Year|      UNIT_MEASURE|OBS_VALUE|POL|    VALUE|Partition|\n",
      "+------------+-------+----+------------------+---------+---+---------+---------+\n",
      "|         ABW|  Aruba|1979|C: Degrees celsius|     0.04|C02|  9.17164|        1|\n",
      "|         ABW|  Aruba|1980|C: Degrees celsius|     0.16|C02| 9.398992|        2|\n",
      "|         ABW|  Aruba|1982|C: Degrees celsius|     -0.3|C02| 9.875782|        4|\n",
      "|         ABW|  Aruba|1983|C: Degrees celsius|     0.07|C02|5.0308514|        5|\n",
      "|         ABW|  Aruba|1984|C: Degrees celsius|    -0.45|C02|12.465213|        6|\n",
      "|         ABW|  Aruba|1986|C: Degrees celsius|    -0.39|C02|2.7804863|        8|\n",
      "|         ABW|  Aruba|1988|C: Degrees celsius|    -0.07|C02| 9.507862|       10|\n",
      "|         ABW|  Aruba|1989|C: Degrees celsius|    -0.38|C02|10.036492|       11|\n",
      "|         ABW|  Aruba|1990|C: Degrees celsius|    -0.19|C02|7.4133935|       12|\n",
      "|         ABW|  Aruba|1991|C: Degrees celsius|    -0.25|C02|7.8268685|       13|\n",
      "|         ABW|  Aruba|1993|C: Degrees celsius|     0.04|C02| 8.960787|       15|\n",
      "|         ABW|  Aruba|1994|C: Degrees celsius|    -0.27|C02| 8.825372|       16|\n",
      "|         ABW|  Aruba|1995|C: Degrees celsius|     0.31|C02| 9.175451|       17|\n",
      "|         ABW|  Aruba|1996|C: Degrees celsius|    -0.07|C02| 9.133246|       18|\n",
      "|         ABW|  Aruba|1997|C: Degrees celsius|    -0.13|C02| 9.263826|       19|\n",
      "|         ABW|  Aruba|1999|C: Degrees celsius|    -0.03|C02|  9.32058|       21|\n",
      "|         ABW|  Aruba|2000|C: Degrees celsius|    -0.27|C02|26.683304|       22|\n",
      "|         ABW|  Aruba|2001|C: Degrees celsius|    -0.07|C02|26.540186|       23|\n",
      "|         ABW|  Aruba|2003|C: Degrees celsius|     0.23|C02|27.624346|       25|\n",
      "|         ABW|  Aruba|2004|C: Degrees celsius|     0.13|C02|27.963486|       26|\n",
      "+------------+-------+----+------------------+---------+---+---------+---------+\n",
      "only showing top 20 rows\n",
      "\n"
     ]
    }
   ],
   "source": [
    "train.show()"
   ]
  },
  {
   "cell_type": "code",
   "execution_count": 52,
   "metadata": {},
   "outputs": [],
   "source": [
    "val, test = test.randomSplit([.5, .5], seed=42)"
   ]
  },
  {
   "cell_type": "code",
   "execution_count": 53,
   "metadata": {},
   "outputs": [
    {
     "name": "stdout",
     "output_type": "stream",
     "text": [
      "+------------+--------------------+----+------------------+---------+---+----------+---------+\n",
      "|COUNTRY_CODE|             Country|Year|      UNIT_MEASURE|OBS_VALUE|POL|     VALUE|Partition|\n",
      "+------------+--------------------+----+------------------+---------+---+----------+---------+\n",
      "|         ABW|               Aruba|1992|C: Degrees celsius|    -0.08|C02|  7.671386|       14|\n",
      "|         ABW|               Aruba|2014|C: Degrees celsius|     0.03|C02|  8.416729|       36|\n",
      "|         AFG|         Afghanistan|1983|C: Degrees celsius|    -0.42|C02|0.25322488|        5|\n",
      "|         AFG|         Afghanistan|1987|C: Degrees celsius|     0.45|C02|0.30164644|        9|\n",
      "|         AFG|         Afghanistan|2013|C: Degrees celsius|     0.66|C02|0.29328325|       35|\n",
      "|         AGO|              Angola|2005|C: Degrees celsius|     0.47|C02| 0.9771234|       27|\n",
      "|         AGO|              Angola|2010|C: Degrees celsius|     0.37|C02|  1.235416|       32|\n",
      "|         AIA|            Anguilla|2021|C: Degrees celsius|      0.3|C02|  9.173204|       32|\n",
      "|         ALB|             Albania|1982|C: Degrees celsius|     0.12|C02|  2.402879|        4|\n",
      "|         ALB|             Albania|1986|C: Degrees celsius|     0.02|C02| 2.5125515|        8|\n",
      "|         AND|             Andorra|1979|C: Degrees celsius|     -1.1|C02|       0.0|        1|\n",
      "|         ARE|United Arab Emirates|1986|C: Degrees celsius|     -0.2|C02| 32.021553|        8|\n",
      "|         ARE|United Arab Emirates|1990|C: Degrees celsius|    -0.22|C02|  27.21022|       12|\n",
      "|         ARE|United Arab Emirates|1993|C: Degrees celsius|    -0.41|C02| 29.490345|       15|\n",
      "|         ARE|United Arab Emirates|1998|C: Degrees celsius|      1.0|C02| 27.620266|       20|\n",
      "|         ARE|United Arab Emirates|2000|C: Degrees celsius|     0.33|C02|  34.12993|       22|\n",
      "|         ARG|           Argentina|2001|C: Degrees celsius|     0.02|C02| 3.5752983|       23|\n",
      "|         ARM|             Armenia|1981|C: Degrees celsius|     0.31|C02|  2.397409|        3|\n",
      "|         ARM|             Armenia|1994|C: Degrees celsius|    -0.32|C02| 0.8042594|       16|\n",
      "|         ARM|             Armenia|2014|C: Degrees celsius|     1.21|C02| 1.9391817|       36|\n",
      "+------------+--------------------+----+------------------+---------+---+----------+---------+\n",
      "only showing top 20 rows\n",
      "\n"
     ]
    }
   ],
   "source": [
    "val.show()"
   ]
  },
  {
   "cell_type": "code",
   "execution_count": 54,
   "metadata": {},
   "outputs": [
    {
     "name": "stdout",
     "output_type": "stream",
     "text": [
      "+------------+-----------+----+------------------+---------+---+----------+---------+\n",
      "|COUNTRY_CODE|    Country|Year|      UNIT_MEASURE|OBS_VALUE|POL|     VALUE|Partition|\n",
      "+------------+-----------+----+------------------+---------+---+----------+---------+\n",
      "|         ABW|      Aruba|1981|C: Degrees celsius|     0.18|C02|  8.902912|        3|\n",
      "|         ABW|      Aruba|1985|C: Degrees celsius|    -0.48|C02| 14.521452|        7|\n",
      "|         ABW|      Aruba|1987|C: Degrees celsius|     0.35|C02| 6.9343343|        9|\n",
      "|         ABW|      Aruba|1998|C: Degrees celsius|     0.37|C02|  9.554673|       20|\n",
      "|         ABW|      Aruba|2002|C: Degrees celsius|      0.1|C02| 26.542625|       24|\n",
      "|         ABW|      Aruba|2008|C: Degrees celsius|     -0.1|C02| 27.104464|       30|\n",
      "|         AFG|Afghanistan|1981|C: Degrees celsius|     0.02|C02|0.17735797|        3|\n",
      "|         AFG|Afghanistan|1982|C: Degrees celsius|    -1.36|C02|0.20762497|        4|\n",
      "|         AFG|Afghanistan|1985|C: Degrees celsius|     0.06|C02|0.33308113|        7|\n",
      "|         AFG|Afghanistan|1991|C: Degrees celsius|    -0.96|C02|0.17815459|       13|\n",
      "|         AFG|Afghanistan|1998|C: Degrees celsius|     0.47|C02|0.06913398|       20|\n",
      "|         AFG|Afghanistan|2005|C: Degrees celsius|    -0.21|C02|0.07740329|       27|\n",
      "|         AGO|     Angola|1993|C: Degrees celsius|    -0.16|C02|0.44088563|       15|\n",
      "|         AGO|     Angola|2009|C: Degrees celsius|     0.27|C02| 1.2246922|       31|\n",
      "|         AGO|     Angola|2011|C: Degrees celsius|    -0.12|C02| 1.2502408|       33|\n",
      "|         AIA|   Anguilla|1990|C: Degrees celsius|    -0.12|C02| 6.1505995|        1|\n",
      "|         AIA|   Anguilla|1992|C: Degrees celsius|     -0.1|C02|  6.167658|        3|\n",
      "|         AIA|   Anguilla|2013|C: Degrees celsius|     0.08|C02|  8.541414|       24|\n",
      "|         ALB|    Albania|1989|C: Degrees celsius|     -0.3|C02| 2.7378602|       11|\n",
      "|         ALB|    Albania|2001|C: Degrees celsius|     0.22|C02| 1.0212585|       23|\n",
      "+------------+-----------+----+------------------+---------+---+----------+---------+\n",
      "only showing top 20 rows\n",
      "\n"
     ]
    }
   ],
   "source": [
    "test.show()"
   ]
  },
  {
   "cell_type": "code",
   "execution_count": 55,
   "metadata": {},
   "outputs": [],
   "source": [
    "dataset_count = (train.count(), val.count(), test.count())"
   ]
  },
  {
   "cell_type": "code",
   "execution_count": 56,
   "metadata": {},
   "outputs": [
    {
     "data": {
      "image/png": "[encoded data removed]",
      "text/plain": [
       "<Figure size 640x480 with 1 Axes>"
      ]
     },
     "metadata": {},
     "output_type": "display_data"
    }
   ],
   "source": [
    "x_axis = ['Training \\n{0}'.format(dataset_count[0]), 'Validation \\n{0}'.format(dataset_count[1]), 'Test \\n{0}'.format(dataset_count[2])]\n",
    "y_axis = list(dataset_count)\n",
    "plt.bar(x_axis, y_axis, color=['#39C7FF', '#F7DB92', '#E898E2'])\n",
    "plt.title('Training & Test Plot')\n",
    "plt.xlabel('Dataset Type')\n",
    "plt.ylabel('Number of Records')\n",
    "plt.grid()\n",
    "plt.show()"
   ]
  },
  {
   "cell_type": "code",
   "execution_count": 62,
   "metadata": {},
   "outputs": [],
   "source": [
    "pipeline_model = pipeline.fit(train) # training the Linear Regression\n",
    "val_predictions = pipeline_model.transform(val)"
   ]
  },
  {
   "cell_type": "code",
   "execution_count": 63,
   "metadata": {},
   "outputs": [],
   "source": [
    "test = test.na.drop() \n",
    "test_predictions = pipeline_model.transform(test)"
   ]
  },
  {
   "cell_type": "code",
   "execution_count": 64,
   "metadata": {},
   "outputs": [
    {
     "name": "stdout",
     "output_type": "stream",
     "text": [
      "RMSE: 0.46016797247568625\n"
     ]
    }
   ],
   "source": [
    "evaluator = RegressionEvaluator(\n",
    "    labelCol = 'OBS_VALUE',\n",
    "    predictionCol = 'prediction',\n",
    "    metricName='rmse'\n",
    ")\n",
    "\n",
    "rmse = evaluator.evaluate(val_predictions)\n",
    "print('RMSE: {0}'.format(rmse))"
   ]
  },
  {
   "cell_type": "code",
   "execution_count": 65,
   "metadata": {},
   "outputs": [
    {
     "name": "stdout",
     "output_type": "stream",
     "text": [
      "R-squared: 0.4018783022435468\n"
     ]
    }
   ],
   "source": [
    "evaluator = RegressionEvaluator(\n",
    "    labelCol = 'OBS_VALUE',\n",
    "    predictionCol = 'prediction',\n",
    "    metricName='r2'\n",
    ")\n",
    "r2 = evaluator.evaluate(val_predictions)\n",
    "print('R-squared:', r2)"
   ]
  },
  {
   "attachments": {},
   "cell_type": "markdown",
   "metadata": {},
   "source": [
    "### For Test"
   ]
  },
  {
   "cell_type": "code",
   "execution_count": 66,
   "metadata": {},
   "outputs": [
    {
     "name": "stdout",
     "output_type": "stream",
     "text": [
      "RMSE: 0.4428010940989865\n"
     ]
    }
   ],
   "source": [
    "evaluator = RegressionEvaluator(\n",
    "    labelCol = 'OBS_VALUE',\n",
    "    predictionCol = 'prediction',\n",
    "    metricName='rmse'\n",
    ")\n",
    "\n",
    "rmse = evaluator.evaluate(test_predictions)\n",
    "print('RMSE: {0}'.format(rmse))"
   ]
  },
  {
   "cell_type": "code",
   "execution_count": 67,
   "metadata": {},
   "outputs": [
    {
     "name": "stdout",
     "output_type": "stream",
     "text": [
      "R-squared: 0.40032558428531706\n"
     ]
    }
   ],
   "source": [
    "evaluator = RegressionEvaluator(\n",
    "    labelCol = 'OBS_VALUE',\n",
    "    predictionCol = 'prediction',\n",
    "    metricName='r2'\n",
    ")\n",
    "r2 = evaluator.evaluate(test_predictions)\n",
    "print('R-squared:', r2)"
   ]
  },
  {
   "cell_type": "code",
   "execution_count": 68,
   "metadata": {},
   "outputs": [
    {
     "name": "stdout",
     "output_type": "stream",
     "text": [
      "Coefficients: [0.004423458617010262,0.02489794161013535,-7.216603150827085e-05]\n",
      "Intercept: -49.74881114812119\n"
     ]
    }
   ],
   "source": [
    "lr_model = pipeline_model.stages[-1]\n",
    "coefficients = lr_model.coefficients\n",
    "intercept = lr_model.intercept\n",
    "print(f\"Coefficients: {coefficients}\")\n",
    "print(f\"Intercept: {intercept}\")"
   ]
  },
  {
   "cell_type": "code",
   "execution_count": 69,
   "metadata": {},
   "outputs": [
    {
     "name": "stdout",
     "output_type": "stream",
     "text": [
      "RMSE: 0.4779042021329973\n",
      "R-squared: 0.3548830118371329\n"
     ]
    }
   ],
   "source": [
    "val2, train2 = val, train\n",
    "train2, val2 = assembler.transform(train2), assembler.transform(val2)\n",
    "train_pd = train2.select('features', 'OBS_VALUE').toPandas()\n",
    "val_pd = val2.select('features', 'OBS_VALUE').toPandas()\n",
    "\n",
    "# tried with this: max_iter=20000, epsilon=0.01\n",
    "svr = SVR()\n",
    "svr.fit(train_pd['features'].tolist(), train_pd['OBS_VALUE'])\n",
    "\n",
    "predictions = svr.predict(val_pd['features'].tolist())\n",
    "\n",
    "y_true = val_pd['OBS_VALUE'].tolist()\n",
    "\n",
    "# Calculate the RMSE\n",
    "mse = mean_squared_error(y_true, predictions)\n",
    "rmse = np.sqrt(mse)\n",
    "\n",
    "print(\"RMSE:\", rmse)\n",
    "\n",
    "# Calculate R-squared\n",
    "r2 = r2_score(y_true, predictions)\n",
    "print(\"R-squared:\", r2)"
   ]
  },
  {
   "cell_type": "code",
   "execution_count": 70,
   "metadata": {},
   "outputs": [
    {
     "name": "stdout",
     "output_type": "stream",
     "text": [
      "RMSE: 0.4568646395383803\n",
      "R-squared: 0.36162886471223143\n"
     ]
    }
   ],
   "source": [
    "test2 = test\n",
    "test2 = test2.na.drop() \n",
    "test2 = assembler.transform(test2)\n",
    "\n",
    "test_pd = test2.select('features', 'OBS_VALUE').toPandas()\n",
    "predictions = svr.predict(test_pd['features'].tolist())\n",
    "\n",
    "y_true = test_pd['OBS_VALUE'].tolist()\n",
    "\n",
    "# Calculate the RMSE\n",
    "mse = mean_squared_error(y_true, predictions)\n",
    "rmse = np.sqrt(mse)\n",
    "\n",
    "print(\"RMSE:\", rmse)\n",
    "\n",
    "# Calculate R-squared\n",
    "r2 = r2_score(y_true, predictions)\n",
    "print(\"R-squared:\", r2)"
   ]
  }
 ],
 "metadata": {
  "kernelspec": {
   "display_name": "base",
   "language": "python",
   "name": "python3"
  },
  "language_info": {
   "codemirror_mode": {
    "name": "ipython",
    "version": 3
   },
   "file_extension": ".py",
   "mimetype": "text/x-python",
   "name": "python",
   "nbconvert_exporter": "python",
   "pygments_lexer": "ipython3",
   "version": "3.9.16"
  },
  "orig_nbformat": 4
 },
 "nbformat": 4,
 "nbformat_minor": 2
}
