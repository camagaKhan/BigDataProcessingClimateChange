{
 "cells": [
  {
   "cell_type": "code",
   "execution_count": 1,
   "metadata": {},
   "outputs": [
    {
     "name": "stdout",
     "output_type": "stream",
     "text": [
      "PySpark found\n"
     ]
    }
   ],
   "source": [
    "from scripts.StreamProcessing import Stream_Data # found in the scripts folder inside StreamProcessing.py. This class uses PySpark"
   ]
  },
  {
   "attachments": {},
   "cell_type": "markdown",
   "metadata": {},
   "source": [
    "https://berkeleyearth.org/data/"
   ]
  },
  {
   "attachments": {},
   "cell_type": "markdown",
   "metadata": {},
   "source": [
    "### A note on block \n",
    "\n",
    "These might take a while as PySpark attempts to download some additional files"
   ]
  },
  {
   "cell_type": "code",
   "execution_count": 2,
   "metadata": {},
   "outputs": [
    {
     "name": "stdout",
     "output_type": "stream",
     "text": [
      "/media/camagakhan/DATA/Repositories/BigDataProcessing/Assignment/BigDataProcessingClimateChange/notebooks/scripts/mysql-connector-j-8.0.33.jar\n",
      "/media/camagakhan/DATA/Repositories/BigDataProcessing/Assignment/BigDataProcessingClimateChange/notebooks/scripts/graphframes-0.8.2-spark3.2-s_2.12.jar\n"
     ]
    },
    {
     "name": "stderr",
     "output_type": "stream",
     "text": [
      "23/05/15 23:48:14 WARN Utils: Your hostname, camagakhan-Inspiron-7577 resolves to a loopback address: 127.0.1.1; using 192.168.6.69 instead (on interface wlp60s0)\n",
      "23/05/15 23:48:14 WARN Utils: Set SPARK_LOCAL_IP if you need to bind to another address\n"
     ]
    },
    {
     "name": "stdout",
     "output_type": "stream",
     "text": [
      ":: loading settings :: url = jar:file:/home/camagakhan/spark-3.4.0-bin-hadoop3/jars/ivy-2.5.1.jar!/org/apache/ivy/core/settings/ivysettings.xml\n"
     ]
    },
    {
     "name": "stderr",
     "output_type": "stream",
     "text": [
      "Ivy Default Cache set to: /home/camagakhan/.ivy2/cache\n",
      "The jars for the packages stored in: /home/camagakhan/.ivy2/jars\n",
      "org.apache.spark#spark-streaming-kafka-0-10_2.12 added as a dependency\n",
      "org.apache.spark#spark-sql-kafka-0-10_2.12 added as a dependency\n",
      ":: resolving dependencies :: org.apache.spark#spark-submit-parent-aeeac8ca-c670-43f2-9738-70f1a9117f29;1.0\n",
      "\tconfs: [default]\n",
      "\tfound org.apache.spark#spark-streaming-kafka-0-10_2.12;3.2.0 in central\n",
      "\tfound org.apache.spark#spark-token-provider-kafka-0-10_2.12;3.2.0 in central\n",
      "\tfound org.apache.kafka#kafka-clients;2.8.0 in central\n",
      "\tfound org.lz4#lz4-java;1.7.1 in central\n",
      "\tfound org.xerial.snappy#snappy-java;1.1.8.4 in central\n",
      "\tfound org.slf4j#slf4j-api;1.7.30 in central\n",
      "\tfound org.apache.hadoop#hadoop-client-runtime;3.3.1 in central\n",
      "\tfound org.spark-project.spark#unused;1.0.0 in central\n",
      "\tfound org.apache.hadoop#hadoop-client-api;3.3.1 in central\n",
      "\tfound org.apache.htrace#htrace-core4;4.1.0-incubating in central\n",
      "\tfound commons-logging#commons-logging;1.1.3 in central\n",
      "\tfound com.google.code.findbugs#jsr305;3.0.0 in central\n",
      "\tfound org.apache.spark#spark-sql-kafka-0-10_2.12;3.2.0 in central\n",
      "\tfound org.apache.commons#commons-pool2;2.6.2 in central\n",
      ":: resolution report :: resolve 665ms :: artifacts dl 22ms\n",
      "\t:: modules in use:\n",
      "\tcom.google.code.findbugs#jsr305;3.0.0 from central in [default]\n",
      "\tcommons-logging#commons-logging;1.1.3 from central in [default]\n",
      "\torg.apache.commons#commons-pool2;2.6.2 from central in [default]\n",
      "\torg.apache.hadoop#hadoop-client-api;3.3.1 from central in [default]\n",
      "\torg.apache.hadoop#hadoop-client-runtime;3.3.1 from central in [default]\n",
      "\torg.apache.htrace#htrace-core4;4.1.0-incubating from central in [default]\n",
      "\torg.apache.kafka#kafka-clients;2.8.0 from central in [default]\n",
      "\torg.apache.spark#spark-sql-kafka-0-10_2.12;3.2.0 from central in [default]\n",
      "\torg.apache.spark#spark-streaming-kafka-0-10_2.12;3.2.0 from central in [default]\n",
      "\torg.apache.spark#spark-token-provider-kafka-0-10_2.12;3.2.0 from central in [default]\n",
      "\torg.lz4#lz4-java;1.7.1 from central in [default]\n",
      "\torg.slf4j#slf4j-api;1.7.30 from central in [default]\n",
      "\torg.spark-project.spark#unused;1.0.0 from central in [default]\n",
      "\torg.xerial.snappy#snappy-java;1.1.8.4 from central in [default]\n",
      "\t---------------------------------------------------------------------\n",
      "\t|                  |            modules            ||   artifacts   |\n",
      "\t|       conf       | number| search|dwnlded|evicted|| number|dwnlded|\n",
      "\t---------------------------------------------------------------------\n",
      "\t|      default     |   14  |   0   |   0   |   0   ||   14  |   0   |\n",
      "\t---------------------------------------------------------------------\n",
      ":: retrieving :: org.apache.spark#spark-submit-parent-aeeac8ca-c670-43f2-9738-70f1a9117f29\n",
      "\tconfs: [default]\n",
      "\t0 artifacts copied, 14 already retrieved (0kB/11ms)\n",
      "23/05/15 23:48:15 WARN NativeCodeLoader: Unable to load native-hadoop library for your platform... using builtin-java classes where applicable\n",
      "Setting default log level to \"WARN\".\n",
      "To adjust logging level use sc.setLogLevel(newLevel). For SparkR, use setLogLevel(newLevel).\n"
     ]
    }
   ],
   "source": [
    "# Initialize the Stream_Data Class using the topic name/s established in the kafka-config/kafka-config.ipynb and add the host of your kafka instance in the host parameter\n",
    "emissions_config = Stream_Data(topics='ghg_data', host='localhost:9092')\n",
    "e_session, query, emissions_df = emissions_config.getData()\n",
    "#temperatures"
   ]
  },
  {
   "cell_type": "code",
   "execution_count": 3,
   "metadata": {},
   "outputs": [
    {
     "name": "stdout",
     "output_type": "stream",
     "text": [
      "/media/camagakhan/DATA/Repositories/BigDataProcessing/Assignment/BigDataProcessingClimateChange/notebooks/scripts/mysql-connector-j-8.0.33.jar\n",
      "/media/camagakhan/DATA/Repositories/BigDataProcessing/Assignment/BigDataProcessingClimateChange/notebooks/scripts/graphframes-0.8.2-spark3.2-s_2.12.jar\n"
     ]
    }
   ],
   "source": [
    "# Initialize the Stream_Data Class using the topic name/s established in the kafka-config/kafka-config.ipynb and add the host of your kafka instance in the host parameter\n",
    "temperature_config = Stream_Data(topics='temperature', host='localhost:9092')\n",
    "t_session, query_temperature, temperature_df = temperature_config.getData()"
   ]
  },
  {
   "attachments": {},
   "cell_type": "markdown",
   "metadata": {},
   "source": [
    "### NOTE\n",
    "Everything is configered while initializing the PySpark Session in the ```StreamProcessing.py``` class. DO NOT remove the ```from graphframes import GraphFrame```, as the jar files are loaded while getting the data from the previous code block"
   ]
  },
  {
   "cell_type": "code",
   "execution_count": 18,
   "metadata": {},
   "outputs": [],
   "source": [
    "from graphframes import GraphFrame\n",
    "import findspark as tt\n",
    "tt.init(emissions_config.getSpark_Path()) \n",
    "from pyspark.sql import functions as F"
   ]
  },
  {
   "cell_type": "code",
   "execution_count": 5,
   "metadata": {},
   "outputs": [
    {
     "name": "stdout",
     "output_type": "stream",
     "text": [
      "DataFrame[REF_AREA: string, Measure: string, UNIT_MEASURE: string, TIME_PERIOD: int, OBS_VALUE: double, REF_CODE: string]\n",
      "DataFrame[PREFIX: string, Country: string, POL: string, Pollutant: string, VAR: string, Variable: string, YEA: int, Year: int, UnitCode: string, Unit: string, PowerCodeCode: string, PowerCode: string, ReferencePeriodCode: float, ReferencePeriod: float, Value: double, FlagCodes: string, Flags: string]\n"
     ]
    }
   ],
   "source": [
    "print(temperature_df)\n",
    "print(emissions_df)"
   ]
  },
  {
   "cell_type": "code",
   "execution_count": 22,
   "metadata": {},
   "outputs": [
    {
     "data": {
      "text/plain": [
       "<pyspark.sql.streaming.query.StreamingQuery at 0x7fd95e762ac0>"
      ]
     },
     "execution_count": 22,
     "metadata": {},
     "output_type": "execute_result"
    },
    {
     "name": "stderr",
     "output_type": "stream",
     "text": [
      "                                                                                \r"
     ]
    },
    {
     "name": "stdout",
     "output_type": "stream",
     "text": [
      "-------------------------------------------\n",
      "Batch: 0\n",
      "-------------------------------------------\n",
      "+------------+-------+----+------------------+---------+---+------------+--------+\n",
      "|COUNTRY_CODE|Country|Year|      UNIT_MEASURE|OBS_VALUE|POL|         VAR|   Value|\n",
      "+------------+-------+----+------------------+---------+---+------------+--------+\n",
      "|         MLT|  Malta|1990|C: Degrees celsius|     0.44|GHG|      ENER_P|  92.454|\n",
      "|         MLT|  Malta|1990|C: Degrees celsius|     0.44|GHG|      LULUCF|  -8.152|\n",
      "|         MLT|  Malta|1990|C: Degrees celsius|     0.44|GHG|  ENER_OSECT| 265.186|\n",
      "|         MLT|  Malta|1990|C: Degrees celsius|     0.44|GHG|    ENER_IND|1765.507|\n",
      "|         MLT|  Malta|1990|C: Degrees celsius|     0.44|GHG|        ENER|2403.135|\n",
      "|         MLT|  Malta|1990|C: Degrees celsius|     0.44|GHG|  INDEX_2000|  93.174|\n",
      "|         MLT|  Malta|1990|C: Degrees celsius|     0.44|GHG|ENER_TRANS_P|  12.251|\n",
      "|         MLT|  Malta|1990|C: Degrees celsius|     0.44|GHG|         AGR|  119.07|\n",
      "|         MLT|  Malta|1990|C: Degrees celsius|     0.44|GHG|  INDEX_1990|   100.0|\n",
      "|         MLT|  Malta|1990|C: Degrees celsius|     0.44|GHG|       AGR_P|   4.581|\n",
      "|         MLT|  Malta|1990|C: Degrees celsius|     0.44|GHG|  ENER_MANUF|  52.834|\n",
      "|         MLT|  Malta|1990|C: Degrees celsius|     0.44|GHG|  ENER_IND_P|  67.923|\n",
      "|         MLT|  Malta|1990|C: Degrees celsius|     0.44|GHG|    ENER_OTH|   1.158|\n",
      "|         MLT|  Malta|1990|C: Degrees celsius|     0.44|GHG|    IND_PROC|   7.781|\n",
      "|         MLT|  Malta|1990|C: Degrees celsius|     0.44|GHG|       WAS_P|   2.666|\n",
      "|         MLT|  Malta|1990|C: Degrees celsius|     0.44|GHG|ENER_OSECT_P|  10.202|\n",
      "|         MLT|  Malta|1990|C: Degrees celsius|     0.44|GHG|         WAS|  69.297|\n",
      "|         MLT|  Malta|1990|C: Degrees celsius|     0.44|GHG|  ENER_TRANS| 318.451|\n",
      "|         MLT|  Malta|1990|C: Degrees celsius|     0.44|GHG|ENER_MANUF_P|   2.033|\n",
      "|         MLT|  Malta|1990|C: Degrees celsius|     0.44|GHG|  TOTAL_LULU|2591.131|\n",
      "+------------+-------+----+------------------+---------+---+------------+--------+\n",
      "only showing top 20 rows\n",
      "\n"
     ]
    }
   ],
   "source": [
    "temp_df = temperature_df.withColumnRenamed('REF_CODE','COUNTRY_CODE')\n",
    "ghg_df = emissions_df.withColumnRenamed('PREFIX', 'COUNTRY_CODE')\n",
    "joined_dataset = temp_df.join(ghg_df, (temp_df.COUNTRY_CODE == ghg_df.COUNTRY_CODE) & (temp_df.TIME_PERIOD == ghg_df.Year) & (ghg_df.COUNTRY_CODE == 'MLT'), 'inner')\n",
    "\n",
    "\n",
    "joined_dataset = joined_dataset.select(temp_df.COUNTRY_CODE, ghg_df.Country,ghg_df.Year, temp_df.UNIT_MEASURE, temp_df.OBS_VALUE, ghg_df.POL, ghg_df.VAR, ghg_df.Value)\n",
    "\n",
    "(joined_dataset.writeStream \n",
    "   .format('console').start())\n",
    "\n",
    "\n",
    "\n",
    "# ran into out of memory exception\n",
    "\n",
    "# We'll be assigning the country_codes as ids to map relationships"
   ]
  }
 ],
 "metadata": {
  "kernelspec": {
   "display_name": "base",
   "language": "python",
   "name": "python3"
  },
  "language_info": {
   "codemirror_mode": {
    "name": "ipython",
    "version": 3
   },
   "file_extension": ".py",
   "mimetype": "text/x-python",
   "name": "python",
   "nbconvert_exporter": "python",
   "pygments_lexer": "ipython3",
   "version": "3.9.16"
  },
  "orig_nbformat": 4
 },
 "nbformat": 4,
 "nbformat_minor": 2
}
