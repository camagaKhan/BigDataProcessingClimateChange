{
 "cells": [
  {
   "attachments": {},
   "cell_type": "markdown",
   "metadata": {},
   "source": [
    "# Run the clean.py ```notebooks > scripts > clean.py``` to remove data from the mySQL tables before running this script."
   ]
  },
  {
   "cell_type": "code",
   "execution_count": 1,
   "metadata": {},
   "outputs": [
    {
     "name": "stdout",
     "output_type": "stream",
     "text": [
      "PySpark found\n"
     ]
    }
   ],
   "source": [
    "from scripts.StreamProcessing import Stream_Data, ClimateChangeDataset # found in the scripts folder inside StreamProcessing.py. This class uses PySpark"
   ]
  },
  {
   "attachments": {},
   "cell_type": "markdown",
   "metadata": {},
   "source": [
    "https://berkeleyearth.org/data/"
   ]
  },
  {
   "attachments": {},
   "cell_type": "markdown",
   "metadata": {},
   "source": [
    "### A note on block \n",
    "\n",
    "These might take a while as PySpark attempts to download some additional files"
   ]
  },
  {
   "cell_type": "code",
   "execution_count": 2,
   "metadata": {},
   "outputs": [
    {
     "name": "stdout",
     "output_type": "stream",
     "text": [
      "/media/camagakhan/DATA/Repositories/BigDataProcessing/Assignment/BigDataProcessingClimateChange/notebooks/scripts/mysql-connector-j-8.0.33.jar\n",
      "/media/camagakhan/DATA/Repositories/BigDataProcessing/Assignment/BigDataProcessingClimateChange/notebooks/scripts/graphframes-0.8.2-spark3.2-s_2.12.jar\n"
     ]
    },
    {
     "name": "stderr",
     "output_type": "stream",
     "text": [
      "23/05/22 00:35:24 WARN Utils: Your hostname, camagakhan-Inspiron-7577 resolves to a loopback address: 127.0.1.1; using 192.168.6.119 instead (on interface wlp60s0)\n",
      "23/05/22 00:35:24 WARN Utils: Set SPARK_LOCAL_IP if you need to bind to another address\n"
     ]
    },
    {
     "name": "stdout",
     "output_type": "stream",
     "text": [
      ":: loading settings :: url = jar:file:/home/camagakhan/spark-3.4.0-bin-hadoop3/jars/ivy-2.5.1.jar!/org/apache/ivy/core/settings/ivysettings.xml\n"
     ]
    },
    {
     "name": "stderr",
     "output_type": "stream",
     "text": [
      "Ivy Default Cache set to: /home/camagakhan/.ivy2/cache\n",
      "The jars for the packages stored in: /home/camagakhan/.ivy2/jars\n",
      "org.apache.spark#spark-streaming-kafka-0-10_2.12 added as a dependency\n",
      "org.apache.spark#spark-sql-kafka-0-10_2.12 added as a dependency\n",
      ":: resolving dependencies :: org.apache.spark#spark-submit-parent-5dfb6cc2-9b14-4e9e-84b3-2f5625bf1e89;1.0\n",
      "\tconfs: [default]\n",
      "\tfound org.apache.spark#spark-streaming-kafka-0-10_2.12;3.2.0 in central\n",
      "\tfound org.apache.spark#spark-token-provider-kafka-0-10_2.12;3.2.0 in central\n",
      "\tfound org.apache.kafka#kafka-clients;2.8.0 in central\n",
      "\tfound org.lz4#lz4-java;1.7.1 in central\n",
      "\tfound org.xerial.snappy#snappy-java;1.1.8.4 in central\n",
      "\tfound org.slf4j#slf4j-api;1.7.30 in central\n",
      "\tfound org.apache.hadoop#hadoop-client-runtime;3.3.1 in central\n",
      "\tfound org.spark-project.spark#unused;1.0.0 in central\n",
      "\tfound org.apache.hadoop#hadoop-client-api;3.3.1 in central\n",
      "\tfound org.apache.htrace#htrace-core4;4.1.0-incubating in central\n",
      "\tfound commons-logging#commons-logging;1.1.3 in central\n",
      "\tfound com.google.code.findbugs#jsr305;3.0.0 in central\n",
      "\tfound org.apache.spark#spark-sql-kafka-0-10_2.12;3.2.0 in central\n",
      "\tfound org.apache.commons#commons-pool2;2.6.2 in central\n",
      ":: resolution report :: resolve 636ms :: artifacts dl 24ms\n",
      "\t:: modules in use:\n",
      "\tcom.google.code.findbugs#jsr305;3.0.0 from central in [default]\n",
      "\tcommons-logging#commons-logging;1.1.3 from central in [default]\n",
      "\torg.apache.commons#commons-pool2;2.6.2 from central in [default]\n",
      "\torg.apache.hadoop#hadoop-client-api;3.3.1 from central in [default]\n",
      "\torg.apache.hadoop#hadoop-client-runtime;3.3.1 from central in [default]\n",
      "\torg.apache.htrace#htrace-core4;4.1.0-incubating from central in [default]\n",
      "\torg.apache.kafka#kafka-clients;2.8.0 from central in [default]\n",
      "\torg.apache.spark#spark-sql-kafka-0-10_2.12;3.2.0 from central in [default]\n",
      "\torg.apache.spark#spark-streaming-kafka-0-10_2.12;3.2.0 from central in [default]\n",
      "\torg.apache.spark#spark-token-provider-kafka-0-10_2.12;3.2.0 from central in [default]\n",
      "\torg.lz4#lz4-java;1.7.1 from central in [default]\n",
      "\torg.slf4j#slf4j-api;1.7.30 from central in [default]\n",
      "\torg.spark-project.spark#unused;1.0.0 from central in [default]\n",
      "\torg.xerial.snappy#snappy-java;1.1.8.4 from central in [default]\n",
      "\t---------------------------------------------------------------------\n",
      "\t|                  |            modules            ||   artifacts   |\n",
      "\t|       conf       | number| search|dwnlded|evicted|| number|dwnlded|\n",
      "\t---------------------------------------------------------------------\n",
      "\t|      default     |   14  |   0   |   0   |   0   ||   14  |   0   |\n",
      "\t---------------------------------------------------------------------\n",
      ":: retrieving :: org.apache.spark#spark-submit-parent-5dfb6cc2-9b14-4e9e-84b3-2f5625bf1e89\n",
      "\tconfs: [default]\n",
      "\t0 artifacts copied, 14 already retrieved (0kB/16ms)\n",
      "23/05/22 00:35:26 WARN NativeCodeLoader: Unable to load native-hadoop library for your platform... using builtin-java classes where applicable\n",
      "Setting default log level to \"WARN\".\n",
      "To adjust logging level use sc.setLogLevel(newLevel). For SparkR, use setLogLevel(newLevel).\n"
     ]
    }
   ],
   "source": [
    "# Initialize the Stream_Data Class using the topic name/s established in the kafka-config/kafka-config.ipynb and add the host of your kafka instance in the host parameter\n",
    "emissions_config = Stream_Data(topics='ghg_data', host='localhost:9092')\n",
    "e_session, query, emissions_df = emissions_config.getData()\n",
    "#temperatures"
   ]
  },
  {
   "cell_type": "code",
   "execution_count": null,
   "metadata": {},
   "outputs": [
    {
     "name": "stdout",
     "output_type": "stream",
     "text": [
      "/media/camagakhan/DATA/Repositories/BigDataProcessing/Assignment/BigDataProcessingClimateChange/notebooks/scripts/mysql-connector-j-8.0.33.jar\n",
      "/media/camagakhan/DATA/Repositories/BigDataProcessing/Assignment/BigDataProcessingClimateChange/notebooks/scripts/graphframes-0.8.2-spark3.2-s_2.12.jar\n"
     ]
    },
    {
     "name": "stderr",
     "output_type": "stream",
     "text": [
      "Loading class `com.mysql.jdbc.Driver'. This is deprecated. The new driver class is `com.mysql.cj.jdbc.Driver'. The driver is automatically registered via the SPI and manual loading of the driver class is generally unnecessary.\n",
      "                                                                                \r"
     ]
    },
    {
     "name": "stdout",
     "output_type": "stream",
     "text": [
      "-------------------------------------------\n",
      "Batch: 0\n",
      "-------------------------------------------\n",
      "+-----------+---------+----+-----+\n",
      "|    Country|Pollutant|Year|Value|\n",
      "+-----------+---------+----+-----+\n",
      "|Afghanistan|      GHG|1990| 9.58|\n",
      "|Afghanistan|      GHG|1991| 9.81|\n",
      "|Afghanistan|      GHG|1992| 9.03|\n",
      "|Afghanistan|      GHG|1993| 9.11|\n",
      "|Afghanistan|      GHG|1994| 9.15|\n",
      "|Afghanistan|      GHG|1995| 9.58|\n",
      "|Afghanistan|      GHG|1996|10.61|\n",
      "|Afghanistan|      GHG|1997|11.58|\n",
      "|Afghanistan|      GHG|1998| 12.4|\n",
      "|Afghanistan|      GHG|1999|13.28|\n",
      "|Afghanistan|      GHG|2000| 11.5|\n",
      "|Afghanistan|      GHG|2001|12.37|\n",
      "|Afghanistan|      GHG|2002|15.01|\n",
      "|Afghanistan|      GHG|2003|15.65|\n",
      "|Afghanistan|      GHG|2004|15.44|\n",
      "|Afghanistan|      GHG|2005|16.35|\n",
      "|Afghanistan|      GHG|2006|16.87|\n",
      "|Afghanistan|      GHG|2007|17.26|\n",
      "|Afghanistan|      GHG|2008|20.66|\n",
      "|Afghanistan|      GHG|2009|22.75|\n",
      "+-----------+---------+----+-----+\n",
      "only showing top 20 rows\n",
      "\n"
     ]
    },
    {
     "name": "stderr",
     "output_type": "stream",
     "text": [
      "                                                                                \r"
     ]
    },
    {
     "name": "stdout",
     "output_type": "stream",
     "text": [
      "-------------------------------------------\n",
      "Batch: 0\n",
      "-------------------------------------------\n",
      "+-----------+----+----+------------+\n",
      "|     Entity|Code|Year|       Value|\n",
      "+-----------+----+----+------------+\n",
      "|Afghanistan| AFG|1949|0.0019223358|\n",
      "|Afghanistan| AFG|1950| 0.011265611|\n",
      "|Afghanistan| AFG|1951| 0.012097932|\n",
      "|Afghanistan| AFG|1952| 0.011946474|\n",
      "|Afghanistan| AFG|1953| 0.013684762|\n",
      "|Afghanistan| AFG|1954| 0.013511202|\n",
      "|Afghanistan| AFG|1955| 0.019303724|\n",
      "|Afghanistan| AFG|1956| 0.022651596|\n",
      "|Afghanistan| AFG|1957|   0.0357019|\n",
      "|Afghanistan| AFG|1958| 0.039568856|\n",
      "|Afghanistan| AFG|1959|  0.04541344|\n",
      "|Afghanistan| AFG|1960|  0.04800073|\n",
      "|Afghanistan| AFG|1961|  0.05583506|\n",
      "|Afghanistan| AFG|1962|  0.07677442|\n",
      "|Afghanistan| AFG|1963|  0.07717596|\n",
      "|Afghanistan| AFG|1964|  0.08963178|\n",
      "|Afghanistan| AFG|1965|  0.10526929|\n",
      "|Afghanistan| AFG|1966|  0.11153449|\n",
      "|Afghanistan| AFG|1967|  0.12805797|\n",
      "|Afghanistan| AFG|1968| 0.119381055|\n",
      "+-----------+----+----+------------+\n",
      "only showing top 20 rows\n",
      "\n"
     ]
    },
    {
     "name": "stderr",
     "output_type": "stream",
     "text": [
      "[Stage 2:>                                                          (0 + 1) / 1]\r"
     ]
    }
   ],
   "source": [
    "# Initialize the Stream_Data Class using the topic name/s established in the kafka-config/kafka-config.ipynb and add the host of your kafka instance in the host parameter\n",
    "C02_config = Stream_Data(topics='C02', host='localhost:9092')\n",
    "c02_session, query_c02, C02_df = C02_config.getData()"
   ]
  },
  {
   "cell_type": "code",
   "execution_count": null,
   "metadata": {},
   "outputs": [
    {
     "name": "stdout",
     "output_type": "stream",
     "text": [
      "/media/camagakhan/DATA/Repositories/BigDataProcessing/Assignment/BigDataProcessingClimateChange/notebooks/scripts/mysql-connector-j-8.0.33.jar\n",
      "/media/camagakhan/DATA/Repositories/BigDataProcessing/Assignment/BigDataProcessingClimateChange/notebooks/scripts/graphframes-0.8.2-spark3.2-s_2.12.jar\n"
     ]
    },
    {
     "name": "stderr",
     "output_type": "stream",
     "text": [
      "                                                                                \r"
     ]
    },
    {
     "name": "stdout",
     "output_type": "stream",
     "text": [
      "-------------------------------------------\n",
      "Batch: 0\n",
      "-------------------------------------------\n",
      "+--------+--------------------+------------------+-----------+---------+--------+\n",
      "|REF_AREA|             Measure|      UNIT_MEASURE|TIME_PERIOD|OBS_VALUE|REF_CODE|\n",
      "+--------+--------------------+------------------+-----------+---------+--------+\n",
      "|   Yemen|TEMP_C: Annual te...|C: Degrees celsius|       1979|    -0.55|     YEM|\n",
      "|   Yemen|TEMP_C: Annual te...|C: Degrees celsius|       1980|    -0.17|     YEM|\n",
      "|   Yemen|TEMP_C: Annual te...|C: Degrees celsius|       1981|    -0.48|     YEM|\n",
      "|   Yemen|TEMP_C: Annual te...|C: Degrees celsius|       1982|    -0.53|     YEM|\n",
      "|   Yemen|TEMP_C: Annual te...|C: Degrees celsius|       1983|    -0.89|     YEM|\n",
      "|   Yemen|TEMP_C: Annual te...|C: Degrees celsius|       1984|    -0.82|     YEM|\n",
      "|   Yemen|TEMP_C: Annual te...|C: Degrees celsius|       1985|    -0.43|     YEM|\n",
      "|   Yemen|TEMP_C: Annual te...|C: Degrees celsius|       1986|    -0.53|     YEM|\n",
      "|   Yemen|TEMP_C: Annual te...|C: Degrees celsius|       1987|    -0.12|     YEM|\n",
      "|   Yemen|TEMP_C: Annual te...|C: Degrees celsius|       1988|    -0.14|     YEM|\n",
      "|   Yemen|TEMP_C: Annual te...|C: Degrees celsius|       1989|    -0.64|     YEM|\n",
      "|   Yemen|TEMP_C: Annual te...|C: Degrees celsius|       1990|     0.31|     YEM|\n",
      "|   Yemen|TEMP_C: Annual te...|C: Degrees celsius|       1991|     0.05|     YEM|\n",
      "|   Yemen|TEMP_C: Annual te...|C: Degrees celsius|       1992|    -0.59|     YEM|\n",
      "|   Yemen|TEMP_C: Annual te...|C: Degrees celsius|       1993|    -0.28|     YEM|\n",
      "|   Yemen|TEMP_C: Annual te...|C: Degrees celsius|       1994|    -0.02|     YEM|\n",
      "|   Yemen|TEMP_C: Annual te...|C: Degrees celsius|       1995|    -0.09|     YEM|\n",
      "|   Yemen|TEMP_C: Annual te...|C: Degrees celsius|       1996|    -0.17|     YEM|\n",
      "|   Yemen|TEMP_C: Annual te...|C: Degrees celsius|       1997|     0.36|     YEM|\n",
      "|   Yemen|TEMP_C: Annual te...|C: Degrees celsius|       1998|     0.64|     YEM|\n",
      "+--------+--------------------+------------------+-----------+---------+--------+\n",
      "only showing top 20 rows\n",
      "\n"
     ]
    },
    {
     "name": "stderr",
     "output_type": "stream",
     "text": [
      "[Stage 5:>                                                          (0 + 1) / 1]\r"
     ]
    }
   ],
   "source": [
    "# Initialize the Stream_Data Class using the topic name/s established in the kafka-config/kafka-config.ipynb and add the host of your kafka instance in the host parameter\n",
    "temperature_config = Stream_Data(topics='temperature', host='localhost:9092')\n",
    "t_session, query_temperature, temperature_df = temperature_config.getData()"
   ]
  },
  {
   "attachments": {},
   "cell_type": "markdown",
   "metadata": {},
   "source": [
    "### NOTE\n",
    "Everything is configered while initializing the PySpark Session in the ```StreamProcessing.py``` class. DO NOT remove the ```from graphframes import GraphFrame```, as the jar files are loaded while getting the data from the previous code block"
   ]
  },
  {
   "cell_type": "code",
   "execution_count": 5,
   "metadata": {},
   "outputs": [
    {
     "name": "stderr",
     "output_type": "stream",
     "text": [
      "                                                                                \r"
     ]
    }
   ],
   "source": [
    "from graphframes import GraphFrame\n",
    "import findspark as tt\n",
    "tt.init(emissions_config.getSpark_Path()) \n",
    "from pyspark.sql import functions as F\n",
    "from pyspark.sql.functions import dense_rank, lit\n",
    "from pyspark.sql.window import Window"
   ]
  },
  {
   "cell_type": "code",
   "execution_count": 6,
   "metadata": {},
   "outputs": [
    {
     "name": "stdout",
     "output_type": "stream",
     "text": [
      "DataFrame[REF_AREA: string, Measure: string, UNIT_MEASURE: string, TIME_PERIOD: int, OBS_VALUE: double, REF_CODE: string]\n",
      "DataFrame[Country: string, Pollutant: string, Year: int, Value: double]\n",
      "DataFrame[Entity: string, Code: string, Year: int, Value: double]\n"
     ]
    }
   ],
   "source": [
    "print(temperature_df)\n",
    "print(emissions_df)\n",
    "print(C02_df)"
   ]
  },
  {
   "cell_type": "code",
   "execution_count": 7,
   "metadata": {},
   "outputs": [
    {
     "data": {
      "text/plain": [
       "['Country', 'Pollutant', 'Year', 'Value']"
      ]
     },
     "execution_count": 7,
     "metadata": {},
     "output_type": "execute_result"
    }
   ],
   "source": [
    "emissions_df.columns"
   ]
  },
  {
   "cell_type": "code",
   "execution_count": 8,
   "metadata": {},
   "outputs": [
    {
     "name": "stdout",
     "output_type": "stream",
     "text": [
      "['Country', 'POL', 'Year', 'Value', 'COUNTRY_CODE']\n",
      "['Country', 'COUNTRY_CODE', 'Year', 'Value', 'POL']\n"
     ]
    }
   ],
   "source": [
    "#temp_df = temperature_df.withColumnRenamed('REF_CODE','COUNTRY_CODE')\n",
    "ghg_df = emissions_df.withColumnRenamed('Pollutant','POL')\n",
    "ghg_df = ghg_df.withColumn('COUNTRY_CODE',lit('MLT'))\n",
    "\n",
    "C02_temp_df = C02_df.withColumnRenamed('Entity','Country')\n",
    "C02_temp_df = C02_temp_df.withColumn('POL', lit('C02'))\n",
    "C02_temp_df = C02_temp_df.withColumnRenamed('Code','COUNTRY_CODE')\n",
    "\n",
    "print(ghg_df.columns)\n",
    "print(C02_temp_df.columns)\n",
    "\n",
    "# myDataset = temp_df.join(ghg_df, (temp_df.REF_AREA == ghg_df.Country) & (temp_df.TIME_PERIOD == ghg_df.Year) & (temp_df.COUNTRY_CODE == 'MLT'), 'inner')\n",
    "# myDataset = myDataset.select(temp_df.COUNTRY_CODE, ghg_df.Country,ghg_df.Year, temp_df.UNIT_MEASURE, temp_df.OBS_VALUE, ghg_df.POL, ghg_df.Value)\n",
    "# C02ML = temp_df.join(C02_temp_df, (temp_df.COUNTRY_CODE == C02_temp_df.Code) & (temp_df.TIME_PERIOD == C02_temp_df.Year) & (temp_df.COUNTRY_CODE == 'MLT'), 'inner')\n",
    "# C02ML = C02ML.select(temp_df.COUNTRY_CODE, C02_temp_df.Country, C02_temp_df.Year, temp_df.UNIT_MEASURE, temp_df.OBS_VALUE, C02_temp_df.POL, C02_temp_df.Value)\n",
    "# ran into out of memory exception\n",
    "\n",
    "# We'll be assigning the country_codes as ids to map relationships\n"
   ]
  },
  {
   "cell_type": "code",
   "execution_count": 9,
   "metadata": {},
   "outputs": [],
   "source": [
    "myDataset = ghg_df.select(ghg_df.COUNTRY_CODE, ghg_df.Country, ghg_df.Year, ghg_df.POL, ghg_df.Value).where(ghg_df.Country == 'Malta')\n",
    "C02ML = C02_temp_df.select(C02_temp_df.COUNTRY_CODE, C02_temp_df.Country, C02_temp_df.Year, C02_temp_df.POL, C02_temp_df.Value).where(C02_temp_df.COUNTRY_CODE == 'MLT')"
   ]
  },
  {
   "attachments": {},
   "cell_type": "markdown",
   "metadata": {},
   "source": [
    "Store the Dataset before we attempt to use models"
   ]
  },
  {
   "cell_type": "code",
   "execution_count": 10,
   "metadata": {},
   "outputs": [
    {
     "name": "stderr",
     "output_type": "stream",
     "text": [
      "                                                                                \r"
     ]
    }
   ],
   "source": [
    "config_train = Stream_Data(topics=None, host='localhost:9092')\n",
    "config_train.storeData('climate_change', myDataset) # we are about to store the new dataset in a mySQL table"
   ]
  },
  {
   "cell_type": "code",
   "execution_count": 11,
   "metadata": {},
   "outputs": [
    {
     "name": "stderr",
     "output_type": "stream",
     "text": [
      "                                                                                \r"
     ]
    }
   ],
   "source": [
    "C02_Config_train = Stream_Data(topics=None, host='localhost:9092')\n",
    "C02_Config_train.storeData('C02ML', C02ML)"
   ]
  },
  {
   "attachments": {},
   "cell_type": "markdown",
   "metadata": {},
   "source": [
    "# Machine Learning Section."
   ]
  },
  {
   "cell_type": "code",
   "execution_count": 12,
   "metadata": {},
   "outputs": [],
   "source": [
    "from pyspark.ml.feature import StandardScaler, VectorAssembler\n",
    "from pyspark.ml.regression import LinearRegression\n",
    "from pyspark.ml.evaluation import RegressionEvaluator\n",
    "from pyspark.ml import Pipeline"
   ]
  },
  {
   "attachments": {},
   "cell_type": "markdown",
   "metadata": {},
   "source": [
    "# For Greenhouse Gases"
   ]
  },
  {
   "attachments": {},
   "cell_type": "markdown",
   "metadata": {},
   "source": [
    "In the following code block we are setting up the Linear Regression to set up a model to predict the temperatures based on the given Green house Gases levels"
   ]
  },
  {
   "cell_type": "code",
   "execution_count": 13,
   "metadata": {},
   "outputs": [
    {
     "name": "stdout",
     "output_type": "stream",
     "text": [
      "/media/camagakhan/DATA/Repositories/BigDataProcessing/Assignment/BigDataProcessingClimateChange/notebooks/scripts/graphframes-0.8.2-spark3.2-s_2.12.jar\n",
      "+------------+-------+----+------------+---------+---+-----+\n",
      "|COUNTRY_CODE|Country|Year|UNIT_MEASURE|OBS_VALUE|POL|Value|\n",
      "+------------+-------+----+------------+---------+---+-----+\n",
      "|         MLT|  Malta|1990|        null|     null|GHG| 2.53|\n",
      "|         MLT|  Malta|1991|        null|     null|GHG| 2.43|\n",
      "|         MLT|  Malta|1992|        null|     null|GHG| 2.41|\n",
      "|         MLT|  Malta|1993|        null|     null|GHG| 3.06|\n",
      "|         MLT|  Malta|1994|        null|     null|GHG| 2.76|\n",
      "|         MLT|  Malta|1995|        null|     null|GHG| 2.63|\n",
      "|         MLT|  Malta|1996|        null|     null|GHG| 2.58|\n",
      "|         MLT|  Malta|1997|        null|     null|GHG| 2.73|\n",
      "|         MLT|  Malta|1998|        null|     null|GHG| 2.64|\n",
      "|         MLT|  Malta|1999|        null|     null|GHG| 2.68|\n",
      "|         MLT|  Malta|2000|        null|     null|GHG| 2.41|\n",
      "|         MLT|  Malta|2001|        null|     null|GHG| 2.78|\n",
      "|         MLT|  Malta|2002|        null|     null|GHG| 2.62|\n",
      "|         MLT|  Malta|2003|        null|     null|GHG| 2.92|\n",
      "|         MLT|  Malta|2004|        null|     null|GHG| 2.93|\n",
      "|         MLT|  Malta|2005|        null|     null|GHG| 2.98|\n",
      "|         MLT|  Malta|2006|        null|     null|GHG| 3.06|\n",
      "|         MLT|  Malta|2007|        null|     null|GHG| 3.15|\n",
      "|         MLT|  Malta|2008|        null|     null|GHG| 3.09|\n",
      "|         MLT|  Malta|2009|        null|     null|GHG|  2.9|\n",
      "+------------+-------+----+------------+---------+---+-----+\n",
      "only showing top 20 rows\n",
      "\n"
     ]
    }
   ],
   "source": [
    "climate_change_df = ClimateChangeDataset().loadDataset()\n",
    "climate_change_df.show()\n",
    "# Don't mind the nulls"
   ]
  },
  {
   "cell_type": "code",
   "execution_count": 14,
   "metadata": {},
   "outputs": [
    {
     "data": {
      "text/plain": [
       "-0.20751094772714487"
      ]
     },
     "execution_count": 14,
     "metadata": {},
     "output_type": "execute_result"
    }
   ],
   "source": [
    "climate_change_df.stat.corr('Year', 'Value')"
   ]
  },
  {
   "attachments": {},
   "cell_type": "markdown",
   "metadata": {},
   "source": [
    "### Dataset Analysis"
   ]
  },
  {
   "cell_type": "code",
   "execution_count": 15,
   "metadata": {},
   "outputs": [],
   "source": [
    "import matplotlib.pyplot as plt"
   ]
  },
  {
   "cell_type": "code",
   "execution_count": 16,
   "metadata": {},
   "outputs": [
    {
     "data": {
      "text/html": [
       "<div>\n",
       "<style scoped>\n",
       "    .dataframe tbody tr th:only-of-type {\n",
       "        vertical-align: middle;\n",
       "    }\n",
       "\n",
       "    .dataframe tbody tr th {\n",
       "        vertical-align: top;\n",
       "    }\n",
       "\n",
       "    .dataframe thead th {\n",
       "        text-align: right;\n",
       "    }\n",
       "</style>\n",
       "<table border=\"1\" class=\"dataframe\">\n",
       "  <thead>\n",
       "    <tr style=\"text-align: right;\">\n",
       "      <th></th>\n",
       "      <th>POL</th>\n",
       "      <th>COUNTRY_CODE</th>\n",
       "      <th>Country</th>\n",
       "      <th>Year</th>\n",
       "      <th>Value</th>\n",
       "    </tr>\n",
       "  </thead>\n",
       "  <tbody>\n",
       "    <tr>\n",
       "      <th>0</th>\n",
       "      <td>GHG</td>\n",
       "      <td>MLT</td>\n",
       "      <td>Malta</td>\n",
       "      <td>1990</td>\n",
       "      <td>2.53</td>\n",
       "    </tr>\n",
       "    <tr>\n",
       "      <th>1</th>\n",
       "      <td>GHG</td>\n",
       "      <td>MLT</td>\n",
       "      <td>Malta</td>\n",
       "      <td>1991</td>\n",
       "      <td>2.43</td>\n",
       "    </tr>\n",
       "    <tr>\n",
       "      <th>2</th>\n",
       "      <td>GHG</td>\n",
       "      <td>MLT</td>\n",
       "      <td>Malta</td>\n",
       "      <td>1992</td>\n",
       "      <td>2.41</td>\n",
       "    </tr>\n",
       "    <tr>\n",
       "      <th>3</th>\n",
       "      <td>GHG</td>\n",
       "      <td>MLT</td>\n",
       "      <td>Malta</td>\n",
       "      <td>1993</td>\n",
       "      <td>3.06</td>\n",
       "    </tr>\n",
       "    <tr>\n",
       "      <th>4</th>\n",
       "      <td>GHG</td>\n",
       "      <td>MLT</td>\n",
       "      <td>Malta</td>\n",
       "      <td>1994</td>\n",
       "      <td>2.76</td>\n",
       "    </tr>\n",
       "    <tr>\n",
       "      <th>5</th>\n",
       "      <td>GHG</td>\n",
       "      <td>MLT</td>\n",
       "      <td>Malta</td>\n",
       "      <td>1995</td>\n",
       "      <td>2.63</td>\n",
       "    </tr>\n",
       "    <tr>\n",
       "      <th>6</th>\n",
       "      <td>GHG</td>\n",
       "      <td>MLT</td>\n",
       "      <td>Malta</td>\n",
       "      <td>1996</td>\n",
       "      <td>2.58</td>\n",
       "    </tr>\n",
       "    <tr>\n",
       "      <th>7</th>\n",
       "      <td>GHG</td>\n",
       "      <td>MLT</td>\n",
       "      <td>Malta</td>\n",
       "      <td>1997</td>\n",
       "      <td>2.73</td>\n",
       "    </tr>\n",
       "    <tr>\n",
       "      <th>8</th>\n",
       "      <td>GHG</td>\n",
       "      <td>MLT</td>\n",
       "      <td>Malta</td>\n",
       "      <td>1998</td>\n",
       "      <td>2.64</td>\n",
       "    </tr>\n",
       "    <tr>\n",
       "      <th>9</th>\n",
       "      <td>GHG</td>\n",
       "      <td>MLT</td>\n",
       "      <td>Malta</td>\n",
       "      <td>1999</td>\n",
       "      <td>2.68</td>\n",
       "    </tr>\n",
       "    <tr>\n",
       "      <th>10</th>\n",
       "      <td>GHG</td>\n",
       "      <td>MLT</td>\n",
       "      <td>Malta</td>\n",
       "      <td>2000</td>\n",
       "      <td>2.41</td>\n",
       "    </tr>\n",
       "    <tr>\n",
       "      <th>11</th>\n",
       "      <td>GHG</td>\n",
       "      <td>MLT</td>\n",
       "      <td>Malta</td>\n",
       "      <td>2001</td>\n",
       "      <td>2.78</td>\n",
       "    </tr>\n",
       "    <tr>\n",
       "      <th>12</th>\n",
       "      <td>GHG</td>\n",
       "      <td>MLT</td>\n",
       "      <td>Malta</td>\n",
       "      <td>2002</td>\n",
       "      <td>2.62</td>\n",
       "    </tr>\n",
       "    <tr>\n",
       "      <th>13</th>\n",
       "      <td>GHG</td>\n",
       "      <td>MLT</td>\n",
       "      <td>Malta</td>\n",
       "      <td>2003</td>\n",
       "      <td>2.92</td>\n",
       "    </tr>\n",
       "    <tr>\n",
       "      <th>14</th>\n",
       "      <td>GHG</td>\n",
       "      <td>MLT</td>\n",
       "      <td>Malta</td>\n",
       "      <td>2004</td>\n",
       "      <td>2.93</td>\n",
       "    </tr>\n",
       "    <tr>\n",
       "      <th>15</th>\n",
       "      <td>GHG</td>\n",
       "      <td>MLT</td>\n",
       "      <td>Malta</td>\n",
       "      <td>2005</td>\n",
       "      <td>2.98</td>\n",
       "    </tr>\n",
       "    <tr>\n",
       "      <th>16</th>\n",
       "      <td>GHG</td>\n",
       "      <td>MLT</td>\n",
       "      <td>Malta</td>\n",
       "      <td>2006</td>\n",
       "      <td>3.06</td>\n",
       "    </tr>\n",
       "    <tr>\n",
       "      <th>17</th>\n",
       "      <td>GHG</td>\n",
       "      <td>MLT</td>\n",
       "      <td>Malta</td>\n",
       "      <td>2007</td>\n",
       "      <td>3.15</td>\n",
       "    </tr>\n",
       "    <tr>\n",
       "      <th>18</th>\n",
       "      <td>GHG</td>\n",
       "      <td>MLT</td>\n",
       "      <td>Malta</td>\n",
       "      <td>2008</td>\n",
       "      <td>3.09</td>\n",
       "    </tr>\n",
       "    <tr>\n",
       "      <th>19</th>\n",
       "      <td>GHG</td>\n",
       "      <td>MLT</td>\n",
       "      <td>Malta</td>\n",
       "      <td>2009</td>\n",
       "      <td>2.90</td>\n",
       "    </tr>\n",
       "    <tr>\n",
       "      <th>20</th>\n",
       "      <td>GHG</td>\n",
       "      <td>MLT</td>\n",
       "      <td>Malta</td>\n",
       "      <td>2010</td>\n",
       "      <td>3.00</td>\n",
       "    </tr>\n",
       "    <tr>\n",
       "      <th>21</th>\n",
       "      <td>GHG</td>\n",
       "      <td>MLT</td>\n",
       "      <td>Malta</td>\n",
       "      <td>2011</td>\n",
       "      <td>2.99</td>\n",
       "    </tr>\n",
       "    <tr>\n",
       "      <th>22</th>\n",
       "      <td>GHG</td>\n",
       "      <td>MLT</td>\n",
       "      <td>Malta</td>\n",
       "      <td>2012</td>\n",
       "      <td>3.17</td>\n",
       "    </tr>\n",
       "    <tr>\n",
       "      <th>23</th>\n",
       "      <td>GHG</td>\n",
       "      <td>MLT</td>\n",
       "      <td>Malta</td>\n",
       "      <td>2013</td>\n",
       "      <td>2.84</td>\n",
       "    </tr>\n",
       "    <tr>\n",
       "      <th>24</th>\n",
       "      <td>GHG</td>\n",
       "      <td>MLT</td>\n",
       "      <td>Malta</td>\n",
       "      <td>2014</td>\n",
       "      <td>2.86</td>\n",
       "    </tr>\n",
       "    <tr>\n",
       "      <th>25</th>\n",
       "      <td>GHG</td>\n",
       "      <td>MLT</td>\n",
       "      <td>Malta</td>\n",
       "      <td>2015</td>\n",
       "      <td>2.18</td>\n",
       "    </tr>\n",
       "    <tr>\n",
       "      <th>26</th>\n",
       "      <td>GHG</td>\n",
       "      <td>MLT</td>\n",
       "      <td>Malta</td>\n",
       "      <td>2016</td>\n",
       "      <td>1.88</td>\n",
       "    </tr>\n",
       "    <tr>\n",
       "      <th>27</th>\n",
       "      <td>GHG</td>\n",
       "      <td>MLT</td>\n",
       "      <td>Malta</td>\n",
       "      <td>2017</td>\n",
       "      <td>2.02</td>\n",
       "    </tr>\n",
       "    <tr>\n",
       "      <th>28</th>\n",
       "      <td>GHG</td>\n",
       "      <td>MLT</td>\n",
       "      <td>Malta</td>\n",
       "      <td>2018</td>\n",
       "      <td>2.04</td>\n",
       "    </tr>\n",
       "    <tr>\n",
       "      <th>29</th>\n",
       "      <td>GHG</td>\n",
       "      <td>MLT</td>\n",
       "      <td>Malta</td>\n",
       "      <td>2019</td>\n",
       "      <td>2.13</td>\n",
       "    </tr>\n",
       "  </tbody>\n",
       "</table>\n",
       "</div>"
      ],
      "text/plain": [
       "    POL COUNTRY_CODE Country  Year  Value\n",
       "0   GHG          MLT   Malta  1990   2.53\n",
       "1   GHG          MLT   Malta  1991   2.43\n",
       "2   GHG          MLT   Malta  1992   2.41\n",
       "3   GHG          MLT   Malta  1993   3.06\n",
       "4   GHG          MLT   Malta  1994   2.76\n",
       "5   GHG          MLT   Malta  1995   2.63\n",
       "6   GHG          MLT   Malta  1996   2.58\n",
       "7   GHG          MLT   Malta  1997   2.73\n",
       "8   GHG          MLT   Malta  1998   2.64\n",
       "9   GHG          MLT   Malta  1999   2.68\n",
       "10  GHG          MLT   Malta  2000   2.41\n",
       "11  GHG          MLT   Malta  2001   2.78\n",
       "12  GHG          MLT   Malta  2002   2.62\n",
       "13  GHG          MLT   Malta  2003   2.92\n",
       "14  GHG          MLT   Malta  2004   2.93\n",
       "15  GHG          MLT   Malta  2005   2.98\n",
       "16  GHG          MLT   Malta  2006   3.06\n",
       "17  GHG          MLT   Malta  2007   3.15\n",
       "18  GHG          MLT   Malta  2008   3.09\n",
       "19  GHG          MLT   Malta  2009   2.90\n",
       "20  GHG          MLT   Malta  2010   3.00\n",
       "21  GHG          MLT   Malta  2011   2.99\n",
       "22  GHG          MLT   Malta  2012   3.17\n",
       "23  GHG          MLT   Malta  2013   2.84\n",
       "24  GHG          MLT   Malta  2014   2.86\n",
       "25  GHG          MLT   Malta  2015   2.18\n",
       "26  GHG          MLT   Malta  2016   1.88\n",
       "27  GHG          MLT   Malta  2017   2.02\n",
       "28  GHG          MLT   Malta  2018   2.04\n",
       "29  GHG          MLT   Malta  2019   2.13"
      ]
     },
     "execution_count": 16,
     "metadata": {},
     "output_type": "execute_result"
    }
   ],
   "source": [
    "import matplotlib.pyplot as plt\n",
    "dataset = climate_change_df.toPandas()[['POL','COUNTRY_CODE', 'Country', 'Year', 'Value']]\n",
    "dataset"
   ]
  },
  {
   "cell_type": "code",
   "execution_count": 17,
   "metadata": {},
   "outputs": [
    {
     "data": {
      "image/png": "[encoded data removed]",
      "text/plain": [
       "<Figure size 640x480 with 1 Axes>"
      ]
     },
     "metadata": {},
     "output_type": "display_data"
    }
   ],
   "source": [
    "x, y = dataset['Year'], dataset['Value']\n",
    "plt.scatter(x,y, color='red', label='GHG Emissions')\n",
    "plt.plot(x,y, color='black')\n",
    "plt.grid()\n",
    "plt.legend()\n",
    "plt.title('MALTA GREEN HOUSE EMISSIONS')\n",
    "plt.xlabel('Emissions Values (Excluding LULUCF)')\n",
    "plt.ylabel('Years')\n",
    "plt.show()"
   ]
  },
  {
   "attachments": {},
   "cell_type": "markdown",
   "metadata": {},
   "source": [
    "The Graph shows quite a scatter of Emissions. This is not linear."
   ]
  },
  {
   "cell_type": "code",
   "execution_count": 18,
   "metadata": {},
   "outputs": [],
   "source": [
    "from sklearn.preprocessing import PolynomialFeatures\n",
    "from sklearn.linear_model import LinearRegression\n",
    "from sklearn.model_selection import train_test_split\n",
    "import numpy as np"
   ]
  },
  {
   "cell_type": "code",
   "execution_count": 19,
   "metadata": {},
   "outputs": [
    {
     "data": {
      "text/plain": [
       "(24, 6)"
      ]
     },
     "execution_count": 19,
     "metadata": {},
     "output_type": "execute_result"
    }
   ],
   "source": [
    "x_train, x_test = train_test_split(dataset, test_size=.2, random_state=1)#dataset[dataset['Year'] <= 2005], dataset[dataset['Year'] > 2005]\n",
    "\n",
    "(len(x_train), len(x_test))"
   ]
  },
  {
   "cell_type": "code",
   "execution_count": 20,
   "metadata": {},
   "outputs": [],
   "source": [
    "X, y = x_train[['Year']], x_train['Value']\n",
    "x_test, y_test = x_test[['Year']], x_test['Value']\n"
   ]
  },
  {
   "cell_type": "code",
   "execution_count": 21,
   "metadata": {},
   "outputs": [
    {
     "name": "stdout",
     "output_type": "stream",
     "text": [
      "0.6389902974060053\n",
      "Predicted value: 17    3.15\n",
      "21    2.99\n",
      "10    2.41\n",
      "19    2.90\n",
      "14    2.93\n",
      "20    3.00\n",
      "Name: Value, dtype: float64 [2.97962783 2.87329701 2.80942699 2.95313158 2.94320145 2.9205642 ]\n"
     ]
    }
   ],
   "source": [
    "from sklearn.metrics import mean_squared_error, r2_score, mean_absolute_error\n",
    "DEGREE = 4\n",
    "poly_features = PolynomialFeatures(degree=DEGREE)\n",
    "x_poly = poly_features.fit_transform(X)\n",
    "\n",
    "# Fit the polynomial regression model\n",
    "model = LinearRegression()\n",
    "model.fit(x_poly, y)\n",
    "\n",
    "# Predict using the trained model\n",
    "x_test_poly = poly_features.transform(x_test)\n",
    "y_pred = model.predict(x_test_poly)\n",
    "\n",
    "print(model.score(x_poly,y))\n",
    "\n",
    "# Print the predicted value\n",
    "print(\"Predicted value:\", y_test, y_pred)"
   ]
  },
  {
   "cell_type": "code",
   "execution_count": 22,
   "metadata": {},
   "outputs": [
    {
     "name": "stdout",
     "output_type": "stream",
     "text": [
      "Mean Squared Error (MSE): 0.03524924497497566\n",
      "Mean Absolute Error (MAE): 0.13871182883158326\n",
      "Coefficient of Determination (R-squared): 0.3422284785926166\n"
     ]
    }
   ],
   "source": [
    "mse = mean_squared_error(y_test, y_pred)\n",
    "mae = mean_absolute_error(y_test, y_pred)\n",
    "r2 = r2_score(y_test, y_pred)\n",
    "\n",
    "# Print the regression evaluation metrics\n",
    "print('Mean Squared Error (MSE):', mse)\n",
    "print('Mean Absolute Error (MAE):', mae)\n",
    "print('Coefficient of Determination (R-squared):', r2)"
   ]
  },
  {
   "cell_type": "code",
   "execution_count": 23,
   "metadata": {},
   "outputs": [
    {
     "data": {
      "text/plain": [
       "array([ 0.99055007,  0.65962321, -2.64893401])"
      ]
     },
     "execution_count": 23,
     "metadata": {},
     "output_type": "execute_result"
    }
   ],
   "source": [
    "p = np.array([2022,2023,2030]).reshape(-1,1)\n",
    "to_predict = poly_features.transform(p)\n",
    "y_pred30 = model.predict(to_predict)\n",
    "y_pred30"
   ]
  },
  {
   "cell_type": "code",
   "execution_count": 24,
   "metadata": {},
   "outputs": [
    {
     "data": {
      "image/png": "[encoded data removed]",
      "text/plain": [
       "<Figure size 640x480 with 1 Axes>"
      ]
     },
     "metadata": {},
     "output_type": "display_data"
    }
   ],
   "source": [
    "# Plot the original data points and the polynomial regression curve\n",
    "\n",
    "x_range = np.linspace(X.min(), X.max(), 100).reshape(-1, 1)\n",
    "x_range_poly = poly_features.transform(x_range)\n",
    "\n",
    "# Predict using the trained model\n",
    "y_pred2 = model.predict(x_range_poly)\n",
    "\n",
    "plt.scatter(X, y, label='Data Points')\n",
    "plt.scatter(x_test, y_pred, label='My Predicted Data Points', color='green')\n",
    "plt.scatter(p, y_pred30, color='orange', label='future')\n",
    "plt.plot(x_range, y_pred2, color='r', label='Polynomial Regression')\n",
    "plt.xlabel('X')\n",
    "plt.ylabel('y')\n",
    "plt.legend()\n",
    "plt.title('Polynomial Regression')\n",
    "plt.show()"
   ]
  },
  {
   "attachments": {},
   "cell_type": "markdown",
   "metadata": {},
   "source": [
    "# For C02"
   ]
  },
  {
   "cell_type": "code",
   "execution_count": 25,
   "metadata": {},
   "outputs": [
    {
     "name": "stdout",
     "output_type": "stream",
     "text": [
      "/media/camagakhan/DATA/Repositories/BigDataProcessing/Assignment/BigDataProcessingClimateChange/notebooks/scripts/graphframes-0.8.2-spark3.2-s_2.12.jar\n",
      "+------------+-------+----+------------+---------+---+----------+\n",
      "|COUNTRY_CODE|Country|Year|UNIT_MEASURE|OBS_VALUE|POL|     VALUE|\n",
      "+------------+-------+----+------------+---------+---+----------+\n",
      "|         MLT|  Malta|1950|        null|     null|C02| 0.8410551|\n",
      "|         MLT|  Malta|1951|        null|     null|C02| 0.8600911|\n",
      "|         MLT|  Malta|1952|        null|     null|C02| 0.7935993|\n",
      "|         MLT|  Malta|1953|        null|     null|C02| 0.7412122|\n",
      "|         MLT|  Malta|1954|        null|     null|C02|0.96855265|\n",
      "|         MLT|  Malta|1955|        null|     null|C02| 1.0529842|\n",
      "|         MLT|  Malta|1956|        null|     null|C02| 0.9028419|\n",
      "|         MLT|  Malta|1957|        null|     null|C02| 0.9363603|\n",
      "|         MLT|  Malta|1958|        null|     null|C02|0.98331326|\n",
      "|         MLT|  Malta|1959|        null|     null|C02| 1.1525705|\n",
      "|         MLT|  Malta|1960|        null|     null|C02| 1.0092409|\n",
      "|         MLT|  Malta|1961|        null|     null|C02|0.86946464|\n",
      "|         MLT|  Malta|1962|        null|     null|C02| 0.9829996|\n",
      "|         MLT|  Malta|1963|        null|     null|C02|  1.232688|\n",
      "|         MLT|  Malta|1964|        null|     null|C02| 1.5110607|\n",
      "|         MLT|  Malta|1965|        null|     null|C02| 1.4480484|\n",
      "|         MLT|  Malta|1966|        null|     null|C02| 1.2818606|\n",
      "|         MLT|  Malta|1967|        null|     null|C02| 1.6250976|\n",
      "|         MLT|  Malta|1968|        null|     null|C02| 2.0044205|\n",
      "|         MLT|  Malta|1969|        null|     null|C02| 2.0608792|\n",
      "+------------+-------+----+------------+---------+---+----------+\n",
      "only showing top 20 rows\n",
      "\n"
     ]
    }
   ],
   "source": [
    "C02_change_df = ClimateChangeDataset(table='C02ML').loadDataset()\n",
    "C02_change_df.show()"
   ]
  },
  {
   "cell_type": "code",
   "execution_count": 135,
   "metadata": {},
   "outputs": [],
   "source": [
    "# C02_change_df = C02_change_df.withColumn('Partition', dense_rank().over(Window.partitionBy('COUNTRY_CODE').orderBy('Year')))\n",
    "# C02_change_df.show()"
   ]
  },
  {
   "cell_type": "code",
   "execution_count": 47,
   "metadata": {},
   "outputs": [],
   "source": [
    "# train, test = C02_change_df.randomSplit([0.8, 0.2], seed=42)"
   ]
  },
  {
   "attachments": {},
   "cell_type": "markdown",
   "metadata": {},
   "source": [
    "## Correlation between Year and C02 Emissions (C02)"
   ]
  },
  {
   "cell_type": "code",
   "execution_count": 26,
   "metadata": {},
   "outputs": [
    {
     "data": {
      "text/plain": [
       "0.7516966106289076"
      ]
     },
     "execution_count": 26,
     "metadata": {},
     "output_type": "execute_result"
    }
   ],
   "source": [
    "C02_change_df.stat.corr('Year', 'Value')"
   ]
  },
  {
   "attachments": {},
   "cell_type": "markdown",
   "metadata": {},
   "source": [
    "Dataset disproves what this paper said; that temperature rise has a direct relationship with C02. Reason being is that most countries are gradually removing GHGs from their portfolio https://link.springer.com/article/10.1007/s10584-021-03001-7"
   ]
  },
  {
   "attachments": {},
   "cell_type": "markdown",
   "metadata": {},
   "source": [
    "### Predictions =]"
   ]
  },
  {
   "cell_type": "code",
   "execution_count": 27,
   "metadata": {},
   "outputs": [
    {
     "data": {
      "text/html": [
       "<div>\n",
       "<style scoped>\n",
       "    .dataframe tbody tr th:only-of-type {\n",
       "        vertical-align: middle;\n",
       "    }\n",
       "\n",
       "    .dataframe tbody tr th {\n",
       "        vertical-align: top;\n",
       "    }\n",
       "\n",
       "    .dataframe thead th {\n",
       "        text-align: right;\n",
       "    }\n",
       "</style>\n",
       "<table border=\"1\" class=\"dataframe\">\n",
       "  <thead>\n",
       "    <tr style=\"text-align: right;\">\n",
       "      <th></th>\n",
       "      <th>COUNTRY_CODE</th>\n",
       "      <th>Country</th>\n",
       "      <th>Year</th>\n",
       "      <th>POL</th>\n",
       "      <th>VALUE</th>\n",
       "    </tr>\n",
       "  </thead>\n",
       "  <tbody>\n",
       "    <tr>\n",
       "      <th>0</th>\n",
       "      <td>MLT</td>\n",
       "      <td>Malta</td>\n",
       "      <td>1950</td>\n",
       "      <td>C02</td>\n",
       "      <td>0.841055</td>\n",
       "    </tr>\n",
       "    <tr>\n",
       "      <th>1</th>\n",
       "      <td>MLT</td>\n",
       "      <td>Malta</td>\n",
       "      <td>1951</td>\n",
       "      <td>C02</td>\n",
       "      <td>0.860091</td>\n",
       "    </tr>\n",
       "    <tr>\n",
       "      <th>2</th>\n",
       "      <td>MLT</td>\n",
       "      <td>Malta</td>\n",
       "      <td>1952</td>\n",
       "      <td>C02</td>\n",
       "      <td>0.793599</td>\n",
       "    </tr>\n",
       "    <tr>\n",
       "      <th>3</th>\n",
       "      <td>MLT</td>\n",
       "      <td>Malta</td>\n",
       "      <td>1953</td>\n",
       "      <td>C02</td>\n",
       "      <td>0.741212</td>\n",
       "    </tr>\n",
       "    <tr>\n",
       "      <th>4</th>\n",
       "      <td>MLT</td>\n",
       "      <td>Malta</td>\n",
       "      <td>1954</td>\n",
       "      <td>C02</td>\n",
       "      <td>0.968553</td>\n",
       "    </tr>\n",
       "    <tr>\n",
       "      <th>...</th>\n",
       "      <td>...</td>\n",
       "      <td>...</td>\n",
       "      <td>...</td>\n",
       "      <td>...</td>\n",
       "      <td>...</td>\n",
       "    </tr>\n",
       "    <tr>\n",
       "      <th>67</th>\n",
       "      <td>MLT</td>\n",
       "      <td>Malta</td>\n",
       "      <td>2017</td>\n",
       "      <td>C02</td>\n",
       "      <td>3.192608</td>\n",
       "    </tr>\n",
       "    <tr>\n",
       "      <th>68</th>\n",
       "      <td>MLT</td>\n",
       "      <td>Malta</td>\n",
       "      <td>2018</td>\n",
       "      <td>C02</td>\n",
       "      <td>3.146826</td>\n",
       "    </tr>\n",
       "    <tr>\n",
       "      <th>69</th>\n",
       "      <td>MLT</td>\n",
       "      <td>Malta</td>\n",
       "      <td>2019</td>\n",
       "      <td>C02</td>\n",
       "      <td>3.274508</td>\n",
       "    </tr>\n",
       "    <tr>\n",
       "      <th>70</th>\n",
       "      <td>MLT</td>\n",
       "      <td>Malta</td>\n",
       "      <td>2020</td>\n",
       "      <td>C02</td>\n",
       "      <td>3.103779</td>\n",
       "    </tr>\n",
       "    <tr>\n",
       "      <th>71</th>\n",
       "      <td>MLT</td>\n",
       "      <td>Malta</td>\n",
       "      <td>2021</td>\n",
       "      <td>C02</td>\n",
       "      <td>3.273186</td>\n",
       "    </tr>\n",
       "  </tbody>\n",
       "</table>\n",
       "<p>72 rows × 5 columns</p>\n",
       "</div>"
      ],
      "text/plain": [
       "   COUNTRY_CODE Country  Year  POL     VALUE\n",
       "0           MLT   Malta  1950  C02  0.841055\n",
       "1           MLT   Malta  1951  C02  0.860091\n",
       "2           MLT   Malta  1952  C02  0.793599\n",
       "3           MLT   Malta  1953  C02  0.741212\n",
       "4           MLT   Malta  1954  C02  0.968553\n",
       "..          ...     ...   ...  ...       ...\n",
       "67          MLT   Malta  2017  C02  3.192608\n",
       "68          MLT   Malta  2018  C02  3.146826\n",
       "69          MLT   Malta  2019  C02  3.274508\n",
       "70          MLT   Malta  2020  C02  3.103779\n",
       "71          MLT   Malta  2021  C02  3.273186\n",
       "\n",
       "[72 rows x 5 columns]"
      ]
     },
     "execution_count": 27,
     "metadata": {},
     "output_type": "execute_result"
    }
   ],
   "source": [
    "malta = C02_change_df.toPandas()[['COUNTRY_CODE', 'Country', 'Year', 'POL', 'VALUE']]\n",
    "malta"
   ]
  },
  {
   "cell_type": "code",
   "execution_count": 28,
   "metadata": {},
   "outputs": [
    {
     "data": {
      "text/plain": [
       "0.574907100982483"
      ]
     },
     "execution_count": 28,
     "metadata": {},
     "output_type": "execute_result"
    }
   ],
   "source": [
    "from sklearn.model_selection import train_test_split\n",
    "x_train, x_test = train_test_split(malta, test_size=.1, random_state=1) #malta[malta['Year'] <=2017], malta[malta['Year'] > 2017] #train_test_split(malta, test_size=0.25, random_state=42)\n",
    "X, y_train = x_train[['Year']], x_train['VALUE']\n",
    "\n",
    "reg = LinearRegression().fit(X, y_train)\n",
    "reg.score(X, y_train)"
   ]
  },
  {
   "cell_type": "code",
   "execution_count": 29,
   "metadata": {},
   "outputs": [
    {
     "data": {
      "image/png": "[encoded data removed]",
      "text/plain": [
       "<Figure size 640x480 with 1 Axes>"
      ]
     },
     "metadata": {},
     "output_type": "display_data"
    }
   ],
   "source": [
    "x, y = malta['Year'], malta['VALUE']\n",
    "plt.scatter(x,y, color='red', label='CO2')\n",
    "plt.plot(x,y, color='black')\n",
    "plt.grid()\n",
    "plt.legend()\n",
    "plt.title('MALTA CO2 EMISSIONS')\n",
    "plt.xlabel('Emissions Values (Excluding LULUCF)')\n",
    "plt.ylabel('Years')\n",
    "plt.show()"
   ]
  },
  {
   "cell_type": "code",
   "execution_count": 30,
   "metadata": {},
   "outputs": [
    {
     "name": "stdout",
     "output_type": "stream",
     "text": [
      "0.9361730840761657\n"
     ]
    }
   ],
   "source": [
    "from sklearn.metrics import mean_squared_error, r2_score, mean_absolute_error\n",
    "#Transform input feature to include polynomial terms\n",
    "degree = 4  # Set the degree of the polynomial\n",
    "poly_features = PolynomialFeatures(degree=degree)\n",
    "x_poly = poly_features.fit_transform(X)\n",
    "\n",
    "# Fit the polynomial regression model\n",
    "model = LinearRegression()\n",
    "model.fit(x_poly, y_train)\n",
    "\n",
    "print(model.score(x_poly,y_train))"
   ]
  },
  {
   "cell_type": "code",
   "execution_count": 31,
   "metadata": {},
   "outputs": [],
   "source": [
    "x_test, y_test = x_test[['Year']], x_test['VALUE']"
   ]
  },
  {
   "cell_type": "code",
   "execution_count": 32,
   "metadata": {},
   "outputs": [
    {
     "name": "stdout",
     "output_type": "stream",
     "text": [
      "0.9631802821614388\n",
      "Predicted value: 19    2.060879\n",
      "55    6.447007\n",
      "10    1.009241\n",
      "68    3.146826\n",
      "53    7.275362\n",
      "26    2.366697\n",
      "39    5.993396\n",
      "54    6.898066\n",
      "Name: VALUE, dtype: float64 [1.63955836 6.57306395 0.76145865 3.68207491 6.65102498 2.87344172\n",
      " 5.39941143 6.62223116]\n"
     ]
    }
   ],
   "source": [
    "x_test_poly = poly_features.transform(x_test)\n",
    "y_pred = model.predict(x_test_poly)\n",
    "\n",
    "print(model.score(x_test_poly,y_test))\n",
    "\n",
    "# Print the predicted value\n",
    "print(\"Predicted value:\", y_test, y_pred)"
   ]
  },
  {
   "cell_type": "code",
   "execution_count": 33,
   "metadata": {},
   "outputs": [
    {
     "name": "stdout",
     "output_type": "stream",
     "text": [
      "Mean Squared Error (MSE): 0.20209740584005476\n",
      "Mean Absolute Error (MAE): 0.41641387342311903\n",
      "Coefficient of Determination (R-squared): 0.9631802821614388\n"
     ]
    }
   ],
   "source": [
    "mse = mean_squared_error(y_test, y_pred)\n",
    "mae = mean_absolute_error(y_test, y_pred)\n",
    "r2 = r2_score(y_test, y_pred)\n",
    "\n",
    "# Print the regression evaluation metrics\n",
    "print('Mean Squared Error (MSE):', mse)\n",
    "print('Mean Absolute Error (MAE):', mae)\n",
    "print('Coefficient of Determination (R-squared):', r2)"
   ]
  },
  {
   "cell_type": "code",
   "execution_count": 34,
   "metadata": {},
   "outputs": [
    {
     "data": {
      "text/plain": [
       "array([ 1.77159953,  1.20561484, -3.84614773])"
      ]
     },
     "execution_count": 34,
     "metadata": {},
     "output_type": "execute_result"
    }
   ],
   "source": [
    "p = np.array([2022,2023,2030]).reshape(-1,1)\n",
    "to_predict = poly_features.transform(p)\n",
    "y_pred30 = model.predict(to_predict)\n",
    "y_pred30"
   ]
  },
  {
   "cell_type": "code",
   "execution_count": 35,
   "metadata": {},
   "outputs": [
    {
     "data": {
      "image/png": "[encoded data removed]",
      "text/plain": [
       "<Figure size 750x350 with 1 Axes>"
      ]
     },
     "metadata": {},
     "output_type": "display_data"
    }
   ],
   "source": [
    "# Plot the original data points and the polynomial regression curve\n",
    "\n",
    "x_range = np.linspace(X.min(), X.max(), 100).reshape(-1, 1)\n",
    "x_range_poly = poly_features.transform(x_range)\n",
    "\n",
    "# Predict using the trained model\n",
    "y_pred2 = model.predict(x_range_poly)\n",
    "plt.rcParams[\"figure.figsize\"] = [7.50, 3.50]\n",
    "plt.rcParams[\"figure.autolayout\"] = True\n",
    "plt.scatter(X, y_train, label='Data Points')\n",
    "plt.scatter(x_test, y_pred, label='My Predicted Data Points', color='green')\n",
    "plt.scatter(p, y_pred30, color='orange', label='future')\n",
    "plt.plot(x_range, y_pred2, color='r', label='Polynomial Regression')\n",
    "plt.xlabel('Year')\n",
    "plt.ylabel('Emissions')\n",
    "plt.grid()\n",
    "plt.legend()\n",
    "plt.title('Polynomial Regression')\n",
    "plt.show()"
   ]
  }
 ],
 "metadata": {
  "kernelspec": {
   "display_name": "base",
   "language": "python",
   "name": "python3"
  },
  "language_info": {
   "codemirror_mode": {
    "name": "ipython",
    "version": 3
   },
   "file_extension": ".py",
   "mimetype": "text/x-python",
   "name": "python",
   "nbconvert_exporter": "python",
   "pygments_lexer": "ipython3",
   "version": "3.9.16"
  },
  "orig_nbformat": 4
 },
 "nbformat": 4,
 "nbformat_minor": 2
}
